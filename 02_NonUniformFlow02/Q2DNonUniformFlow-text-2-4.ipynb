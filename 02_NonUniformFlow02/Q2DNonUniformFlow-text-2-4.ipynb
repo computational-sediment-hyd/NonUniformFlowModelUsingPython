{
 "cells": [
  {
   "cell_type": "markdown",
   "id": "e6efec26",
   "metadata": {},
   "source": [
    "# 準二次元不等流計算2/4：一般断面の不等流計算\n",
    "\n",
    "- [LICENSE](https://raw.githubusercontent.com/computational-sediment-hyd/NonUniformFlowModelUsingPython/main/LICENSE)"
   ]
  },
  {
   "cell_type": "markdown",
   "id": "2058ea4e",
   "metadata": {},
   "source": [
    "## はじめに\n",
    "\n",
    " - 下図に示す実河川ような横断面形状は一般断面や自然河道断面などと呼ばれる。前回は矩形断面を対象として不等流計算を行ったが今回は一般断面を対象とする。\n",
    " - このような実務者向けの計算テクニックは水理公式集、河川砂防技術基準などに一部記述はあるのものの参考書籍が少ない。"
   ]
  },
  {
   "cell_type": "code",
   "execution_count": 1,
   "id": "90194fc4",
   "metadata": {},
   "outputs": [
    {
     "data": {
      "image/png": "[encoded data removed]",
      "text/plain": [
       "<Figure size 640x480 with 1 Axes>"
      ]
     },
     "metadata": {},
     "output_type": "display_data"
    }
   ],
   "source": [
    "import matplotlib.pyplot as plt\n",
    "x=[0, 5,93,100,200,206,294,300]\n",
    "y=[6, 3.5, 3.5,  0,  0,  3,  3,  6]\n",
    "plt.plot(x,y, c='k')\n",
    "plt.show()                # 描画"
   ]
  },
  {
   "cell_type": "markdown",
   "id": "e0a46b47",
   "metadata": {},
   "source": [
    "---"
   ]
  },
  {
   "cell_type": "markdown",
   "id": "a3fdb3f1",
   "metadata": {},
   "source": [
    "## 基礎式\n",
    "\n",
    "一般断面の不等流計算の基礎式は次式を用いる。\n",
    "\n",
    "$$\n",
    "\\begin{align}\n",
    "& \\dfrac{d}{dx}\\left( \\frac{Q^2}{2gA^2} + H \\right) = -\\dfrac{\\tau}{\\rho g A} \n",
    "\\end{align}\n",
    "$$\n",
    "\n",
    "ここに、$Q$:流量、$H$：水位、$A$：河積、$\\tau$：コントロールボリュームに作用する力とする。\n",
    "\n",
    "前項で示した矩形断面の式と比較して以下の変更を行っている。\n",
    " - エネルギー保存則をベースとした式形としたが、一般断面の計算では摩擦損失以外の抵抗を考慮するため、運動量保存則をベースとした式形とした。それにより、右辺の生成項の式形が変更されている。\n",
    " - $h+z_b$(圧力項+重力項)を$H$に書き換えている。\n",
    "\n",
    "---\n",
    "\n",
    "後者について補足すると、\n",
    "例えば、下図のように、WL1、WL2と2つの水位が与えらた場合にそれぞれ$h,z_b$は定義できるだろうか。\n",
    "それぞれの定義は難しい上に$z_b$は水位によって変わることが理解できる。これが、一般断面の大きな特徴であり、**水位によって理論的な（物理的に意味を持つ）河床高が変わる。**\n",
    "$h,z_b$の2変数を同時に解くことはできないため、$h+z_b \\equiv H$として$H$のみを変数として計算を行なう。\n"
   ]
  },
  {
   "cell_type": "code",
   "execution_count": 2,
   "id": "ba739b3e",
   "metadata": {},
   "outputs": [
    {
     "data": {
      "image/png": "[encoded data removed]",
      "text/plain": [
       "<Figure size 640x480 with 1 Axes>"
      ]
     },
     "metadata": {},
     "output_type": "display_data"
    }
   ],
   "source": [
    "import matplotlib.pyplot as plt\n",
    "x=[0, 5,93,100,200,206,294,300]\n",
    "y=[6, 3.5, 3.5,  0,  0,  3,  3,  6]\n",
    "plt.plot(x,y,c='k')\n",
    "plt.axhline(y=5,c='b',label='WL1')\n",
    "plt.axhline(y=3.3,c='b',ls='dashed',label='WL2')\n",
    "plt.legend()\n",
    "plt.show()                # 描画"
   ]
  },
  {
   "cell_type": "markdown",
   "id": "b453537a",
   "metadata": {},
   "source": [
    "マニング則についても以下のとおり若干の変更を加える。\n",
    "\n",
    "$$\n",
    "\\begin{align}\n",
    " v &= \\dfrac{1}{n}i_e^{1/2}R^{2/3} \\\\\n",
    " Q &= \\dfrac{1}{n}i_e^{1/2}\\dfrac{A^{5/3}}{S^{2/3}} \\\\\n",
    " Q &= K i_e^{1/2} \\\\\n",
    " K &\\equiv \\dfrac{A^{5/3}}{nS^{2/3}} \n",
    "\\end{align}\n",
    "$$\n",
    "\n",
    "ここに、$Q$:流量、$H$：水位、$A$：河積、$v$：流速、$R=A/S$：径深、$S$：潤辺、$K$：通水能、$n$：マニングの粗度係数とする。\n",
    "\n",
    "水位$A$、潤辺$S$、粗度係数$n$は、水位$H$の関数となる。式の簡略化のため、これらを合わせた通水能$K$を用いることがある。\n",
    "\n",
    "--- \n",
    "\n",
    "運動方程式の生成項が摩擦損失のみの場合、マニング則を用いると以下のとおりになる。\n",
    "\n",
    "$$\n",
    "\\begin{align}\n",
    " \\dfrac{\\tau}{\\rho g A} = \\dfrac{Q^2}{K^2}\n",
    "\\end{align}\n",
    "$$"
   ]
  },
  {
   "cell_type": "markdown",
   "id": "93105f74",
   "metadata": {},
   "source": [
    "---"
   ]
  },
  {
   "cell_type": "markdown",
   "id": "10c29d1d",
   "metadata": {},
   "source": [
    "## 限界水深、等流水深の定義"
   ]
  },
  {
   "cell_type": "markdown",
   "id": "1c3e97f9",
   "metadata": {},
   "source": [
    "一般断面の基礎式を用いて、限界水深、等流水深を矩形断面と同様に定義で設定することは難しいため、便宜的に以下のとおりに設定する。\n",
    "\n",
    "### 等流水深\n",
    "\n",
    "全ての損失による水頭の勾配が河床勾配$i_b$と釣り合う状態を等流と定義してその水深を等流水深とする。\n",
    "なお、一般断面では水深を用いないため、正確には等流時の水位（以降、等流水位と定義）となる。\n",
    "\n",
    "$$\n",
    "\\begin{align}\n",
    " \\dfrac{\\tau}{\\rho g A} = i_b\n",
    "\\end{align}\n",
    "$$\n",
    "\n",
    "生成項が摩擦損失のみの場合は、\n",
    "\n",
    "$$\n",
    "\\begin{align}\n",
    " \\dfrac{Q^2}{K^2} = i_b\n",
    "\\end{align}\n",
    "$$\n",
    "\n",
    "となり、これを満足する水位$H$を反復法などにより求めれば良い。\n",
    "\n",
    "---\n",
    "\n",
    "### 限界水深\n",
    "\n",
    "フルード数が1となる水位を限界流時の水位（以降、限界水位と定義）とする。\n",
    "\n",
    "フルード数は、\n",
    "\n",
    "$$\n",
    "\\begin{align}\n",
    "    Fr =  \\dfrac{Q}{A\\sqrt{gh}}\n",
    "\\end{align}\n",
    "$$\n",
    "\n",
    "となるが、平方根の中に水深$h$が含まれるため、そのままでは計算できない。\n",
    "\n",
    "そのため、水深$h$の代替として径深$R=A/S$を使用することが多い。その他には$A/B$を用いることもある。\n",
    "\n",
    "参考：[FORUM8ソフトウェア：等流・不等流の計算・3DCAD Ver.9 Q&A](https://www.forum8.co.jp/faq/win/futoryuqa.htm#q1-1)"
   ]
  },
  {
   "cell_type": "markdown",
   "id": "880e9c1e",
   "metadata": {},
   "source": [
    "---"
   ]
  },
  {
   "cell_type": "markdown",
   "id": "e57e7e63",
   "metadata": {},
   "source": [
    "## 離散化"
   ]
  },
  {
   "cell_type": "markdown",
   "id": "7fcdc326",
   "metadata": {},
   "source": [
    "離散化は次式となる。\n",
    "なお、$i$:上流側、$i-1$:下流側とする。\n",
    "\n",
    "$$\n",
    "\\begin{align}\n",
    "  \\left(\\frac{Q^2}{2gA^2_i} + H_i  \\right) \n",
    "-\\left( \\frac{Q^2}{2gA_{i-1}^2} + H_{i-1}  \\right) \n",
    "= \\dfrac{1}{2}\\left(\\dfrac{Q^2}{K_i^2} + \\dfrac{Q^2}{K_{i-1}^{2}}\\right)\\Delta x\n",
    "\\end{align}\n",
    "$$\n",
    "\n",
    "常流の場合、下流から逐次計算を行なうため未知数は$H_i$のみとなる。"
   ]
  },
  {
   "cell_type": "markdown",
   "id": "cf17330b",
   "metadata": {},
   "source": [
    "## 数値計算方法\n",
    "\n",
    "一般断面の場合、離散式の未知数$H_i$による微分が難しいため、ニュートン法が使いづらい。そのため、二分法を使用することをおすすめする（もちろんニュートン法を使っても良い)。ただし、通常の二分法では安定的に計算することが難しいため、少し工夫が必要である。この点については次回詳述する。"
   ]
  },
  {
   "cell_type": "markdown",
   "id": "62208de1",
   "metadata": {},
   "source": [
    "---"
   ]
  },
  {
   "cell_type": "markdown",
   "id": "02279e36",
   "metadata": {},
   "source": [
    "## 数値計算方法2：断面特性（河積、潤辺）の計算方法"
   ]
  },
  {
   "cell_type": "markdown",
   "id": "4951a90c",
   "metadata": {},
   "source": [
    "河道断面の座標を次図のように定義する。\n",
    "\n",
    "![A](https://computational-sediment-hyd.github.io/NonUniformFlowModelUsingPython/02_NonUniformFlow02/ref/secttex.svg)\n",
    "\n",
    "---\n",
    "\n",
    "河積$A$,潤辺$S$,径深$R$は次式で計算する。\n",
    "\n",
    "$$\n",
    "\\begin{align}\n",
    "S_i &= \\sqrt{(L_{i+1}-L_i)^2 + (Z_{i+1}-Z_i)^2} \\\\\n",
    "A_i &= \\left[H-0.5(Z_{i+1}+Z_i)\\right](L_{i+1}-L_i) \\\\\n",
    "S &= \\sum_{i=1}^{imax-1} \\!\\! S_i \\\\\n",
    "A &= \\sum_{i=1}^{imax-1} \\!\\! A_i \\\\\n",
    "R &= \\dfrac{ A }{ S }\\\\\n",
    "\\end{align}\n",
    "$$\n",
    "\n",
    "ここでは、水際位置と座標定義点が同一であるが、実計算ではその限りではないため、水面と河道断面の交点を求めて計算する必要がある。詳細は後述するプログラムを参照いただきたい。"
   ]
  },
  {
   "cell_type": "markdown",
   "id": "dfbde1b9",
   "metadata": {},
   "source": [
    "---"
   ]
  },
  {
   "cell_type": "markdown",
   "id": "a306f744",
   "metadata": {},
   "source": [
    "## 数値計算方法3：（断面内の流速が一定と仮定した）合成粗度係数の計算方法\n"
   ]
  },
  {
   "cell_type": "markdown",
   "id": "a51278df",
   "metadata": {},
   "source": [
    "ここまでは河道断面内で粗度係数が一定であることを前提としたが、上図のとおり、断面内で粗度係数が異なる場合について考える。\n",
    "\n",
    "各潤辺の粗度の影響が及ぶ範囲を下図のように考えて、各領域の流速が$u_i$が全て等しいと仮定する（Einsteinの方法）。その場合、断面平均流速$V=u_i$となる。断面全体および各潤辺領域でマニング則が成立すると仮定すると、次式が導出される。\n",
    "\n",
    "![A](https://computational-sediment-hyd.github.io/NonUniformFlowModelUsingPython/02_NonUniformFlow02/ref/fig01_3.jpg)\n",
    "<!-- ![A](ref/fig01_3.jpg) -->\n",
    "    \n",
    "出典：椿東一郎 水理学1 pp.147\n",
    "\n",
    "---\n",
    "\n",
    "$$\n",
    "\\begin{align}\n",
    "n' &= \\left( \\dfrac{  \\displaystyle \\sum_{i=1}^{imax-1} S_i n_i^{3/2}}{ \\displaystyle \\sum_{i=1}^{imax-1} S_i } \\right)^{2/3} \n",
    "\\end{align}\n",
    "$$\n",
    "\n",
    "この方法は平均流速公式1a、$n'$は合成粗度係数と呼ばれる。\n",
    "\n",
    "当然ではあるが**水位によって合成粗度係数は変わる。**"
   ]
  },
  {
   "cell_type": "markdown",
   "id": "ccb33720",
   "metadata": {},
   "source": [
    "---"
   ]
  },
  {
   "cell_type": "markdown",
   "id": "72bb1aab",
   "metadata": {},
   "source": [
    "### 導出方法\n",
    "\n",
    "断面全体の流速$V$が各領域の流速$u_i$と一致すると仮定する。(Einsteinの方法)\n",
    "\n",
    "マニング則を用いると次式が導かれる。\n",
    "\n",
    "$$\n",
    "\\begin{align}\n",
    "V &= u_i \\\\\n",
    "\\dfrac{1}{n'}\\dfrac{A^{2/3}}{S^{2/3}} i_e^{1/2}&=\n",
    "\\dfrac{1}{n_i}\\dfrac{A_i^{2/3}}{S_i^{2/3}} i_e^{1/2}\\\\\n",
    "\\dfrac{1}{n'}\\dfrac{A^{2/3}}{S^{2/3}} &=\n",
    "\\dfrac{1}{n_i}\\dfrac{A_i^{2/3}}{S_i^{2/3}}  \\\\\n",
    "\\dfrac{1}{n'^{3/2}}\\dfrac{A}{S} &=\n",
    "\\dfrac{1}{n_i^{3/2}}\\dfrac{A_i}{S_i} \\\\\n",
    "A_i & = \\dfrac{n_i^{3/2} S_i}{n'^{3/2} S }A\n",
    "\\end{align}\n",
    "$$\n",
    "\n",
    "---\n",
    "\n",
    "$A = \\displaystyle \\sum A_i, S = \\displaystyle \\sum S_i$のため、\n",
    "\n",
    "\n",
    "$$\n",
    "\\begin{align}\n",
    "A &= \\displaystyle \\sum A_i \\\\\n",
    "  &= \\displaystyle \\sum \\dfrac{n_i^{3/2} S_i}{n'^{3/2} S }A \\\\\n",
    "  &= \\dfrac{A}{n'^{3/2} S } \\displaystyle \\sum n_i^{3/2} S_i \\\\\n",
    "n' &= \\left( \\dfrac{  \\displaystyle \\sum  n_i^{3/2}S_i}{ \\displaystyle \\sum S_i } \\right)^{2/3} \n",
    "\\end{align}\n",
    "$$\n",
    "\n",
    "となり、合成粗度が導かれる。"
   ]
  },
  {
   "cell_type": "markdown",
   "id": "8c24ba41",
   "metadata": {},
   "source": [
    "---"
   ]
  },
  {
   "cell_type": "markdown",
   "id": "5b764727",
   "metadata": {},
   "source": [
    "## 断面特性を計算するプログラム例 "
   ]
  },
  {
   "cell_type": "markdown",
   "id": "edcf8cf0",
   "metadata": {},
   "source": [
    "ある河川断面の座標が次図のとおりとする。"
   ]
  },
  {
   "cell_type": "code",
   "execution_count": 3,
   "id": "43d7ac8e",
   "metadata": {},
   "outputs": [
    {
     "data": {
      "image/png": "[encoded data removed]",
      "text/plain": [
       "<Figure size 640x480 with 1 Axes>"
      ]
     },
     "metadata": {},
     "output_type": "display_data"
    }
   ],
   "source": [
    "import matplotlib.pyplot as plt\n",
    "x=[0, 5,93,100,200,206,294,300]\n",
    "y=[6, 3.5, 3.5,  0,  0,  3,  3,  6]\n",
    "plt.plot(x,y, c='k')\n",
    "plt.show()                # 描画"
   ]
  },
  {
   "cell_type": "markdown",
   "id": "0a8b43d5",
   "metadata": {},
   "source": [
    "また、粗度係数は次のとおりとする。（個数は測点間で定義するためi-1個）"
   ]
  },
  {
   "cell_type": "code",
   "execution_count": 4,
   "id": "df7d2e84",
   "metadata": {},
   "outputs": [],
   "source": [
    "n=[0.041, 0.041,0.030,0.030,0.030,0.040,0.040]"
   ]
  },
  {
   "cell_type": "markdown",
   "id": "36b0b786",
   "metadata": {},
   "source": [
    "---"
   ]
  },
  {
   "cell_type": "markdown",
   "id": "57dd9e44",
   "metadata": {},
   "source": [
    "断面特性を計算するプログラムは次のように記述できる。"
   ]
  },
  {
   "cell_type": "code",
   "execution_count": 5,
   "id": "7f97634e",
   "metadata": {},
   "outputs": [],
   "source": [
    "def H2ABSKn(x, y, n, H):\n",
    "    A, B, S, SN = float(0), float(0), float(0), float(0)\n",
    "    \n",
    "    for i in range(1, len(x)):\n",
    "        dx = x[i] - x[i-1]    \n",
    "        dy = y[i] - y[i-1]    \n",
    "        hb, hf = H - y[i-1], H - y[i]\n",
    "        \n",
    "        if hb <= float(0) :\n",
    "            if hf > float(0) :\n",
    "                dx_dh = dx / (hf - hb)\n",
    "                B += hf * dx_dh\n",
    "                A += 0.5 * hf * hf * dx_dh\n",
    "                Sp = hf * np.sqrt( dx_dh * dx_dh + 1.0)\n",
    "                S +=  Sp\n",
    "                SN += Sp * n[i-1]**1.5\n",
    "        elif hf <= float(0) :\n",
    "            if hb > float(0) :\n",
    "                dx_dh = dx / (hf - hb)\n",
    "                B -= hb * dx_dh\n",
    "                A -= 0.5 * hb * hb * dx_dh\n",
    "                Sp = hb * np.sqrt(dx_dh * dx_dh + 1.0)\n",
    "                S += Sp\n",
    "                SN += Sp * n[i-1]**1.5\n",
    "        else :\n",
    "            B += dx\n",
    "            A += 0.5 * dx * (hf + hb)\n",
    "            Sp = np.sqrt(dx**2 + dy**2)\n",
    "            S += Sp\n",
    "            SN += Sp * n[i-1]**1.5\n",
    "            \n",
    "    if S <= float(0):\n",
    "        nd = float(0)\n",
    "        K = float(0)\n",
    "    else:\n",
    "        nd = (SN/S)**(2.0/3.0)\n",
    "        K = A**(5.0/3.0)/nd/S**(2.0/3.0)\n",
    "        \n",
    "    return A, B, S, K, nd"
   ]
  },
  {
   "cell_type": "markdown",
   "id": "90256f5b",
   "metadata": {},
   "source": [
    "---"
   ]
  },
  {
   "cell_type": "markdown",
   "id": "25af556a",
   "metadata": {},
   "source": [
    "- 水位が5.0の場合、各種断面諸元は次のとおりとなる。"
   ]
  },
  {
   "cell_type": "code",
   "execution_count": 6,
   "id": "758d8020",
   "metadata": {},
   "outputs": [
    {
     "name": "stdout",
     "output_type": "stream",
     "text": [
      "河積：858.0\n",
      "水面幅：296.0\n",
      "潤辺：298.3606797749979\n",
      "通水能：47342.84520415623\n",
      "合成粗度係数：0.03664910724429057\n"
     ]
    }
   ],
   "source": [
    "import numpy as np\n",
    "A, B, S, K, nd = H2ABSKn(np.array(x), np.array(y), np.array(n), 5.0)\n",
    "print('河積：{}\\n水面幅：{}\\n潤辺：{}\\n通水能：{}\\n合成粗度係数：{}'.format(A, B, S, K, nd))"
   ]
  }
 ],
 "metadata": {
  "kernelspec": {
   "display_name": "Python 3 (ipykernel)",
   "language": "python",
   "name": "python3"
  },
  "language_info": {
   "codemirror_mode": {
    "name": "ipython",
    "version": 3
   },
   "file_extension": ".py",
   "mimetype": "text/x-python",
   "name": "python",
   "nbconvert_exporter": "python",
   "pygments_lexer": "ipython3",
   "version": "3.10.12"
  },
  "toc": {
   "base_numbering": 1,
   "nav_menu": {},
   "number_sections": true,
   "sideBar": true,
   "skip_h1_title": false,
   "title_cell": "Table of Contents",
   "title_sidebar": "Contents",
   "toc_cell": false,
   "toc_position": {},
   "toc_section_display": true,
   "toc_window_display": true
  }
 },
 "nbformat": 4,
 "nbformat_minor": 5
}
