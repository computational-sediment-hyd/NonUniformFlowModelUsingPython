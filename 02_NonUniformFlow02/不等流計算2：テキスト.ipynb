{
 "cells": [
  {
   "cell_type": "markdown",
   "id": "55423b51",
   "metadata": {},
   "source": [
    "# 不等流計算2:一般断面の不等流計算"
   ]
  },
  {
   "cell_type": "markdown",
   "id": "2058ea4e",
   "metadata": {},
   "source": [
    "## はじめに\n",
    "\n",
    " - 下図のような実河川のような横断面形状は一般断面や自然河道断面と呼ばれる。前項では矩形断面を対象として不等流計算を行ったが本項では一般断面を対象とする。\n",
    " - このような実務者向けの計算テクニックは一部水理公式集、河川砂防技術基準などに記述はあるのものの参考書籍が少ない。"
   ]
  },
  {
   "cell_type": "code",
   "execution_count": 3,
   "id": "90194fc4",
   "metadata": {},
   "outputs": [
    {
     "data": {
      "image/png": "[encoded data removed]",
      "text/plain": [
       "<Figure size 432x288 with 1 Axes>"
      ]
     },
     "metadata": {
      "needs_background": "light"
     },
     "output_type": "display_data"
    }
   ],
   "source": [
    "import matplotlib.pyplot as plt\n",
    "x=[0, 5,93,100,200,206,294,300]\n",
    "y=[6, 3.5, 3.5,  0,  0,  3,  3,  6]\n",
    "plt.plot(x,y, c='k')\n",
    "plt.show()                # 描画"
   ]
  },
  {
   "cell_type": "markdown",
   "id": "a3fdb3f1",
   "metadata": {},
   "source": [
    "## 基礎式\n",
    "\n",
    "一般断面の不等流計算の基礎式は次式を用いる。\n",
    "\n",
    "$$\n",
    "\\begin{align}\n",
    "& \\dfrac{d}{dx}\\left( \\frac{Q^2}{2gA^2} + H \\right) = -\\dfrac{\\tau}{\\rho g A} \n",
    "\\end{align}\n",
    "$$\n",
    "\n",
    "ここに、$Q$:流量、$H$：水位、$A$：河積、$\\tau$：コントロールボリュームに作用する力とする。\n",
    "\n",
    "前項で示した矩形断面の式と比較して以下の変更を行っている。\n",
    " - エネルギー保存則をベースとした式形としたが、一般断面の計算では摩擦損失以外の抵抗を考慮するため、運動量保存則をベースとした式形とした。それにより、右辺の生成項の式形が変更されている。\n",
    " - $h+z_b$(圧力項+重力項)を$H$に書き換えている。\n",
    "\n",
    "後者について補足すると、\n",
    "例えば、下図のように、WL1、WL2と2つの水位が与えらた場合にそれぞれ$h,z_b$は定義できるだろうか。\n",
    "それぞれの定義は難しい上に$z_b$は水位によって変わることが理解できる。これが、一般断面の大きな特徴であり、水位に応じて理論的な（物理的に意味を持つ）河床高が変わる。\n",
    "$h,z_b$の2変数を同時に解くことはできないため、$h+z_b \\equiv H$として$H$のみを変数として計算を行なう。\n"
   ]
  },
  {
   "cell_type": "code",
   "execution_count": 4,
   "id": "ba739b3e",
   "metadata": {},
   "outputs": [
    {
     "data": {
      "image/png": "[encoded data removed]",
      "text/plain": [
       "<Figure size 432x288 with 1 Axes>"
      ]
     },
     "metadata": {
      "needs_background": "light"
     },
     "output_type": "display_data"
    }
   ],
   "source": [
    "import matplotlib.pyplot as plt\n",
    "x=[0, 5,93,100,200,206,294,300]\n",
    "y=[6, 3.5, 3.5,  0,  0,  3,  3,  6]\n",
    "plt.plot(x,y,c='k')\n",
    "plt.axhline(y=5,c='b',label='WL1')\n",
    "plt.axhline(y=3.3,c='b',ls='dashed',label='WL2')\n",
    "plt.legend()\n",
    "plt.show()                # 描画"
   ]
  },
  {
   "cell_type": "markdown",
   "id": "b453537a",
   "metadata": {},
   "source": [
    "マニング則についても以下のとおり若干の変更を加える。\n",
    "\n",
    "$$\n",
    "\\begin{align}\n",
    " v &= \\dfrac{1}{n}i_e^{1/2}R^{2/3} \\\\\n",
    " Q &= \\dfrac{1}{n}i_e^{1/2}\\dfrac{A^{5/3}}{S^{2/3}} \\\\\n",
    " Q &= K i_e^{1/2} \\\\\n",
    " K &\\equiv \\dfrac{A^{5/3}}{nS^{2/3}} \n",
    "\\end{align}\n",
    "$$\n",
    "\n",
    "ここに、$Q$:流量、$H$：水位、$A$：河積、$v$：流速、$R=A/S$：径深、$S$：潤辺、$K$：通水能、$n$：マニングの粗度係数とする。\n",
    "\n",
    "水位$A$、潤辺$S$、（見かけの）粗度係数$n$は、水位$H$の関数となる。式の簡略化のため、これらを合わせた通水能$K$を用いることがある。\n",
    "\n",
    "運動方程式の生成項が摩擦損失のみの場合、マニング則を用いると以下のとおりになる。\n",
    "\n",
    "$$\n",
    "\\begin{align}\n",
    " \\dfrac{\\tau}{\\rho g A} = \\dfrac{Q^2}{K^2}\n",
    "\\end{align}\n",
    "$$"
   ]
  },
  {
   "cell_type": "markdown",
   "id": "10c29d1d",
   "metadata": {},
   "source": [
    "## 限界水深、等流水深の定義"
   ]
  },
  {
   "cell_type": "markdown",
   "id": "1c3e97f9",
   "metadata": {},
   "source": [
    "一般断面の基礎式を用いて、限界水深、等流水深を矩形断面と同様に定義で設定することは難しいため、便宜的に以下のとおりに設定する。\n",
    "\n",
    "### 等流水深\n",
    "\n",
    "全ての損失による水頭の勾配が河床勾配$i_b$と釣り合う状態を等流と定義してその水深を等流水深とする。\n",
    "なお、一般断面では水深を用いないため、正確には等流水深時の水位となる。\n",
    "\n",
    "$$\n",
    "\\begin{align}\n",
    " \\dfrac{\\tau}{\\rho g A} = i_b\n",
    "\\end{align}\n",
    "$$\n",
    "\n",
    "生成項が摩擦損失のみの場合は、\n",
    "\n",
    "$$\n",
    "\\begin{align}\n",
    " \\dfrac{Q^2}{K^2} = i_b\n",
    "\\end{align}\n",
    "$$\n",
    "\n",
    "となり、これを満足する水位$H$を反復法などにより求めれば良い。\n",
    "\n",
    "\n",
    "### 限界水深\n",
    "\n",
    "フルード数が1となる水位を限界水深時の水位とする。\n",
    "\n",
    "フルード数は、\n",
    "\n",
    "$$\n",
    "\\begin{align}\n",
    "    Fr =  \\dfrac{Q}{A\\sqrt{gh}}\n",
    "\\end{align}\n",
    "$$\n",
    "\n",
    "となるが、平方根の中に水深$h$が含まれるため、そのままでは計算できない。\n",
    "\n",
    "そのため、水深$h$の代替として径深$R=A/S$を使用することが多い。その他には$A/B$を用いることもある。\n",
    "\n",
    "参考：[FORUM8ソフトウェア：等流・不等流の計算・3DCAD Ver.9 Q&A](https://www.forum8.co.jp/faq/win/futoryuqa.htm#q1-1)"
   ]
  },
  {
   "cell_type": "markdown",
   "id": "e57e7e63",
   "metadata": {},
   "source": [
    "## 離散化"
   ]
  },
  {
   "cell_type": "markdown",
   "id": "7fcdc326",
   "metadata": {},
   "source": [
    "離散化は次式となる。\n",
    "なお、$i$:上流側、$i-1$:下流側とする。\n",
    "\n",
    "$$\n",
    "\\begin{align}\n",
    "  \\left(\\frac{Q^2}{2gA^2_i} + H_i  \\right) \n",
    "-\\left( \\frac{Q^2}{2gA_{i-1}^2} + H_{i-1}  \\right) \n",
    "= \\dfrac{1}{2}\\left(\\dfrac{Q^2}{K_i^2} + \\dfrac{Q^2}{K_{i-1}^{2}}\\right)\\Delta x\n",
    "\\end{align}\n",
    "$$\n",
    "\n",
    "常流の場合、下流から逐次計算を行なうため未知数は$H_i$のみとなる。"
   ]
  },
  {
   "cell_type": "markdown",
   "id": "cf17330b",
   "metadata": {},
   "source": [
    "## 数値計算方法\n",
    "\n",
    "一般断面の場合、離散式の未知数$H_i$による微分が難しいため、ニュートン法が使いづらい。そのため、二分法を使用することをおすすめする。（もちろんニュートン法を使っても良い。)"
   ]
  },
  {
   "cell_type": "markdown",
   "id": "02279e36",
   "metadata": {},
   "source": [
    "## 数値計算方法2：断面特性（河積、潤辺）の計算方法"
   ]
  },
  {
   "cell_type": "markdown",
   "id": "4951a90c",
   "metadata": {},
   "source": [
    "河道断面の座標を次図のように定義する。\n",
    "\n",
    "![A](https://computational-sediment-hyd.github.io/HydraulicsTips-in-CivilEngineer/fig/secttex.svg)\n",
    "\n",
    "河積$A$,潤辺$S$,径深$R$は次式で計算する。\n",
    "\n",
    "$$\n",
    "\\begin{align}\n",
    "S_i &= \\sqrt{(L_{i+1}-L_i)^2 + (Z_{i+1}-Z_i)^2} \\\\\n",
    "A_i &= \\left[H-0.5(Z_{i+1}+Z_i)\\right](L_{i+1}-L_i) \\\\\n",
    "S &= \\sum_{i=1}^{imax-1} \\!\\! S_i \\\\\n",
    "A &= \\sum_{i=1}^{imax-1} \\!\\! A_i \\\\\n",
    "R &= \\dfrac{ A }{ S }\\\\\n",
    "\\end{align}\n",
    "$$\n",
    "\n",
    "ここでは、水際位置と座標定義点が同一であるが、実計算ではその限りではないため、水面と河道断面の交点を求めて計算する必要がある。詳細は後述するプログラムを参考いただきたい。"
   ]
  },
  {
   "cell_type": "markdown",
   "id": "a306f744",
   "metadata": {},
   "source": [
    "## 数値計算方法3：（見かけの）粗度係数の計算方法"
   ]
  },
  {
   "cell_type": "markdown",
   "id": "a51278df",
   "metadata": {},
   "source": [
    "ここまでは河道断面内で粗度係数が一定であることを前提としたが、上図のとおり、断面内で粗度係数が異なる場合について考える。\n",
    "\n",
    "各点間の粗度係数に潤辺の重みに付けて、次式によって見かけの粗度係数$n'$を設定する。\n",
    "\n",
    "$$\n",
    "\\begin{align}\n",
    "n' &= \\left( \\dfrac{  \\displaystyle \\sum_{i=1}^{imax-1} S_i n_i^{3/2}}{ \\displaystyle \\sum_{i=1}^{imax-1} S_i } \\right)^{2/3} \n",
    "\\end{align}\n",
    "$$\n",
    "\n",
    "この方法は平均流速公式1a、$n'$は合成粗度係数と呼ばれる。\n",
    "\n",
    "当然ではあるが水位によって見かけの粗度係数は変わる。"
   ]
  }
 ],
 "metadata": {
  "kernelspec": {
   "display_name": "Python 3",
   "language": "python",
   "name": "python3"
  },
  "language_info": {
   "codemirror_mode": {
    "name": "ipython",
    "version": 3
   },
   "file_extension": ".py",
   "mimetype": "text/x-python",
   "name": "python",
   "nbconvert_exporter": "python",
   "pygments_lexer": "ipython3",
   "version": "3.7.10"
  },
  "toc": {
   "base_numbering": 1,
   "nav_menu": {},
   "number_sections": true,
   "sideBar": true,
   "skip_h1_title": false,
   "title_cell": "Table of Contents",
   "title_sidebar": "Contents",
   "toc_cell": false,
   "toc_position": {},
   "toc_section_display": true,
   "toc_window_display": true
  }
 },
 "nbformat": 4,
 "nbformat_minor": 5
}
