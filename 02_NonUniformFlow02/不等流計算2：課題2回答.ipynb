{
 "cells": [
  {
   "cell_type": "markdown",
   "id": "c3003b15",
   "metadata": {},
   "source": [
    "# 不等流計算2:一般断面の不等流計算"
   ]
  },
  {
   "cell_type": "markdown",
   "id": "00ae6349",
   "metadata": {},
   "source": [
    "## 課題1"
   ]
  },
  {
   "cell_type": "markdown",
   "id": "4f0c826a",
   "metadata": {},
   "source": [
    "ある河川断面の座標が次図のとおりとする。"
   ]
  },
  {
   "cell_type": "code",
   "execution_count": 1,
   "id": "4757231e",
   "metadata": {},
   "outputs": [
    {
     "data": {
      "image/png": "[encoded data removed]",
      "text/plain": [
       "<Figure size 432x288 with 1 Axes>"
      ]
     },
     "metadata": {
      "needs_background": "light"
     },
     "output_type": "display_data"
    }
   ],
   "source": [
    "import matplotlib.pyplot as plt\n",
    "x=[0, 5,93,100,200,206,294,300]\n",
    "y=[6, 3.5, 3.5,  0,  0,  3,  3,  6]\n",
    "plt.plot(x,y, c='k')\n",
    "plt.show()                # 描画"
   ]
  },
  {
   "cell_type": "markdown",
   "id": "857e5715",
   "metadata": {},
   "source": [
    "また、粗度係数は次のとおりとする。（個数は測点間で定義するためi-1個）"
   ]
  },
  {
   "cell_type": "code",
   "execution_count": 2,
   "id": "c98f2962",
   "metadata": {},
   "outputs": [],
   "source": [
    "n=[0.041, 0.041,0.030,0.030,0.030,0.040,0.040]"
   ]
  },
  {
   "cell_type": "markdown",
   "id": "41aea3de",
   "metadata": {},
   "source": [
    "断面特性を計算するプログラムは次のように記述できる。"
   ]
  },
  {
   "cell_type": "code",
   "execution_count": 3,
   "id": "23218411",
   "metadata": {},
   "outputs": [],
   "source": [
    "def H2ABSKn(x, y, n, H):\n",
    "    A, B, S, SN = float(0), float(0), float(0), float(0)\n",
    "    \n",
    "    for i in range(1, len(x)):\n",
    "        dx = x[i] - x[i-1]    \n",
    "        dy = y[i] - y[i-1]    \n",
    "        hb, hf = H - y[i-1], H - y[i]\n",
    "        \n",
    "        if hb <= float(0) :\n",
    "            if hf > float(0) :\n",
    "                dx_dh = dx / (hf - hb)\n",
    "                B += hf * dx_dh\n",
    "                A += 0.5 * hf * hf * dx_dh\n",
    "                Sp = hf * np.sqrt( dx_dh * dx_dh + 1.0)\n",
    "                S +=  Sp\n",
    "                SN += Sp * n[i-1]**1.5\n",
    "        elif hf <= float(0) :\n",
    "            if hb > float(0) :\n",
    "                dx_dh = dx / (hf - hb)\n",
    "                B -= hb * dx_dh\n",
    "                A -= 0.5 * hb * hb * dx_dh\n",
    "                Sp = hb * np.sqrt(dx_dh * dx_dh + 1.0)\n",
    "                S += Sp\n",
    "                SN += Sp * n[i-1]**1.5\n",
    "        else :\n",
    "            B += dx\n",
    "            A += 0.5 * dx * (hf + hb)\n",
    "            Sp = np.sqrt(dx**2 + dy**2)\n",
    "            S += Sp\n",
    "            SN += Sp * n[i-1]**1.5\n",
    "            \n",
    "    if S <= float(0):\n",
    "        nd = float(0)\n",
    "        K = float(0)\n",
    "    else:\n",
    "        nd = (SN/S)**(2.0/3.0)\n",
    "        K = A**(5.0/3.0)/nd/S**(2.0/3.0)\n",
    "        \n",
    "    return A, B, S, K, nd"
   ]
  },
  {
   "cell_type": "markdown",
   "id": "f35952b2",
   "metadata": {},
   "source": [
    "- 水位が5.0の場合、各種断面諸元は次のとおりとなる。"
   ]
  },
  {
   "cell_type": "code",
   "execution_count": 4,
   "id": "9bd9a3b5",
   "metadata": {},
   "outputs": [
    {
     "name": "stdout",
     "output_type": "stream",
     "text": [
      "河積：858.0\n",
      "水面幅：296.0\n",
      "潤辺：298.3606797749979\n",
      "通水能：47342.84520415623\n",
      "合成粗度係数：0.03664910724429057\n"
     ]
    }
   ],
   "source": [
    "import numpy as np\n",
    "A, B, S, K, nd = H2ABSKn(np.array(x), np.array(y), np.array(n), 5.0)\n",
    "print('河積：{}\\n水面幅：{}\\n潤辺：{}\\n通水能：{}\\n合成粗度係数：{}'.format(A, B, S, K, nd))"
   ]
  },
  {
   "cell_type": "markdown",
   "id": "a743c29c",
   "metadata": {},
   "source": [
    "上記の横断座標、粗度係数、関数を用いて以下の2題についてプログラムを作成せよ。\n",
    "\n",
    "1. 水位を0.01～6.0まで変化させて場合の以下の諸元の変化を図化せよ。\n",
    " - 河積（y軸：水位、x軸：河積）\n",
    " - 合成粗度係数（y軸：水位、x軸：合成粗度係数）\n",
    " - 通水能（y軸：水位、x軸：通水能）\n",
    "1. 流量$1000 \\mathrm{m^3/s}$、河床勾配$1/300$として等流水深時の水位を計算したいが、この条件では適切に水位を計算することができない。その理由を述べよ。余力があれば、この条件で安定的に等流水深時の水位を計算するプログラムを作成せよ。参考論文[石川ら：常流・射流が混在する区間の不等流計算法](https://cir.nii.ac.jp/crid/1522262179999678976)(webに無かったので添付しておきます．)"
   ]
  },
  {
   "cell_type": "markdown",
   "id": "0b59ff2b",
   "metadata": {},
   "source": [
    "### 1の回答"
   ]
  },
  {
   "cell_type": "code",
   "execution_count": 5,
   "id": "4b435ef6",
   "metadata": {},
   "outputs": [],
   "source": [
    "Harr = np.arange(0.01,6.001,0.01)\n",
    "Aarr = np.zeros_like(Harr)\n",
    "narr = np.zeros_like(Harr)\n",
    "Karr = np.zeros_like(Harr)\n",
    "\n",
    "for i, H in enumerate(Harr) : \n",
    "    Aarr[i], B, S, Karr[i], narr[i] = H2ABSKn(np.array(x), np.array(y), np.array(n), H)"
   ]
  },
  {
   "cell_type": "code",
   "execution_count": 6,
   "id": "adfdd14a",
   "metadata": {},
   "outputs": [],
   "source": [
    "import matplotlib.pyplot as plt"
   ]
  },
  {
   "cell_type": "markdown",
   "id": "31b59e90",
   "metadata": {},
   "source": [
    " - 河積"
   ]
  },
  {
   "cell_type": "code",
   "execution_count": 7,
   "id": "d538b70e",
   "metadata": {},
   "outputs": [
    {
     "data": {
      "image/png": "[encoded data removed]",
      "text/plain": [
       "<Figure size 576x216 with 2 Axes>"
      ]
     },
     "metadata": {
      "needs_background": "light"
     },
     "output_type": "display_data"
    }
   ],
   "source": [
    "fig, axes = plt.subplots(1, 2, figsize=(8,3), tight_layout=True, sharey=\"all\")\n",
    "axes[0].plot(x, y, c='k')\n",
    "axes[1].plot(Aarr, Harr , c='k')\n",
    "axes[0].set_title('cross-section')\n",
    "axes[1].set_title('A')\n",
    "plt.show()                # 描画"
   ]
  },
  {
   "cell_type": "markdown",
   "id": "03e347f2",
   "metadata": {},
   "source": [
    " - 合成粗度係数"
   ]
  },
  {
   "cell_type": "code",
   "execution_count": 8,
   "id": "3d3665ae",
   "metadata": {},
   "outputs": [
    {
     "data": {
      "image/png": "[encoded data removed]",
      "text/plain": [
       "<Figure size 576x216 with 2 Axes>"
      ]
     },
     "metadata": {
      "needs_background": "light"
     },
     "output_type": "display_data"
    }
   ],
   "source": [
    "fig, axes = plt.subplots(1, 2, figsize=(8,3), tight_layout=True, sharey=\"all\")\n",
    "axes[0].plot(x, y, c='k')\n",
    "axes[1].plot(narr, Harr , c='k')\n",
    "axes[0].set_title('cross-section')\n",
    "axes[1].set_title('n')\n",
    "plt.show()                # 描画"
   ]
  },
  {
   "cell_type": "markdown",
   "id": "646e96dd",
   "metadata": {},
   "source": [
    " - 通水能"
   ]
  },
  {
   "cell_type": "code",
   "execution_count": 9,
   "id": "6af97c34",
   "metadata": {},
   "outputs": [
    {
     "data": {
      "image/png": "[encoded data removed]",
      "text/plain": [
       "<Figure size 576x216 with 2 Axes>"
      ]
     },
     "metadata": {
      "needs_background": "light"
     },
     "output_type": "display_data"
    }
   ],
   "source": [
    "fig, axes = plt.subplots(1, 2, figsize=(8,3), tight_layout=True, sharey=\"all\")\n",
    "axes[0].plot(x, y, c='k')\n",
    "axes[1].plot(Karr, Harr , c='k')\n",
    "axes[0].set_title('cross-section')\n",
    "axes[1].set_title('K')\n",
    "# plt.savefig('tmp.png', bbox_inches=\"tight\", facecolor=\"white\")\n",
    "plt.show()                # 描画"
   ]
  },
  {
   "cell_type": "markdown",
   "id": "b0984477",
   "metadata": {},
   "source": [
    "### 2の回答"
   ]
  },
  {
   "cell_type": "markdown",
   "id": "08eac7b3",
   "metadata": {},
   "source": [
    "- この条件下での水位と$\\dfrac{\\tau}{\\rho g A} = \\dfrac{Q^2}{K^2}$の関係は下図のとおりとなる。$i_b=1/300$のとき（下図青縦線）、水位は複数の解を持つため、任意の水位を計算することができない。"
   ]
  },
  {
   "cell_type": "code",
   "execution_count": 10,
   "id": "e204e896",
   "metadata": {},
   "outputs": [
    {
     "data": {
      "image/png": "[encoded data removed]",
      "text/plain": [
       "<Figure size 432x288 with 1 Axes>"
      ]
     },
     "metadata": {
      "needs_background": "light"
     },
     "output_type": "display_data"
    }
   ],
   "source": [
    "import matplotlib.pyplot as plt\n",
    "Q = 1000\n",
    "plt.plot(Q**2/Karr**2, Harr, c='k')\n",
    "plt.xscale('log')\n",
    "plt.axvline(x=1/300, c='b')\n",
    "plt.xlabel(r'$\\dfrac{\\tau}{\\rho g A}$')\n",
    "plt.ylabel(r'H')\n",
    "plt.show()                # 描画"
   ]
  },
  {
   "cell_type": "markdown",
   "id": "5a3464f8",
   "metadata": {},
   "source": [
    " - 単調でない関数に対してニュートン法や二分法などの収束計算を用いることはできない。\n",
    " - 正確に計算できないと割り切って、解のうち最も小さいものを見つける計算方法を用いることとする。\n",
    " - ここでは、最深河床高を初期値として解が見つかるまで少しずつ水位を上げていく方法を用いている。([石川ら：常流・射流が混在する区間の不等流計算法](https://cir.nii.ac.jp/crid/1522262179999678976)参照)\n",
    " - このような問題は、等流水深の計算に限らず、不等流計算の過程でも生じる。その際は同様に何らかの処理が必要となる。\n",
    " - 次回の勉強会で説明する分割断面法を用いて、低水路と高水敷の流速が異なる条件で計算を行うことにより、この問題が生じにくくなる。"
   ]
  },
  {
   "cell_type": "code",
   "execution_count": 11,
   "id": "c6e8a4e9",
   "metadata": {},
   "outputs": [],
   "source": [
    "x,y,n = np.array(x), np.array(y), np.array(n)\n",
    "Q = float(1500)\n",
    "ib = float(1/300)\n",
    "\n",
    "# 初期値は最深河床高+1cmとする。\n",
    "H = y.min() + float(0.01)\n",
    "\n",
    "_,_,_,K,_ = H2ABSKn(x,y,n,H)\n",
    "ie = Q**2/K**2\n",
    "\n",
    "dh = float(0.1)\n",
    "nit=0\n",
    "while np.abs(ib - ie)/ie > 0.0001:\n",
    "    if ib < ie:\n",
    "        H += dh\n",
    "    else :\n",
    "        dh *= float(0.5)\n",
    "        H -= dh\n",
    "        \n",
    "    _,_,_,K,_ = H2ABSKn(x,y,n,H)\n",
    "    ie = Q**2/K**2\n",
    "    \n",
    "#     print(nit, H)\n",
    "    nit += 1"
   ]
  },
  {
   "cell_type": "code",
   "execution_count": 12,
   "id": "94eaabc6",
   "metadata": {},
   "outputs": [
    {
     "data": {
      "text/plain": [
       "4.105507812500003"
      ]
     },
     "execution_count": 12,
     "metadata": {},
     "output_type": "execute_result"
    }
   ],
   "source": [
    "H"
   ]
  },
  {
   "cell_type": "markdown",
   "id": "219f6fd5",
   "metadata": {},
   "source": [
    "##  課題2：作業は不要です。中身を理解して下さい。"
   ]
  },
  {
   "cell_type": "markdown",
   "id": "7c27d8e5",
   "metadata": {},
   "source": [
    "前出の断面座標、粗度係数を用いてモデル河道を作成する。\n",
    "区間距離を200mとし、下流端からの距離、0.0～5.0kmは1/2000、5.0～10.0kmは1/1000、、10.0～15.0kmは1/500でy座標をスライドさせて各断面の座標を設定した。\n",
    "なお、下流端断面の座標は前出の断面、粗度係数は全断面で一定とする。\n",
    "\n",
    "各断面の断面座標、粗度係数、下流端からの距離のデータを次のとおりに作成した。\n",
    "\n",
    "※各断面のデータを辞書形式{'x', 'y', 'n', 'L'}で示し、それを下流から順に並べたリストとしている。"
   ]
  },
  {
   "cell_type": "code",
   "execution_count": 13,
   "id": "1b254a6b",
   "metadata": {},
   "outputs": [],
   "source": [
    "import numpy as np"
   ]
  },
  {
   "cell_type": "code",
   "execution_count": 14,
   "id": "fcbcc84e",
   "metadata": {},
   "outputs": [],
   "source": [
    "x=np.array([0, 5,93,100,200,206,294,300])\n",
    "y=np.array([6, 3.5, 3.5,  0,  0,  3,  3,  6])\n",
    "n=np.array([0.041, 0.041,0.030,0.030,0.030,0.040,0.040])\n",
    "\n",
    "dx = 200\n",
    "Ls = np.arange(0,15001,dx) \n",
    "\n",
    "sections = []\n",
    "sect = {'x':x, 'y':y, 'n':n, 'L':Ls[0]}\n",
    "sections.append(sect)\n",
    "\n",
    "yold = y.copy()\n",
    "ibs = []\n",
    "ibs.append(1/2000)\n",
    "for L in Ls[1:]:\n",
    "    if L < 5000:\n",
    "        ib = 1/2000\n",
    "    elif L < 10000:\n",
    "        ib = 1/1000\n",
    "    else:\n",
    "        ib = 1/500\n",
    "        \n",
    "    ynew = yold + dx*ib\n",
    "    sect = {'x':x, 'y':ynew, 'n':n, 'L':L}\n",
    "    sections.append(sect)\n",
    "    yold = ynew.copy()\n",
    "    ibs.append(ib)"
   ]
  },
  {
   "cell_type": "markdown",
   "id": "42e0f3e0",
   "metadata": {},
   "source": [
    "辞書形式は数値計算では扱いづらいためリスト形式としたいが、実河川ではx,y,nの個数が断面ごとに異なるため、単純なリスト形式にはできない。\n",
    "\n",
    "そのため、x, y, n, Lをメンバ変数とするクラスを作成する。"
   ]
  },
  {
   "cell_type": "code",
   "execution_count": 15,
   "id": "fa499013",
   "metadata": {},
   "outputs": [],
   "source": [
    "class section(object):\n",
    "    def __init__(self, x, y, n, L): #初期化のメソッド クラスを定義したときに動くメソッド\n",
    "        self.x = x\n",
    "        self.y = y\n",
    "        self.n = n\n",
    "        self.L = L"
   ]
  },
  {
   "cell_type": "markdown",
   "id": "857b86ad",
   "metadata": {},
   "source": [
    "先程作成した断面データをクラスに格納する。"
   ]
  },
  {
   "cell_type": "code",
   "execution_count": 16,
   "id": "e7e2313d",
   "metadata": {},
   "outputs": [],
   "source": [
    "csections = [section(s['x'],s['y'],s['n'],s['L']) for s in sections]"
   ]
  },
  {
   "cell_type": "code",
   "execution_count": 17,
   "id": "8d593cd9",
   "metadata": {},
   "outputs": [
    {
     "name": "stdout",
     "output_type": "stream",
     "text": [
      "0 15000\n"
     ]
    }
   ],
   "source": [
    "print(csections[0].L, csections[-1].L)"
   ]
  },
  {
   "cell_type": "markdown",
   "id": "0dd21c68",
   "metadata": {},
   "source": [
    "さらに、前出の断面諸元を計算する関数をクラスのメソッドとして追加すると、次のとおりとなる。"
   ]
  },
  {
   "cell_type": "code",
   "execution_count": 18,
   "id": "d6e123c4",
   "metadata": {},
   "outputs": [],
   "source": [
    "class section(object):\n",
    "    def __init__(self, x, y, n, L):\n",
    "        self.x = x\n",
    "        self.y = y\n",
    "        self.n = n\n",
    "        self.L = L\n",
    "\n",
    "    def H2ABSKn(self, H): #変更:引数は水位のみ\n",
    "        A, B, S, SN = float(0), float(0), float(0), float(0)\n",
    "        x = self.x #変更:メンバ変数を参照\n",
    "        y = self.y #変更:メンバ変数を参照\n",
    "        n = self.n #変更:メンバ変数を参照\n",
    "        \n",
    "        for i in range(1, len(x)):\n",
    "            dx = x[i] - x[i-1]    \n",
    "            dy = y[i] - y[i-1]    \n",
    "            hb, hf = H - y[i-1], H - y[i]\n",
    "            \n",
    "            if hb <= float(0) :\n",
    "                if hf > float(0) :\n",
    "                    dx_dh = dx / (hf - hb)\n",
    "                    B += hf * dx_dh\n",
    "                    A += 0.5 * hf * hf * dx_dh\n",
    "                    Sp = hf * np.sqrt( dx_dh * dx_dh + 1.0)\n",
    "                    S +=  Sp\n",
    "                    SN += Sp * n[i-1]**1.5\n",
    "            elif hf <= float(0) :\n",
    "                if hb > float(0) :\n",
    "                    dx_dh = dx / (hf - hb)\n",
    "                    B -= hb * dx_dh\n",
    "                    A -= 0.5 * hb * hb * dx_dh\n",
    "                    Sp = hb * np.sqrt(dx_dh * dx_dh + 1.0)\n",
    "                    S += Sp\n",
    "                    SN += Sp * n[i-1]**1.5\n",
    "            else :\n",
    "                B += dx\n",
    "                A += 0.5 * dx * (hf + hb)\n",
    "                Sp = np.sqrt(dx**2 + dy**2)\n",
    "                S += Sp\n",
    "                SN += Sp * n[i-1]**1.5\n",
    "                \n",
    "        if S <= float(0):\n",
    "            nd = float(0)\n",
    "            K = float(0)\n",
    "        else:\n",
    "            nd = (SN/S)**(2.0/3.0)\n",
    "            K = A**(5.0/3.0)/nd/S**(2.0/3.0)\n",
    "            \n",
    "        return A, B, S, K, nd"
   ]
  },
  {
   "cell_type": "markdown",
   "id": "cb4dd1a7",
   "metadata": {},
   "source": [
    "全断面の最深河床高+5mの水位のときの合成粗度係数を求めるプログラムは以下のように書ける。\n",
    "\n",
    "以上、今後は講義では、このクラスに機能を追加していくため、クラスの仕組みを理解しておくこと。よくわからない方は丸暗記でO.K.です。"
   ]
  },
  {
   "cell_type": "code",
   "execution_count": 19,
   "id": "70263f19",
   "metadata": {},
   "outputs": [
    {
     "name": "stdout",
     "output_type": "stream",
     "text": [
      "0 0.03664910724429057\n",
      "200 0.03664910724429057\n",
      "400 0.03664910724429057\n",
      "600 0.03664910724429057\n",
      "800 0.03664910724429057\n",
      "1000 0.03664910724429057\n",
      "1200 0.03664910724429057\n",
      "1400 0.03664910724429057\n",
      "1600 0.03664910724429057\n",
      "1800 0.03664910724429057\n",
      "2000 0.03664910724429057\n",
      "2200 0.03664910724429057\n",
      "2400 0.03664910724429057\n",
      "2600 0.03664910724429057\n",
      "2800 0.03664910724429056\n",
      "3000 0.03664910724429056\n",
      "3200 0.03664910724429056\n",
      "3400 0.03664910724429056\n",
      "3600 0.03664910724429056\n",
      "3800 0.03664910724429056\n",
      "4000 0.03664910724429056\n",
      "4200 0.03664910724429056\n",
      "4400 0.03664910724429056\n",
      "4600 0.03664910724429056\n",
      "4800 0.03664910724429056\n",
      "5000 0.03664910724429057\n",
      "5200 0.03664910724429057\n",
      "5400 0.036649107244290574\n",
      "5600 0.03664910724429057\n",
      "5800 0.036649107244290574\n",
      "6000 0.036649107244290574\n",
      "6200 0.036649107244290574\n",
      "6400 0.036649107244290574\n",
      "6600 0.036649107244290574\n",
      "6800 0.036649107244290574\n",
      "7000 0.036649107244290574\n",
      "7200 0.036649107244290574\n",
      "7400 0.036649107244290574\n",
      "7600 0.036649107244290574\n",
      "7800 0.036649107244290574\n",
      "8000 0.036649107244290574\n",
      "8200 0.036649107244290574\n",
      "8400 0.036649107244290574\n",
      "8600 0.036649107244290574\n",
      "8800 0.036649107244290574\n",
      "9000 0.036649107244290574\n",
      "9200 0.036649107244290574\n",
      "9400 0.036649107244290574\n",
      "9600 0.03664910724429057\n",
      "9800 0.03664910724429057\n",
      "10000 0.03664910724429057\n",
      "10200 0.03664910724429057\n",
      "10400 0.03664910724429057\n",
      "10600 0.03664910724429057\n",
      "10800 0.03664910724429057\n",
      "11000 0.03664910724429057\n",
      "11200 0.03664910724429057\n",
      "11400 0.03664910724429057\n",
      "11600 0.03664910724429057\n",
      "11800 0.03664910724429057\n",
      "12000 0.03664910724429057\n",
      "12200 0.03664910724429057\n",
      "12400 0.03664910724429057\n",
      "12600 0.03664910724429057\n",
      "12800 0.03664910724429057\n",
      "13000 0.03664910724429057\n",
      "13200 0.03664910724429057\n",
      "13400 0.03664910724429057\n",
      "13600 0.03664910724429057\n",
      "13800 0.03664910724429057\n",
      "14000 0.03664910724429057\n",
      "14200 0.03664910724429057\n",
      "14400 0.03664910724429057\n",
      "14600 0.03664910724429057\n",
      "14800 0.03664910724429057\n",
      "15000 0.03664910724429057\n"
     ]
    }
   ],
   "source": [
    "csections = [section(s['x'],s['y'],s['n'],s['L']) for s in sections]\n",
    "\n",
    "for s in csections:\n",
    "    A,B,S,K,n = s.H2ABSKn(s.y.min() + 5) # 引数は水位のみ\n",
    "    print(s.L, n)"
   ]
  },
  {
   "cell_type": "markdown",
   "id": "5ad4c2e8",
   "metadata": {},
   "source": [
    "## 課題3：\n",
    "\n",
    " 1. 課題2で定義したクラスに限界水深（限界流時の水位）を計算するメソッドを追加せよ．\n",
    " 1. 課題2で定義したクラスを用いて，不等流計算モデルを作成し，縦断水位を計算せよ．計算条件は，流量：$1500\\rm{m^3/s}$，下流端水位：等流水深（等流時水位）とする．"
   ]
  },
  {
   "cell_type": "markdown",
   "id": "1820c2be",
   "metadata": {},
   "source": [
    "### 回答"
   ]
  },
  {
   "cell_type": "code",
   "execution_count": 20,
   "id": "c84a0155",
   "metadata": {},
   "outputs": [],
   "source": [
    "import numpy as np\n",
    "class section(object):\n",
    "    def __init__(self, x, y, n, L):\n",
    "        self.x = x\n",
    "        self.y = y\n",
    "        self.n = n\n",
    "        self.L = L\n",
    "\n",
    "    def H2ABSKn(self, H): #変更:引数は水位のみ\n",
    "        A, B, S, SN = float(0), float(0), float(0), float(0)\n",
    "        x = self.x #変更:メンバ変数を参照\n",
    "        y = self.y #変更:メンバ変数を参照\n",
    "        n = self.n #変更:メンバ変数を参照\n",
    "        \n",
    "        for i in range(1, len(x)):\n",
    "            dx = x[i] - x[i-1]    \n",
    "            dy = y[i] - y[i-1]    \n",
    "            hb, hf = H - y[i-1], H - y[i]\n",
    "            \n",
    "            if hb <= float(0) :\n",
    "                if hf > float(0) :\n",
    "                    dx_dh = dx / (hf - hb)\n",
    "                    B += hf * dx_dh\n",
    "                    A += 0.5 * hf * hf * dx_dh\n",
    "                    Sp = hf * np.sqrt( dx_dh * dx_dh + 1.0)\n",
    "                    S +=  Sp\n",
    "                    SN += Sp * n[i-1]**1.5\n",
    "            elif hf <= float(0) :\n",
    "                if hb > float(0) :\n",
    "                    dx_dh = dx / (hf - hb)\n",
    "                    B -= hb * dx_dh\n",
    "                    A -= 0.5 * hb * hb * dx_dh\n",
    "                    Sp = hb * np.sqrt(dx_dh * dx_dh + 1.0)\n",
    "                    S += Sp\n",
    "                    SN += Sp * n[i-1]**1.5\n",
    "            else :\n",
    "                B += dx\n",
    "                A += 0.5 * dx * (hf + hb)\n",
    "                Sp = np.sqrt(dx**2 + dy**2)\n",
    "                S += Sp\n",
    "                SN += Sp * n[i-1]**1.5\n",
    "                \n",
    "        if S <= float(0):\n",
    "            nd = float(0)\n",
    "            K = float(0)\n",
    "        else:\n",
    "            nd = (SN/S)**(2.0/3.0)\n",
    "            K = A**(5.0/3.0)/nd/S**(2.0/3.0)\n",
    "            \n",
    "        return A, B, S, K, nd\n",
    "    \n",
    "    def H0(self, Q, ib, dh = float(0.1)):\n",
    "        # 初期値は最深河床高+1cmとする。\n",
    "        H = self.y.min() + float(0.01)\n",
    "        \n",
    "        _,_,_,K,_ = self.H2ABSKn(H)\n",
    "        ie = Q**2/K**2\n",
    "        \n",
    "        while np.abs(ib - ie)/ie > 0.0001:\n",
    "            if ib < ie:\n",
    "                H += dh\n",
    "            else :\n",
    "                dh *= float(0.5)\n",
    "                H -= dh\n",
    "                \n",
    "            _,_,_,K,_ = self.H2ABSKn(H)\n",
    "            ie = Q**2/K**2\n",
    "            \n",
    "        return H\n",
    "    \n",
    "    \n",
    "    def Hc(self, Q, dh = float(0.1)):\n",
    "        # 初期値は最深河床高+1cmとする。\n",
    "        H = self.y.min() + float(0.01)\n",
    "        \n",
    "        A,_,S,_,_ = self.H2ABSKn(H)\n",
    "        fr = Q/A/np.sqrt(float(9.8)*A/S)\n",
    "        \n",
    "        while np.abs(-float(1.0) + fr)/fr > 0.0001:\n",
    "            if fr > float(1.0):\n",
    "                H += dh\n",
    "            else :\n",
    "                dh *= float(0.5)\n",
    "                H -= dh\n",
    "    \n",
    "            A,_,S,_,_ = self.H2ABSKn(H)\n",
    "            fr = Q/A/np.sqrt(float(9.8)*A/S)\n",
    "        \n",
    "        return H\n",
    "        "
   ]
  },
  {
   "cell_type": "code",
   "execution_count": 21,
   "id": "3c6878fd",
   "metadata": {},
   "outputs": [],
   "source": [
    "csections = [section(s['x'],s['y'],s['n'],s['L']) for s in sections]"
   ]
  },
  {
   "cell_type": "code",
   "execution_count": 22,
   "id": "45ba7a0b",
   "metadata": {},
   "outputs": [
    {
     "data": {
      "text/plain": [
       "(2.799453125000001, 5.687929687499997)"
      ]
     },
     "execution_count": 22,
     "metadata": {},
     "output_type": "execute_result"
    }
   ],
   "source": [
    "Q = float(1500)\n",
    "ib = float(1/2000)\n",
    "\n",
    "s = csections[0]\n",
    "s.Hc(Q), s.H0(Q,ib)"
   ]
  },
  {
   "cell_type": "code",
   "execution_count": 23,
   "id": "8f495782",
   "metadata": {},
   "outputs": [],
   "source": [
    "Q = float(1500)\n",
    "ib = float(1/2000)\n",
    "\n",
    "g = float(9.8)\n",
    "dhini = float(0.5)\n",
    "H = np.empty(len(csections))\n",
    "\n",
    "# 下流端水位\n",
    "# 添字dがi-1、添字pがiの値\n",
    "s = csections[0]\n",
    "Qd = Q\n",
    "H[0] = s.H0(Qd, ib)\n",
    "Hd = H[0]\n",
    "Ad,_,_,Kd,_ = s.H2ABSKn(Hd) # 引数は水位のみ\n",
    "ied = Qd**2/Kd**2\n",
    "    \n",
    "for i in range(1, len(csections)):\n",
    "    # 収束計算の初期値は限界流時水位+1mm\n",
    "    sp, sd = csections[i], csections[i-1]\n",
    "    Qp = Q\n",
    "    Hp = sp.Hc(Qp)\n",
    "    Ap,_,_,Kp,_ = sp.H2ABSKn(Hp) \n",
    "    iep = Qp**2/Kp**2\n",
    "    dx = sp.L - sd.L\n",
    "        \n",
    "    E1 = 0.5/g*Qp**2.0/Ap**2.0 + Hp\n",
    "    E2 = 0.5/g*Qd**2.0/Ad**2.0 + Hd + 0.5*dx*(ied + iep)\n",
    "    \n",
    "    Hp = Hp + float(0.001)\n",
    "    dh = dhini\n",
    "    for n in range(1000):\n",
    "        Ap,_,_,Kp,_ = sp.H2ABSKn(Hp)\n",
    "        iep = Qp**2/Kp**2\n",
    "    \n",
    "        E1 = 0.5/g*Qp**2.0/Ap**2.0 + Hp\n",
    "        E2 = 0.5/g*Qd**2.0/Ad**2.0 + Hd + 0.5*dx*(ied + iep)\n",
    "        \n",
    "        if np.abs(E1 - E2) < 0.00001 : \n",
    "            break\n",
    "        elif E1 > E2 :\n",
    "            dh *= float(0.5)\n",
    "            Hp -= dh\n",
    "        else:\n",
    "            Hp += dh\n",
    "            \n",
    "#     print(i,sp.L,n)\n",
    "    H[i] = Hp\n",
    "    Qd, Hd, ied, Ad = Qp, Hp, iep, Ap"
   ]
  },
  {
   "cell_type": "code",
   "execution_count": 24,
   "id": "a2fe77c1",
   "metadata": {},
   "outputs": [
    {
     "data": {
      "image/png": "[encoded data removed]",
      "text/plain": [
       "<Figure size 1080x576 with 1 Axes>"
      ]
     },
     "metadata": {
      "needs_background": "light"
     },
     "output_type": "display_data"
    }
   ],
   "source": [
    "import matplotlib.pyplot as plt\n",
    "\n",
    "plt.figure(figsize=(15,8))\n",
    "\n",
    "L = [s.L for s in csections]\n",
    "zb = [s.y.min() for s in csections]\n",
    "gHc = [s.Hc(Q) for s in csections]\n",
    "gH0 = [s.H0(Q,ibb) for s,ibb in zip(csections,ibs)]\n",
    "\n",
    "plt.plot(L,zb,label='zbmin', color='k')\n",
    "plt.plot(L,gHc,label='Hc', color='r')\n",
    "plt.plot(L,gH0,label='H0', color='g')\n",
    "plt.plot(L,H,label='W.L.', color='b')\n",
    "plt.legend()\n",
    "plt.show()"
   ]
  },
  {
   "cell_type": "markdown",
   "id": "61f39b6e",
   "metadata": {},
   "source": [
    "一応等流時水位を入れているが、実河川では計算することは難しい。"
   ]
  }
 ],
 "metadata": {
  "kernelspec": {
   "display_name": "Python 3",
   "language": "python",
   "name": "python3"
  },
  "language_info": {
   "codemirror_mode": {
    "name": "ipython",
    "version": 3
   },
   "file_extension": ".py",
   "mimetype": "text/x-python",
   "name": "python",
   "nbconvert_exporter": "python",
   "pygments_lexer": "ipython3",
   "version": "3.7.10"
  },
  "toc": {
   "base_numbering": 1,
   "nav_menu": {},
   "number_sections": true,
   "sideBar": true,
   "skip_h1_title": false,
   "title_cell": "Table of Contents",
   "title_sidebar": "Contents",
   "toc_cell": false,
   "toc_position": {},
   "toc_section_display": true,
   "toc_window_display": true
  }
 },
 "nbformat": 4,
 "nbformat_minor": 5
}
