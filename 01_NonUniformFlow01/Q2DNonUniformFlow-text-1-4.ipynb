{
 "cells": [
  {
   "cell_type": "markdown",
   "id": "55423b51",
   "metadata": {},
   "source": [
    "# 準二次元不等流計算1/4：不等流計算の基礎\n",
    "\n",
    "\n",
    "- [LICENSE](https://raw.githubusercontent.com/computational-sediment-hyd/NonUniformFlowModelUsingPython/main/LICENSE)"
   ]
  },
  {
   "cell_type": "markdown",
   "id": "bb77317a",
   "metadata": {},
   "source": [
    "---"
   ]
  },
  {
   "cell_type": "markdown",
   "id": "7157ffb3",
   "metadata": {},
   "source": [
    "## 基礎式\n",
    "\n",
    "矩形近似した断面の不等流計算の基礎式はベルヌーイの式とマニング則より次式となる。\n",
    "\n",
    "$$\n",
    "\\begin{align}\n",
    "& \\dfrac{d}{dx}\\left( \\frac{q^2}{2gh^2} + h + z_b \\right) = -i_e \\\\\n",
    "& q = \\dfrac{1}{n}i_e^{1/2}h^{5/3} \\\\\n",
    "\\end{align}\n",
    "$$\n",
    "\n",
    "ここに、$q$:単位幅流量、$h$：水深、$z_b$：河床高、$i_e$：エネルギー勾配、$n$：マニングの粗度係数、$g$：重力加速度とする。\n",
    "\n",
    "---\n",
    "\n",
    "等流水深$h_0$、限界水深$h_c$は次式となる。\n",
    "\n",
    "$$\n",
    "\\begin{align}\n",
    "h_0&=\\left(\\dfrac{q^2n^2}{i_b}\\right)^{3/10} \\\\\n",
    "h_c&=\\left(\\dfrac{q^2}{g}\\right)^{1/3}\n",
    "\\end{align}\n",
    "$$\n",
    "\n",
    "ここに、$i_b = - \\dfrac{d z_b}{dx}$：河床勾配とする。"
   ]
  },
  {
   "cell_type": "markdown",
   "id": "971bc91f",
   "metadata": {},
   "source": [
    "---"
   ]
  },
  {
   "cell_type": "markdown",
   "id": "e57e7e63",
   "metadata": {},
   "source": [
    "## 離散化"
   ]
  },
  {
   "cell_type": "markdown",
   "id": "7fcdc326",
   "metadata": {},
   "source": [
    "ベルヌーイの式とマニング則を連立させて離散化すると次式となる。\n",
    "なお、$i$:上流側、$i-1$:下流側とする。\n",
    "\n",
    "$$\n",
    "\\begin{align}\n",
    "\\left(\\frac{q^2}{2gh^2_i} + h_i + {z_b}_i \\right) \n",
    "-\\left( \\frac{q^2}{2gh_{i-1}^2} + h_{i-1} + {z_b}_{i-1} \\right) \n",
    "= \\dfrac{1}{2}\\left(\\dfrac{q^2n^2}{h_i^{10/3}} + \\dfrac{q^2n^2}{h_{i-1}^{10/3}}\\right)\\Delta x\n",
    "\\end{align}\n",
    "$$\n",
    "\n",
    "エネルギー勾配は上下流断面の平均値を用いている。\n",
    "\n",
    "常流の場合、下流から逐次計算を行なうため未知数は$h_i$のみとなる。"
   ]
  },
  {
   "cell_type": "markdown",
   "id": "ceecb29a",
   "metadata": {},
   "source": [
    "---"
   ]
  },
  {
   "cell_type": "markdown",
   "id": "198cbaf9",
   "metadata": {},
   "source": [
    "## 水面形方程式\n",
    "\n",
    "前出のベルヌーイの式を変形して次の水面形方程式（水深の微分に関する方程式）を得る。"
   ]
  },
  {
   "cell_type": "markdown",
   "id": "1e5e24a0",
   "metadata": {},
   "source": [
    "$$\n",
    "\\begin{align}\n",
    " \\dfrac{d}{dx}\\left( \\dfrac{q^2}{2gh^2} + h + z_b \\right) &= -i_e \\\\\n",
    "- \\dfrac{q^2}{gh^3}\\dfrac{dh}{dx} + \\dfrac{dh}{dx} + \\dfrac{d z_b}{dx} &= -i_e \\\\\n",
    "\\dfrac{dh}{dx} &= \\dfrac{i_b -i_e }{ 1 - \\dfrac{q^2}{gh^3}}  \\\\\n",
    " &= \\dfrac{i_b -i_e }{ 1 - {Fr}^2} \n",
    "\\end{align}\n",
    "$$\n",
    "ここに、$Fr = \\dfrac{v}{\\sqrt{gh}} = \\dfrac{q}{\\sqrt{gh^3}}$：フルード数とする。"
   ]
  },
  {
   "cell_type": "markdown",
   "id": "cee7d186",
   "metadata": {},
   "source": [
    "---"
   ]
  },
  {
   "cell_type": "markdown",
   "id": "be66fef6",
   "metadata": {},
   "source": [
    "水面形方程式の分子=0は$\\dfrac{dh}{dx}=0$のため等流状態を示し、前出の等流水深が得られる（等流水深の定義）。\n",
    "また、分母=0から限界水深が得られ（限界水深の定義）、$\\dfrac{dh}{dx}=\\infty$のため水面形が得られない。この地点は支配断面と呼ばれる。\n",
    "\n",
    "上式を$h_0,h_c$を用いて展開すると次式が得られる。（式展開は例えば[ここ](https://sites.google.com/view/senmitsu/%E6%B0%B4%E5%B7%A5%E7%B3%BB/6-6-%E9%96%8B%E6%B0%B4%E8%B7%AF%E3%81%AE%E4%B8%8D%E7%AD%89%E6%B5%81)を参照）"
   ]
  },
  {
   "cell_type": "markdown",
   "id": "42b57465",
   "metadata": {},
   "source": [
    "$$\n",
    "\\begin{align}\n",
    "\\dfrac{dh}{dx} &= i_b \\dfrac{1-\\left(\\dfrac{h_0}{h}\\right)^{10/3}}{1-\\left(\\dfrac{h_c}{h}\\right)^3 }\n",
    "\\end{align}\n",
    "$$\n",
    "\n",
    "不等流計算を行なう上で本式より以下を理解しておく必要がある。"
   ]
  },
  {
   "cell_type": "markdown",
   "id": "290fd725",
   "metadata": {},
   "source": [
    "---"
   ]
  },
  {
   "cell_type": "markdown",
   "id": "c7579569",
   "metadata": {},
   "source": [
    "\n",
    "### 水面形の追跡方向\n",
    " - $Fr \\lt 1$または$h_c \\lt h$または$v\\lt\\sqrt{gh}$は、常流\n",
    " - $Fr \\gt 1$または$h_c \\gt h$または$v\\gt\\sqrt{gh}$は、射流\n",
    " \n",
    " と定義される。\n",
    " $\\sqrt{gh}$は（微小振幅波理論による水面波の）波速であり、射流は$v\\gt\\sqrt{gh}$のため水面変化が下流のみに影響するが、常流では上流にも影響をすることが示されている。\n",
    "そのため、不等流計算の水面形の追跡方向は、常流は下流から上流、射流は上流から下流となる。\n",
    "\n",
    "---\n",
    "\n",
    "### 水面形の概形\n",
    "\n",
    "$h,h_0,h_c$の関係より$\\dfrac{dh}{dx}$の符号が決まるため水面形の概形が把握できる。教科書にみられる緩勾配水路（M水路、$h_0 \\gt h_c$）や急勾配水路（S水路、$h_0 \\lt h_c$）などの水面形はこの考え方による描くことができる。\n"
   ]
  },
  {
   "cell_type": "markdown",
   "id": "6ba8bbe8",
   "metadata": {},
   "source": [
    "![A](https://computational-sediment-hyd.github.io/NonUniformFlowModelUsingPython/01_NonUniformFlow01/ref/fig01.jpg)\n",
    "\n",
    "出典：椿東一郎 水理学1 pp.151"
   ]
  },
  {
   "cell_type": "markdown",
   "id": "3636f7ed",
   "metadata": {},
   "source": [
    "---"
   ]
  },
  {
   "cell_type": "markdown",
   "id": "cf17330b",
   "metadata": {},
   "source": [
    "## 数値計算方法\n",
    "\n",
    "未知数$h_i$は直接計算できなため反復法によって近似解を求める。ここでは、ニュートン法を用いた。（参考：[ニュートン法とは](https://ja.wikipedia.org/wiki/%E3%83%8B%E3%83%A5%E3%83%BC%E3%83%88%E3%83%B3%E6%B3%95)）\n",
    "\n",
    "ニュートン法のアルゴリズムに沿うと、計算式は次のとおりとなる。"
   ]
  },
  {
   "cell_type": "markdown",
   "id": "e6d3a550",
   "metadata": {},
   "source": [
    "$$\n",
    "\\begin{align}\n",
    "f &= \\left(\\frac{q^2}{2gh^2_i} + h_i + {z_b}_i \\right) \n",
    "-\\left( \\frac{q^2}{2gh_{i-1}^2} + h_{i-1} + {z_b}_{i-1} \\right) \n",
    " - \\dfrac{1}{2}\\left(\\dfrac{q^2n^2}{h_i^{10/3}} + \\dfrac{q^2n^2}{h_{i-1}^{10/3}}\\right)\\Delta x \\\\\n",
    "\\dfrac{df}{dh_i} &= -\\frac{q^2}{gh^3_i} + 1 \n",
    "+ \\dfrac{5}{3}\\dfrac{q^2n^2}{h_i^{13/3}} \\Delta x\n",
    "\\end{align}\n",
    "$$\n",
    "\n",
    "$$\n",
    "\\begin{align}\n",
    "h^{new}_i &= h_i - \\dfrac{f}{\\dfrac{df}{dh_i}}\n",
    "% f &= \\left(\\frac{q^2}{2gh^2_i} + h_i + {z_b}_i \\right) \n",
    "% -\\left( \\frac{q^2}{2gh_{i-1}^2} + h_{i-1} + {z_b}_{i-1} \\right) \n",
    "%  + \\dfrac{1}{2}\\left(\\dfrac{q^2n^2}{h_i^{10/3}} + \\dfrac{q^2n^2}{h_{i-1}^{10/3}}\\right)\\Delta x \\\\\n",
    "% \\dfrac{df}{dh_i} &= -\\frac{q^2}{gh^3_i} + 1 \n",
    "% - \\dfrac{5}{3}\\dfrac{q^2n^2}{h_i^{13/3}} \\Delta x\n",
    "\\end{align}\n",
    "$$"
   ]
  },
  {
   "cell_type": "markdown",
   "id": "11e53686",
   "metadata": {},
   "source": [
    "---"
   ]
  },
  {
   "cell_type": "markdown",
   "id": "6af88a6d",
   "metadata": {},
   "source": [
    "## サンプルコード\n",
    "\n",
    "単位幅流量0.5$\\mathrm{m^3/s/m}$、マニングの粗度係数0.02、河床勾配1/500、水路延長50$\\mathrm{m}$の矩形水路を対象に下流端水位を限界水深としたときの水面形を計算せよ。なお、$\\Delta x$は0.1$\\mathrm{m}$とする。"
   ]
  },
  {
   "cell_type": "markdown",
   "id": "c2400ac0",
   "metadata": {},
   "source": [
    "---"
   ]
  },
  {
   "cell_type": "code",
   "execution_count": 1,
   "id": "b307fc60",
   "metadata": {},
   "outputs": [],
   "source": [
    "import numpy as np\n",
    "\n",
    "q = 0.5\n",
    "n = 0.02\n",
    "ib = 1/500\n",
    "g = 9.8\n",
    "dx = 0.1\n",
    "\n",
    "h0 = (q**2*n**2/ib)**0.3 #等流水深\n",
    "hc = (q**2/g)**(1/3) # 限界水深\n",
    "\n",
    "L = np.arange(0,50.01,dx) #追加距離の配列\n",
    "zb = L*ib #河床高の配列\n",
    "h = np.zeros_like(L) #水深の配列\n",
    "\n",
    "h[0] = hc #下流端条件\n",
    "for i in range(1,len(h)):\n",
    "    h[i] = h[i-1] #収束計算の初期値：一つ下流側の断面の水深\n",
    "    f = 1.0 #仮値\n",
    "    dfdh = 1.0 #仮値\n",
    "    while np.abs(f/dfdh) > 10**(-8): # 反復計算の収束条件\n",
    "        f = q**2/2.0/g/h[i]**2 + h[i] + zb[i] \\\n",
    "          -(q**2/2.0/g/h[i-1]**2 + h[i-1] + zb[i-1]) \\\n",
    "          - 0.5*(q**2*n**2/h[i]**(10/3) + q**2*n**2/h[i-1]**(10/3))*dx\n",
    "        dfdh = -q**2/g/h[i]**3 + 1 + 5/3*q**2*n**2/h[i]**(13/3)*dx\n",
    "        h[i] -= f/dfdh"
   ]
  },
  {
   "cell_type": "markdown",
   "id": "33209176",
   "metadata": {},
   "source": [
    "---"
   ]
  },
  {
   "cell_type": "code",
   "execution_count": 2,
   "id": "e5a6b921",
   "metadata": {},
   "outputs": [
    {
     "data": {
      "image/png": "[encoded data removed]",
      "text/plain": [
       "<Figure size 640x480 with 1 Axes>"
      ]
     },
     "metadata": {},
     "output_type": "display_data"
    }
   ],
   "source": [
    "import matplotlib.pyplot as plt\n",
    "\n",
    "plt.plot(L,zb, label='zb')\n",
    "plt.plot(L,h+zb, label='water level')\n",
    "plt.plot(L,zb+h0, label='h0')\n",
    "plt.plot(L,zb+hc, label='hc')\n",
    "plt.legend()              # 凡例の表示\n",
    "plt.show()                # 描画"
   ]
  },
  {
   "cell_type": "markdown",
   "id": "61286499",
   "metadata": {},
   "source": [
    "---"
   ]
  },
  {
   "cell_type": "markdown",
   "id": "1555866c",
   "metadata": {},
   "source": [
    "## 補足：常流、射流混在流れの数値計算方法\n",
    "\n",
    "実河川では射流が出現する範囲は局所的であり、射流の水面形が求めれることはそう多くない。\n",
    "\n",
    "常流、射流の混在流れの計算方法については例えば以下が参考となる。\n",
    "\n",
    " - [石川ら：常流・射流が混在する区間の不等流計算法](https://jglobal.jst.go.jp/detail?JGLOBAL_ID=200902051802853683)(元論文が必要な方はDM下さい)\n",
    " - [岡部ら：常流・射流の遷移を伴う不等流の数値計算法について](https://www.jstage.jst.go.jp/article/prohe1990/36/0/36_0_337/_article/-char/ja/)\n",
    " - [HEC-RAS River Analysis System - Hydraulic Reference Manual:Mixed Flow Regime Calculations](http://drm.cenn.org/Trainings/Flood%20Modelling/Other%20Documents/Software/HECRAS/manuals/HEC-RAS_4.1_Reference_Manual.pdf#page=98)（リンク切れの場合DM下さい）\n",
    "\n",
    "かなり煩雑な計算が必要な上、わずかな条件の差で跳水位置が変わるなど実務的に取り扱いが難しい。\n",
    "また、射流部では$\\Delta x$を十分に小さくとることが必要となる。\n",
    "\n",
    "---\n",
    "\n",
    "実務では、常流区間の中で一部が射流であれば限界水深に置き換えて計算する場合が多い。また、射流部のフルード数が大きい場合は、次に示すようなリミッターを設定することにより水面形を滑らかにすることもある。\n",
    "\n",
    " - [Fread et al.:An LPI Numerical Implicit Solution for Unsteady Mixed-Flow Simulation](https://cedb.asce.org/CEDBsearch/record.jsp?dockey=0099470)(元論文が必要な方はDM下さい)\n",
    " - [MIKE 11 Reference Manua:Suppression of convective acceleration term](https://manuals.mikepoweredbydhi.help/2021/Water_Resources/Mike_11_ref.pdf#page=171)（リンク切れの場合DM下さい）\n",
    "\n",
    "計算負荷が大きくても問題がない場合は不定流計算による定常解により水面形を与える方法も考えられる。\n",
    "\n",
    "常流、射流混在流れの水面形は計算手法によって大きく異なってしまうため、計算の際は十分に検討することが必要である。\n"
   ]
  }
 ],
 "metadata": {
  "kernelspec": {
   "display_name": "Python 3 (ipykernel)",
   "language": "python",
   "name": "python3"
  },
  "language_info": {
   "codemirror_mode": {
    "name": "ipython",
    "version": 3
   },
   "file_extension": ".py",
   "mimetype": "text/x-python",
   "name": "python",
   "nbconvert_exporter": "python",
   "pygments_lexer": "ipython3",
   "version": "3.10.12"
  },
  "toc": {
   "base_numbering": 1,
   "nav_menu": {},
   "number_sections": true,
   "sideBar": true,
   "skip_h1_title": false,
   "title_cell": "Table of Contents",
   "title_sidebar": "Contents",
   "toc_cell": false,
   "toc_position": {},
   "toc_section_display": true,
   "toc_window_display": false
  }
 },
 "nbformat": 4,
 "nbformat_minor": 5
}
