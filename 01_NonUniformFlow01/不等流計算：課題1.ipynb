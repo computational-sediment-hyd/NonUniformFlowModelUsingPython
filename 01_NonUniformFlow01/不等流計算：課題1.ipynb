{
 "cells": [
  {
   "cell_type": "markdown",
   "id": "55423b51",
   "metadata": {},
   "source": [
    "# 不等流計算"
   ]
  },
  {
   "cell_type": "markdown",
   "id": "7157ffb3",
   "metadata": {},
   "source": [
    "## 基礎式\n",
    "\n",
    "矩形近似した断面の不等流計算の基礎式はベルヌーイの式とマニング則より次式となる。\n",
    "\n",
    "$$\n",
    "\\begin{align}\n",
    "& \\dfrac{d}{dx}\\left( \\frac{q^2}{2gh^2} + h + z_b \\right) = -i_e \\\\\n",
    "& q = \\dfrac{1}{n}i_e^{1/2}h^{5/3} \\\\\n",
    "\\end{align}\n",
    "$$\n",
    "\n",
    "ここに、$q$:単位幅流量、$h$：水深、$z_b$：河床高、$i_e$：エネルギー勾配、$n$：マニングの粗度係数、$g$：重量加速度とする。\n",
    "\n",
    "等流水深$h_0$、限界水深$h_c$は次式となる。\n",
    "\n",
    "$$\n",
    "\\begin{align}\n",
    "h_0&=\\left(\\dfrac{q^2n^2}{i_b}\\right)^{3/10} \\\\\n",
    "h_c&=\\left(\\dfrac{q^2}{g}\\right)^{1/3}\n",
    "\\end{align}\n",
    "$$\n",
    "\n",
    "ここに、$i_b$：河床勾配とする。"
   ]
  },
  {
   "cell_type": "markdown",
   "id": "e57e7e63",
   "metadata": {},
   "source": [
    "## 離散化"
   ]
  },
  {
   "cell_type": "markdown",
   "id": "7fcdc326",
   "metadata": {},
   "source": [
    "ベルヌーイの式とマニング則を連立させて離散化すると次式となる。\n",
    "なお、$i$:上流側、$i-1$:下流側とする。\n",
    "\n",
    "$$\n",
    "\\begin{align}\n",
    "\\left(\\frac{q^2}{2gh^2_i} + h_i + {z_b}_i \\right) \n",
    "-\\left( \\frac{q^2}{2gh_{i-1}^2} + h_{i-1} + {z_b}_{i-1} \\right) \n",
    "= \\dfrac{1}{2}\\left(\\dfrac{q^2n^2}{h_i^{10/3}} + \\dfrac{q^2n^2}{h_{i-1}^{10/3}}\\right)\\Delta x\n",
    "\\end{align}\n",
    "$$\n",
    "\n",
    "エネルギー勾配は上下流断面の平均値を用いている。\n",
    "\n",
    "常流の場合、下流から逐次計算を行なうため未知数は$h_i$のみとなる。"
   ]
  },
  {
   "cell_type": "markdown",
   "id": "cf17330b",
   "metadata": {},
   "source": [
    "## 数値計算方法\n",
    "\n",
    "未知数$h_i$は直接計算できなため反復法によって近似解を求める。ここでは、ニュートン法を用いた。\n",
    "\n",
    "ニュートン法のアルゴリズムに沿うと、計算式は次のとおりとなる。"
   ]
  },
  {
   "cell_type": "markdown",
   "id": "e6d3a550",
   "metadata": {},
   "source": [
    "$$\n",
    "\\begin{align}\n",
    "f &= \\left(\\frac{q^2}{2gh^2_i} + h_i + {z_b}_i \\right) \n",
    "-\\left( \\frac{q^2}{2gh_{i-1}^2} + h_{i-1} + {z_b}_{i-1} \\right) \n",
    " - \\dfrac{1}{2}\\left(\\dfrac{q^2n^2}{h_i^{10/3}} + \\dfrac{q^2n^2}{h_{i-1}^{10/3}}\\right)\\Delta x \\\\\n",
    "\\dfrac{df}{dh_i} &= -\\frac{q^2}{gh^3_i} + 1 \n",
    "+ \\dfrac{5}{3}\\dfrac{q^2n^2}{h_i^{13/3}} \\Delta x\n",
    "\\end{align}\n",
    "$$\n",
    "\n",
    "$$\n",
    "\\begin{align}\n",
    "h^{new}_i &= h_i - \\dfrac{f}{\\dfrac{df}{dh_i}}\n",
    "% f &= \\left(\\frac{q^2}{2gh^2_i} + h_i + {z_b}_i \\right) \n",
    "% -\\left( \\frac{q^2}{2gh_{i-1}^2} + h_{i-1} + {z_b}_{i-1} \\right) \n",
    "%  + \\dfrac{1}{2}\\left(\\dfrac{q^2n^2}{h_i^{10/3}} + \\dfrac{q^2n^2}{h_{i-1}^{10/3}}\\right)\\Delta x \\\\\n",
    "% \\dfrac{df}{dh_i} &= -\\frac{q^2}{gh^3_i} + 1 \n",
    "% - \\dfrac{5}{3}\\dfrac{q^2n^2}{h_i^{13/3}} \\Delta x\n",
    "\\end{align}\n",
    "$$"
   ]
  },
  {
   "cell_type": "markdown",
   "id": "6af88a6d",
   "metadata": {},
   "source": [
    "## サンプルコード\n",
    "\n",
    "単位幅流量0.5、マニングの粗度係数0.02、河床勾配1/500、水路延長50mの矩形水路を対象に下流端水位を限界水深としたときの水面形を計算せよ。なお、$\\Delta x$は0.1とする。"
   ]
  },
  {
   "cell_type": "code",
   "execution_count": 1,
   "id": "b307fc60",
   "metadata": {},
   "outputs": [],
   "source": [
    "import numpy as np\n",
    "\n",
    "q = 0.5\n",
    "n = 0.02\n",
    "ib = 1/500\n",
    "g = 9.8\n",
    "dx = 0.1\n",
    "\n",
    "h0 = (q**2*n**2/ib)**0.3 #等流水深\n",
    "hc = (q**2/g)**(1/3) # 限界水深\n",
    "\n",
    "L = np.arange(0,50.01,dx) #追加距離の配列\n",
    "zb = L*ib #河床高の配列\n",
    "h = np.zeros_like(L) #水深の配列\n",
    "\n",
    "h[0] = hc #下流端条件\n",
    "for i in range(1,len(h)):\n",
    "    h[i] = h[i-1] #収束計算の初期値：一つ下流側の断面の水深\n",
    "    f = 1.0 #仮値\n",
    "    dfdh = 1.0 #仮値\n",
    "    while np.abs(f/dfdh) > 10**(-8): # 反復計算の収束条件\n",
    "        f = q**2/2.0/g/h[i]**2 + h[i] + zb[i] \\\n",
    "          -(q**2/2.0/g/h[i-1]**2 + h[i-1] + zb[i-1]) \\\n",
    "          - 0.5*(q**2*n**2/h[i]**(10/3) + q**2*n**2/h[i-1]**(10/3))*dx\n",
    "        dfdh = -q**2/g/h[i]**3 + 1 + 5/3*q**2*n**2/h[i]**(13/3)*dx\n",
    "        h[i] -= f/dfdh"
   ]
  },
  {
   "cell_type": "code",
   "execution_count": 2,
   "id": "e5a6b921",
   "metadata": {},
   "outputs": [
    {
     "data": {
      "image/png": "[encoded data removed]",
      "text/plain": [
       "<Figure size 432x288 with 1 Axes>"
      ]
     },
     "metadata": {
      "needs_background": "light"
     },
     "output_type": "display_data"
    }
   ],
   "source": [
    "import matplotlib.pyplot as plt\n",
    "\n",
    "plt.plot(L,zb, label='zb')\n",
    "plt.plot(L,h+zb, label='water level')\n",
    "plt.plot(L,zb+h0, label='h0')\n",
    "plt.plot(L,zb+hc, label='hc')\n",
    "plt.legend()              # 凡例の表示\n",
    "plt.show()                # 描画"
   ]
  },
  {
   "cell_type": "markdown",
   "id": "c3f3dc13",
   "metadata": {},
   "source": [
    "## 課題"
   ]
  },
  {
   "cell_type": "markdown",
   "id": "802c6d64",
   "metadata": {},
   "source": [
    "1. 反復法をニュートン法から二分法に変更して計算して下さい。\n",
    "1. 反復法をscipyパッケージに含まれるモジュールで置き換えて計算してみて下さい。\n",
    "1. 完全に射流になる計算条件を設定し、S2水面形を計算してみて下さい。\n"
   ]
  }
 ],
 "metadata": {
  "kernelspec": {
   "display_name": "Python 3",
   "language": "python",
   "name": "python3"
  },
  "language_info": {
   "codemirror_mode": {
    "name": "ipython",
    "version": 3
   },
   "file_extension": ".py",
   "mimetype": "text/x-python",
   "name": "python",
   "nbconvert_exporter": "python",
   "pygments_lexer": "ipython3",
   "version": "3.7.10"
  },
  "toc": {
   "base_numbering": 1,
   "nav_menu": {},
   "number_sections": true,
   "sideBar": true,
   "skip_h1_title": false,
   "title_cell": "Table of Contents",
   "title_sidebar": "Contents",
   "toc_cell": false,
   "toc_position": {},
   "toc_section_display": true,
   "toc_window_display": false
  }
 },
 "nbformat": 4,
 "nbformat_minor": 5
}
