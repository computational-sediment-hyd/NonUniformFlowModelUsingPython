{
 "cells": [
  {
   "cell_type": "markdown",
   "id": "55423b51",
   "metadata": {},
   "source": [
    "# 不等流計算4:一般断面の不等流計算3-分割断面法+分割断面間の干渉を考慮（平均流速公式レベル3）"
   ]
  },
  {
   "cell_type": "markdown",
   "id": "2058ea4e",
   "metadata": {},
   "source": [
    "## はじめに\n",
    "\n",
    " - 前回説明した分割断面法（平均流速公式レベル2）では、**分割断面間で流れの干渉は生じない**こと条件とした。\n",
    " - 今回説明する平均流速公式レベル3(以降、本手法)は、**分割断面間での流れの干渉による運動量損失**を考慮したモデルとなる。\n",
    " - 流れ同士の干渉による損失と樹木群と流れの干渉による損失を考慮する。\n",
    " - 種々の研究成果があるが、河道計画で広く使用されている[福岡・藤田の考え方](https://www.jstage.jst.go.jp/article/jscej1984/1989/411/1989_411_63/_article/-char/ja/)を基本に説明を行なう。\n",
    " \n",
    "![A](https://computational-sediment-hyd.github.io/NonUniformFlowModelUsingPython/04_NonUniformFlow04/ref/section.png)\n",
    "\n",
    " - おさらい\n",
    "    * 分割断面ごとに変わる：流速、河積、潤辺、粗度係数など\n",
    "    * 分割断面ごとに変わらない：水位、エネルギー勾配"
   ]
  },
  {
   "cell_type": "markdown",
   "id": "e3f6f8d9",
   "metadata": {},
   "source": [
    "## 分割断面間の干渉とは？\n"
   ]
  },
  {
   "cell_type": "markdown",
   "id": "cb93ebaf",
   "metadata": {},
   "source": [
    " - 低水路・高水敷間など各領域の流速差が大きい場合、境界付近には水平渦が発生することが知られている。\n",
    " - 本手法では、この渦による運動量損失が水位に影響を及ぼすと考えている。"
   ]
  },
  {
   "cell_type": "markdown",
   "id": "42bf1dea",
   "metadata": {},
   "source": [
    "\n",
    "[石川ら,2011:洪水航空写真に捉えられた低水路河岸渦の特性に関する比較研究](https://www.jstage.jst.go.jp/article/jscejhe/67/4/67_4_I_1093/_article/-char/ja/)\n",
    "![A](https://computational-sediment-hyd.github.io/NonUniformFlowModelUsingPython/04_NonUniformFlow04/ref/tone.png)\n",
    "![A](https://computational-sediment-hyd.github.io/NonUniformFlowModelUsingPython/04_NonUniformFlow04/ref/edo.png)"
   ]
  },
  {
   "cell_type": "markdown",
   "id": "6c35276d",
   "metadata": {},
   "source": [
    " - 前回講義でも少し説明したが、横断面内の流速分布は、高水敷・低水路間で不連続的となり、渦の影響を受けていることは明らかである。\n",
    " - 実河川スケールでの観測データが少なく、その影響度合いは不明な点が多い。\n",
    "\n",
    "[福岡,藤田,1989:複断面河道の抵抗予測と河道計画への応用](https://www.jstage.jst.go.jp/article/jscej1984/1989/411/1989_411_63/_article/-char/ja/)\n",
    "\n",
    "![A](https://computational-sediment-hyd.github.io/NonUniformFlowModelUsingPython/04_NonUniformFlow04/ref/fukuoka.png)"
   ]
  },
  {
   "cell_type": "markdown",
   "id": "65bdda8e",
   "metadata": {},
   "source": [
    "## 補足：斜昇流の存在"
   ]
  },
  {
   "cell_type": "markdown",
   "id": "f937d059",
   "metadata": {},
   "source": [
    " - 高水敷の流速が大きい場合、斜昇流と呼ばれる低水路から高水敷に向かう流れ(縦渦)が存在することが知られている。\n",
    " - 今回説明する干渉の影響では、斜昇流による損失は考慮されていない。\n",
    " - 観測、解析技術の進展により、徐々に実態が解明されつつある。実河川での観測例は無い（多分）。\n",
    " \n",
    "[渡辺ら2022:高水敷先端部の吸込み操作に伴う複断面開水路流れの変化特性](https://www.jstage.jst.go.jp/article/jscejhe/78/2/78_I_613/_pdf)\n",
    "\n",
    "![A](https://computational-sediment-hyd.github.io/NonUniformFlowModelUsingPython/04_NonUniformFlow04/ref/watanabe2.png)"
   ]
  },
  {
   "cell_type": "markdown",
   "id": "6612615e",
   "metadata": {},
   "source": [
    "## 基礎式\n"
   ]
  },
  {
   "cell_type": "markdown",
   "id": "9f8af7d4",
   "metadata": {},
   "source": [
    "### 運動方程式（流下方向）"
   ]
  },
  {
   "cell_type": "markdown",
   "id": "c0a3e556",
   "metadata": {},
   "source": [
    "本手法による不等流計算の運動方程式は次式を用いる。\n",
    "\n",
    "$$\n",
    "\\begin{align}\n",
    "& \\dfrac{d}{dx}\\left( \\frac{\\beta Q^2}{2gA^2} + H \\right) = -\\dfrac{T}{\\rho g A} \n",
    "\\end{align}\n",
    "$$\n",
    "\n",
    "ここに、$Q$:流量、$H$：水位、$A=\\sum A_n$：河積、$T$：横断面全体の作用するせん断力、$\\beta$：運動量補正係数とする。\n",
    "\n",
    "前回の分割断面法のときと同様である。\n",
    "今回は、右辺の生成項を変更を加える。\n",
    "\n",
    "これまでは、生成項は河床の摩擦損失のみを考慮したが、本手法では、分割断面間の流れ同士の干渉による損失および樹木群と流れの干渉による損失を追加する。\n",
    "\n",
    "\n",
    "これらを計算するためには各分割断面の流速が必要となる。次項に計算方法を示す。\n",
    "\n",
    "<!-- 上式の右辺を次式と定義する。\n",
    "\n",
    "$$\n",
    "\\begin{align}\n",
    "\\dfrac{T}{\\rho g A} \\equiv I\n",
    "\\end{align}\n",
    "$$\n",
    "\n",
    "ここに、$I$:損失勾配とする。\n",
    "\n",
    "若干の式変形を行なうと次のとおりとなる。\n",
    "\n",
    "$$\n",
    "\\begin{align}\n",
    "\\dfrac{\\displaystyle \\sum^n T_n}{\\rho g } = I \\sum^n A_n \n",
    "\\end{align}\n",
    "$$ -->"
   ]
  },
  {
   "cell_type": "markdown",
   "id": "62f97b87",
   "metadata": {},
   "source": [
    "### 横断方向の流速分布"
   ]
  },
  {
   "cell_type": "markdown",
   "id": "f11bffac",
   "metadata": {},
   "source": [
    "**各分割断面で流下方向に等流が成立すると仮定**すると、\n",
    "各分割断面で次式が成り立つ。\n",
    "\n",
    "$$\n",
    "\\begin{align}\n",
    "\\dfrac{ T_n}{\\rho g } = I  A_n \n",
    "\\end{align}\n",
    "$$\n",
    "\n",
    "ここで、\n",
    "分割断面間の流れ同士の干渉によるせん断力$\\tau^{\\prime}$(横断面の単位長さあたり)は次式で示す。\n",
    "\n",
    "$$\n",
    "\\begin{align}\n",
    "\\tau^{\\prime} & = \\rho f^{\\prime} \\Delta u |\\Delta u |\n",
    "\\end{align}\n",
    "$$\n",
    "\n",
    "また、\n",
    "樹木群と流れの干渉によるせん断力$\\tau\\$(横断面の単位長さあたり)は次式で示す。\n",
    "\n",
    "$$\n",
    "\\begin{align}\n",
    "\\tau & = \\rho f u^2\n",
    "\\end{align}\n",
    "$$\n",
    "\n",
    "ここに、$\\Delta u$は境界面を介して隣り合う分割断面間での断面平均流速差、$f,f^{\\prime}$は流れ間、流れと樹木間の境界混合係数とする。\n",
    "\n",
    "河床摩擦損失はマニング則を用いて次式とする。\n",
    "\n",
    "$$\n",
    "\\begin{align}\n",
    "I A_n = \\dfrac{ {n}^2 {u}^2}{ {R}^{1/3} } {S}\n",
    "\\end{align}\n",
    "$$"
   ]
  },
  {
   "cell_type": "markdown",
   "id": "78e2e10e",
   "metadata": {},
   "source": [
    "具体例として、次の断面のうち、n=3と2の分割断面について運動方程式を立ててみる。\n",
    "\n",
    "![A](https://computational-sediment-hyd.github.io/NonUniformFlowModelUsingPython/04_NonUniformFlow04/ref/section.png)"
   ]
  },
  {
   "cell_type": "markdown",
   "id": "440b839c",
   "metadata": {},
   "source": [
    "分割断面n=3の運動方程式\n",
    "\n",
    "$$\n",
    "\\begin{align}\n",
    "\t\\dfrac{ {n_n}^2 {u_n}^2}{ {R_n}^{1/3} } {S_n}\n",
    "\t+\\dfrac{ \\tau_n {S_w}_n}{\\rho g} \n",
    "    + \\dfrac{ \\tau^{\\prime}_n {S^{\\prime}_w}_n +  \\tau^{\\prime}_{n+1} {S^{\\prime}_w}_{n+1}  }{\\rho g}  & = A_n I \\\\\n",
    "     \\tau_n &= \\rho f_n u_n^2 \\\\\n",
    "     \\tau^{\\prime}_n  &= \\rho f^{\\prime}_n \\Delta u |\\Delta u | = \\rho f^{\\prime}_n (u_n-u_{n-1}) |u_n-u_{n-1}| \\\\\n",
    "     \\tau^{\\prime}_{n+1}  &= \\rho f^{\\prime}_{n+1} \\Delta u |\\Delta u | = \\rho f^{\\prime}_{n+1} (u_n-u_{n+1}) |u_n-u_{n+1}|\n",
    "\\end{align}\n",
    "$$\n",
    "\n",
    "![A](https://computational-sediment-hyd.github.io/NonUniformFlowModelUsingPython/04_NonUniformFlow04/ref/sectn3.PNG)"
   ]
  },
  {
   "cell_type": "markdown",
   "id": "1cc4d2ed",
   "metadata": {},
   "source": [
    "分割断面n=2の運動方程式\n",
    "\n",
    "$$\n",
    "\\begin{align}\n",
    "\t\\dfrac{ {n_n}^2 {u_n}^2}{ {R_n}^{1/3} } {S_n}\n",
    "    + \\dfrac{ \\tau^{\\prime}_n {S^{\\prime}_w}_n +  \\tau^{\\prime}_{n+1} {S^{\\prime}_w}_{n+1}  }{\\rho g}  & = A_n I \\\\\n",
    "     \\tau^{\\prime}_n  &= \\rho f^{\\prime}_n \\Delta u |\\Delta u | = \\rho f^{\\prime}_n (u_n-u_{n-1}) |u_n-u_{n-1}| \\\\\n",
    "     \\tau^{\\prime}_{n+1}  &= \\rho f^{\\prime}_{n+1} \\Delta u |\\Delta u | = \\rho f^{\\prime}_{n+1} (u_n-u_{n+1}) |u_n-u_{n+1}|\n",
    "\\end{align}\n",
    "$$\n",
    "\n",
    "![A](https://computational-sediment-hyd.github.io/NonUniformFlowModelUsingPython/04_NonUniformFlow04/ref/sectn2.PNG)"
   ]
  },
  {
   "cell_type": "markdown",
   "id": "27f075ee",
   "metadata": {},
   "source": [
    "すべての分割断面に対応できるように、一般化すると次式となる。\n",
    "\n",
    "$$\n",
    "\\begin{align}\n",
    "\t\\dfrac{ {n_n}^2 {u_n}^2}{ {R_n}^{1/3} } {S_n}\n",
    "\t+\\dfrac{ \\tau_n {S_w}_n + \\tau_{n+1} {S_w}_{n+1}}{\\rho g} \n",
    "    + \\dfrac{ \\tau^{\\prime}_n {S^{\\prime}_w}_n +  \\tau^{\\prime}_{n+1} {S^{\\prime}_w}_{n+1}  }{\\rho g}  & = A_n I \\\\\n",
    "     \\tau_n &= \\rho f_n u_n^2 \\\\\n",
    "     \\tau_{n+1} &= \\rho f_{n+1} u_n^2 \\\\\n",
    "     \\tau^{\\prime}_n  &= \\rho f^{\\prime}_n \\Delta u |\\Delta u | = \\rho f^{\\prime}_n (u_n-u_{n-1}) |u_n-u_{n-1}| \\\\\n",
    "     \\tau^{\\prime}_{n+1}  &= \\rho f^{\\prime}_{n+1} \\Delta u |\\Delta u | = \\rho f^{\\prime}_{n+1} (u_n-u_{n+1}) |u_n-u_{n+1}|\n",
    "\\end{align}\n",
    "$$\n",
    "\n",
    "よって、分割断面の数だけ方程式が成立する。\n",
    "なお、分割断面n=5は流速0のため、これを除いた5分割断面の計算を行なう。\n",
    "\n",
    "さらに、以下の連続式を連立させることにより、各分割断面の流速と損失勾配$I$を同時に解くことができる。\n",
    "$$\n",
    "\\begin{align}\n",
    "Q = \\displaystyle \\sum^n {u_n}A_n\n",
    "\\end{align}\n",
    "$$\n",
    "\n"
   ]
  },
  {
   "cell_type": "markdown",
   "id": "f036d0de",
   "metadata": {},
   "source": [
    "ここで得られた流速から求めるせん断力を流下方向の運動方程式に代入することにより縦断水位を計算する。\n",
    "なお、流水間のせん断力は前述のとおり分割断面間でキャンセルされるため、計算しないことに留意する。\n",
    "\n",
    "$$\n",
    "\\begin{align}\n",
    "\\dfrac{T}{\\rho g A} = \\dfrac{1}{A}\\left( \\sum_n^{nmax} \\left( \\dfrac{ {n_n}^2 {u_n}^2}{ {R_n}^{1/3} } {S_n} \\right)\n",
    "+  \\sum_n^{nmax+1} \\left( \\dfrac{ \\tau_n {S_w}_n}{\\rho g} \\right) \\right)\n",
    "\\end{align}\n",
    "$$\n",
    "\n",
    "<今回気づいたこと>\n",
    "\n",
    "以下のように有効断面の外側に死水域を設定する場合は下式のように境界部分のせん断力を見る必要があるかも。\n",
    "\n",
    "\n",
    "$$\n",
    "\\begin{align}\n",
    "\\dfrac{T}{\\rho g A} = \\dfrac{1}{A}\\left( \\sum_n^{nmax} \\left( \\dfrac{ {n_n}^2 {u_n}^2}{ {R_n}^{1/3} } {S_n} \\right)\n",
    "+  \\sum_n^{nmax+1} \\left( \\dfrac{ \\tau_n {S_w}_n}{\\rho g} \\right) \n",
    "+  \\dfrac{\\tau^{\\prime}_0 {S^{\\prime}_w}_0}{\\rho g} \n",
    "+  \\dfrac{\\tau^{\\prime}_{nmax+1} {S^{\\prime}_w}_{nmax+1}}{\\rho g}  \\right)\n",
    "\\end{align}\n",
    "$$\n",
    "\n",
    "[河道計画検討の手引き](http://www.jice.or.jp/cms/kokudo/pdf/tech/material/kadoukeikaku.pdf)\n",
    "\n",
    "![A](https://computational-sediment-hyd.github.io/NonUniformFlowModelUsingPython/04_NonUniformFlow04/ref/sisuiiki2.png)"
   ]
  },
  {
   "cell_type": "markdown",
   "id": "5164570a",
   "metadata": {},
   "source": [
    "### 境界混合係数について\n",
    "\n",
    "境界混合係数の標準値は以下のように定義されている。\n",
    "\n",
    "私の感覚では厳密にこの図に則って計算している事例は少ないように思う。\n",
    "高水敷・低水路間だけしっかり決めてあげれば良い気がする。"
   ]
  },
  {
   "cell_type": "markdown",
   "id": "4e27fa2e",
   "metadata": {},
   "source": [
    "\n",
    "[河道計画検討の手引き](http://www.jice.or.jp/cms/kokudo/pdf/tech/material/kadoukeikaku.pdf)\n",
    "\n",
    "![A](https://computational-sediment-hyd.github.io/NonUniformFlowModelUsingPython/04_NonUniformFlow04/ref/f1.png)"
   ]
  },
  {
   "cell_type": "markdown",
   "id": "10c29d1d",
   "metadata": {},
   "source": [
    "## 限界水深、等流水深の定義"
   ]
  },
  {
   "cell_type": "markdown",
   "id": "1c3e97f9",
   "metadata": {},
   "source": [
    "一般断面の基礎式を用いて、限界水深、等流水深を矩形断面と同様に定義で設定することは難しいため、便宜的に以下のとおりに設定する。\n",
    "\n",
    "### 等流水深\n",
    "\n",
    "全ての損失による水頭の勾配が河床勾配$i_b$と釣り合う状態を等流と定義してその水深を等流水深とする。\n",
    "なお、一般断面では水深を用いないため、正確には等流時の水位となる。\n",
    "\n",
    "$$\n",
    "\\begin{align}\n",
    " \\dfrac{T}{\\rho g A} = i_b\n",
    "\\end{align}\n",
    "$$\n",
    "\n",
    "\n",
    "となり、これを満足する水位$H$を反復法などにより求めれば良い。\n",
    "\n",
    "\n",
    "### 限界水深\n",
    "\n",
    "フルード数が1となる水位を限界流時の水位とする。\n",
    "\n",
    "フルード数はエネルギー保存則の分母が0より、\n",
    "\n",
    "$$\n",
    "\\begin{align}\n",
    "    1 &= \\dfrac{\\alpha q^2}{gh^3} \\\\\n",
    "    Fr&=  \\dfrac{V}{ \\sqrt{\\dfrac{gh}{\\alpha}}} \\\\\n",
    "    Fr&=  \\dfrac{Q}{A\\sqrt{\\dfrac{gh}{\\alpha}} }\n",
    "\\end{align}\n",
    "$$\n",
    "\n",
    "となるが、平方根の中に水深$h$が含まれるため、一般断面ではそのままでは計算できない。\n",
    "\n",
    "そのため、分割断面法では水深$h$の代替として井田の合成径深$R_c$を使用することが多い。その他には径深$R=A/S$、$A/B$を用いることもある。\n",
    "\n",
    "参考：[FORUM8ソフトウェア：等流・不等流の計算・3DCAD Ver.9 Q&A](https://www.forum8.co.jp/faq/win/futoryuqa.htm#q1-1)"
   ]
  },
  {
   "cell_type": "markdown",
   "id": "e57e7e63",
   "metadata": {},
   "source": [
    "## 離散化"
   ]
  },
  {
   "cell_type": "markdown",
   "id": "7fcdc326",
   "metadata": {},
   "source": [
    "横断方向流速分布の式は以下となり、分割断面数分の式が成り立つ。\n",
    "\n",
    "$$\n",
    "\\begin{align}\n",
    "\t\\dfrac{ {n_n}^2 {u_n}^2}{ {R_n}^{1/3} } {S_n}\n",
    "\t+\\dfrac{ \\tau_n {S_w}_n + \\tau_{n+1} {S_w}_{n+1}}{\\rho g} \n",
    "    + \\dfrac{ \\tau^{\\prime}_n {S^{\\prime}_w}_n +  \\tau^{\\prime}_{n+1} {S^{\\prime}_w}_{n+1}  }{\\rho g}  & = A_n I \\\\\n",
    "     \\tau_n &= \\rho f_n u_n^2 \\\\\n",
    "     \\tau_{n+1} &= \\rho f_{n+1} u_n^2 \\\\\n",
    "     \\tau^{\\prime}_n  &= \\rho f^{\\prime}_n \\Delta u |\\Delta u | = \\rho f^{\\prime}_n (u_n-u_{n-1}) |u_n-u_{n-1}| \\\\\n",
    "     \\tau^{\\prime}_{n+1}  &= \\rho f^{\\prime}_{n+1} \\Delta u |\\Delta u | = \\rho f^{\\prime}_{n+1} (u_n-u_{n+1}) |u_n-u_{n+1}|\n",
    "\\end{align}\n",
    "$$\n",
    "\n",
    "\n",
    "以下の連続式を連立させることにより、各分割断面の流速と損失勾配$I$を求める。\n",
    "\n",
    "$$\n",
    "\\begin{align}\n",
    "Q = \\displaystyle \\sum^n {u_n}A_n\n",
    "\\end{align}\n",
    "$$\n",
    "\n",
    "\n",
    "縦断水位の離散化はこれまでと同様に次式となる。\n",
    "なお、$i$:上流側、$i-1$:下流側とする。\n",
    "\n",
    "$$\n",
    "\\begin{align}\n",
    "  \\left(\\frac{\\beta_i Q^2}{2gA^2_i} + H_i  \\right) \n",
    "-\\left( \\frac{\\beta_{i-1} Q^2}{2gA_{i-1}^2} + H_{i-1}  \\right) \n",
    "&= \\dfrac{1}{2}\\left(\\dfrac{T_i}{\\rho g A_i} + \\dfrac{T_{i-1}}{\\rho g A_{i-1}} \\right)\\Delta x \\\\\n",
    "A&=\\sum A_n \n",
    "\\end{align}\n",
    "$$\n",
    "\n",
    "常流の場合、下流から逐次計算を行なうため未知数は$H_i$のみとなる。"
   ]
  },
  {
   "cell_type": "markdown",
   "id": "cf17330b",
   "metadata": {},
   "source": [
    "## 数値計算方法\n",
    "\n",
    "縦断水位はこれまで同様のため説明を省略し、横断方向流速分布の計算方法をのみを示す。この計算には、かなり高度な数値計算手法が必要なため、理解できなくても問題ない。\n",
    "\n",
    "計算するための前知識として以下の2手法を紹介する。"
   ]
  },
  {
   "cell_type": "markdown",
   "id": "3232b890",
   "metadata": {},
   "source": [
    "### 手法1：高次のニュートン法\n",
    "\n",
    "高次のニュートン法は、通常のニュートン法と同様に以下のように示される。\tなお、ボールド体は行列を示す。\n",
    "\n",
    "$$\n",
    "\\begin{align}\n",
    "\\boldsymbol{X}^{n+1}&=\\boldsymbol{X}^{n} \n",
    " -\\frac{\\partial \\boldsymbol{f}(\\boldsymbol{X}^n)}{\\partial\\boldsymbol{X}}^{-1}\\boldsymbol{f}(\\boldsymbol{X}^n)\n",
    "\\end{align}\n",
    "$$\n",
    "\n",
    "上式の右辺第二項を$\\boldsymbol{r}$とおく。\n",
    "\n",
    "\n",
    "$$\n",
    "\\begin{align} \n",
    "    \\boldsymbol{r}&=\\frac{\\partial \\boldsymbol{f}(\\boldsymbol{X}^n)}{\\partial \\boldsymbol{ X}}^{-1}\\boldsymbol{f}(\\boldsymbol{ X}^n)\n",
    "\\end{align}\n",
    "$$\n",
    "\n",
    "$\\boldsymbol{r}$は$\\dfrac{\\partial \\boldsymbol{f}( \\boldsymbol{X}^n)}{\\partial \\boldsymbol{X}}$の逆行列が計算できれば、容易に求めることができる。\n",
    "\n",
    "よって、下式で解の更新を行なう。\n",
    "\n",
    "$$\n",
    "\\begin{align} \n",
    "    \\boldsymbol{X}^{n+1}&=\\boldsymbol{X}^{n}-\\boldsymbol{r}\t\n",
    "\\end{align}\n",
    "$$\n",
    "    \n"
   ]
  },
  {
   "cell_type": "markdown",
   "id": "8dbbb3f3",
   "metadata": {},
   "source": [
    "### 手法2：TDMA法:今回の課題"
   ]
  },
  {
   "cell_type": "markdown",
   "id": "9d74e858",
   "metadata": {},
   "source": [
    "### 計算方法"
   ]
  },
  {
   "cell_type": "markdown",
   "id": "ea344184",
   "metadata": {},
   "source": [
    "分割断面の運動方程式を$u$について展開する。\n",
    "\n",
    "$$\n",
    "\\begin{align}\n",
    "\t\\dfrac{ {n_n}^2 {u_n}^2}{ {R_n}^{1/3} } {S_n}\n",
    "\t+\\dfrac{ \\tau_n {S_w}_n + \\tau_{n+1} {S_w}_{n+1}}{\\rho g} \n",
    "    + \\dfrac{ \\tau^{\\prime}_n {S^{\\prime}_w}_n +  \\tau^{\\prime}_{n+1} {S^{\\prime}_w}_{n+1}  }{\\rho g}  & = A_n I \\\\\n",
    "     \\tau_n &= \\rho f_n u_n^2 \\\\\n",
    "     \\tau_{n+1} &= \\rho f_{n+1} u_n^2 \\\\\n",
    "     \\tau^{\\prime}_n  &= \\rho f^{\\prime}_n \\Delta u |\\Delta u | = \\rho f^{\\prime}_n (u_n-u_{n-1}) |u_n-u_{n-1}| \\\\\n",
    "     \\tau^{\\prime}_{n+1}  &= \\rho f^{\\prime}_{n+1} \\Delta u |\\Delta u | = \\rho f^{\\prime}_{n+1} (u_n-u_{n+1}) |u_n-u_{n+1}|\n",
    "\\end{align}\n",
    "$$\n",
    "\n",
    "以下のとおりに式変形できる。\n",
    "\n",
    "$$\n",
    "\\begin{align}\n",
    "\ta_n X_{n-1}+b_n X_{n}+c_n X_{n+1}-A_n=0\n",
    "\\end{align}\n",
    "$$\n",
    "\n",
    "ここに、\n",
    "\n",
    "$$\n",
    "\\begin{align}\n",
    "    X_n&=\\dfrac{u_n}{\\sqrt{I}} \\\\\n",
    "\ta_n&=-\\frac{\\rho {f^{\\prime}}_{n} {S^{\\prime}_w}_{n}(X_{n}-X_{n-1}) \\sigma_1} {\\rho g}\\\\\n",
    "\tb_n&=\\left\\lbrace \\frac{ {n_n}^2 }{ {R_n}^{1/3} }  {S}_n +\\frac{ \\rho {f}_{n}  {S_w}_{n}+\\rho {f}_{n+1} {S_w}_{n+1}}{\\rho g}\\right\\rbrace X_n - a_n - c_n \\\\\n",
    "\tc_n&=-\\frac{\\rho {f^{\\prime}}_{n+1} {S^{\\prime}_w}_{n+1}(X_{n}-X_{n+1}) \\sigma_2} {\\rho g}\\\\\n",
    "    \\sigma_1 & = \\dfrac{(u_n-u_{n-1})}{|u_n-u_{n-1}|}  \\\\\n",
    "    \\sigma_2 & = \\dfrac{(u_n-u_{n+1})}{|u_n-u_{n+1}|} \n",
    "\\end{align} \n",
    "$$"
   ]
  },
  {
   "cell_type": "markdown",
   "id": "e505e929",
   "metadata": {},
   "source": [
    "全分割断面の方程式をベクトル形式で記述すると以下となる。なお、分割断面5は、水深が0となるため、省いて行列を構成する。\n",
    "\n",
    "$$\n",
    "\\begin{equation}\n",
    "\t\\boldsymbol{X}=\\dfrac{1}{\\sqrt{I}}\n",
    "\t\\begin{pmatrix}\n",
    "\t\tu_1 \\\\\n",
    "\t\tu_2 \\\\\n",
    "\t\tu_3 \\\\\n",
    "\t\tu_4 \\\\\n",
    "\t\tu_6 \\\\\n",
    "\t\\end{pmatrix}\n",
    "\\end{equation}\n",
    "$$\n",
    "\n",
    "$$\n",
    "\\begin{equation}\n",
    "\t\\boldsymbol{\\alpha}=\n",
    "\t\\begin{pmatrix}\n",
    "\t\tb_1 && c_1 && 0 &&  0 && 0 \\\\\n",
    "\t\ta_2 && b_2 && c_2 && 0 &&  0 \\\\\n",
    "\t\t0 && a_3 && b_3 && c_3 && 0 \\\\\n",
    "\t\t0 && 0 && a_4 && b_4 && c_4 \\\\\n",
    "\t\t0 && 0 && 0 && a_6 && b_6 \\\\\n",
    "\t\\end{pmatrix}\n",
    "\\end{equation}\n",
    "$$\n",
    "\n",
    "$$\n",
    "\\begin{equation}\n",
    "\t\\boldsymbol{\\beta}=\n",
    "\t\\begin{pmatrix}\n",
    "\t\tA_1 \\\\\n",
    "\t\tA_2 \\\\\n",
    "\t\tA_3 \\\\\n",
    "\t\tA_4 \\\\\n",
    "\t\tA_6 \\\\\n",
    "\t\\end{pmatrix}\n",
    "\\end{equation}\n",
    "$$\n",
    "\n",
    "$$\n",
    "\\begin{equation}\n",
    "\t\\boldsymbol{f}(\\boldsymbol{X})=\n",
    "    \\boldsymbol{\\alpha}\\boldsymbol{X} - \\boldsymbol{\\beta} \n",
    "\\end{equation}\n",
    "$$\n",
    "\n",
    "\n",
    "$\\boldsymbol{\\alpha}$は$X$の関数のため、直接計算することができない。\n",
    "\n",
    "そのため、高次のニュートン法を用いて反復計算を行なう。\n",
    "$\\boldsymbol{f}$の微分式は以下となる。\n",
    "\n",
    "$$\n",
    "\\begin{equation}\n",
    "\\label{eq:mat2} \n",
    "\\frac{\\partial \\boldsymbol{f}(\\boldsymbol{X})}{\\partial \\boldsymbol{X}}=\n",
    "\t\\begin{pmatrix}\n",
    "\t\t2b_1 && 2c_1 && 0 &&  0 && 0 \\\\\n",
    "\t\t2a_2 && 2b_2 && 2c_2 && 0 &&  0 \\\\\n",
    "\t\t0 && 2a_3 && 2b_3 && 2c_3 && 0 \\\\\n",
    "\t\t0 && 0 && 2a_4 && 2b_4 && 2c_4 \\\\\n",
    "\t\t0 && 0 && 0 && 2a_6 && 2b_6 \\\\\n",
    "\t\\end{pmatrix}\n",
    "\\end{equation}\n",
    "$$\n",
    "\n",
    "なお、上式は三重対角行列となるため、TDMAにより容易に逆行列が計算可能である。"
   ]
  },
  {
   "cell_type": "markdown",
   "id": "dcbf5a95",
   "metadata": {},
   "source": [
    "ニュートン法による計算結果の$\\boldsymbol{X}$と以下の連続式を連立させる。\n",
    "\n",
    "$$\n",
    "\\begin{align}\n",
    "Q = \\displaystyle \\sum^n {u_n}A_n\n",
    "\\end{align}\n",
    "$$\n",
    "\n",
    "よって、以下の式により$\\sqrt{I}$, $u_j$を求める。\n",
    "\n",
    "$$\n",
    "\\begin{align}\n",
    "\t\\sqrt{I}&=\\frac{Q}{ \\displaystyle \\sum_n (X_n A_n)} \\\\\n",
    "\tu_n&=\\sqrt{I}\\cdot X_n\n",
    "\\end{align}\n",
    "$$"
   ]
  },
  {
   "cell_type": "markdown",
   "id": "a5ae8942",
   "metadata": {},
   "source": [
    "## 本手法の課題"
   ]
  },
  {
   "cell_type": "markdown",
   "id": "fd14a23e",
   "metadata": {},
   "source": [
    " - 境界混合係数が大きすぎる\n",
    "     * 境界混合係数は高水敷、低水路の区分が明確な大河川での水平渦を想定して設定された値である。そのため、適用範囲は限定的。\n",
    "     * それにも関わらず、直轄河川では汎用されており、過大評価と考えられる。\n",
    " - 樹木群の死水域設定\n",
    "     * 洪水流をみればわかるが、完全に死水域となる樹木群はほとんどない。\n",
    "     * 実務では樹木群を死水域として取り扱うことが慣習化されており、過大評価と言える。\n",
    "     \n",
    "     \n",
    "上記からわかるとおり、本手法では水位が高めに計算されがちである。"
   ]
  },
  {
   "cell_type": "markdown",
   "id": "b3aad2ef",
   "metadata": {},
   "source": [
    "## 本手法の必要性、導入された経緯"
   ]
  },
  {
   "cell_type": "markdown",
   "id": "2b9751a0",
   "metadata": {},
   "source": [
    " - 福岡、藤田、山本などによると、\n",
    "    * 当時は痕跡水位から粗度係数を逆算することが行われており、様々な抵抗が粗度係数に含まれていた。\n",
    "    * マニング則は、河床の摩擦抵抗を示した式であり、それ以外の抵抗は当然評価できない。\n",
    "    * このような現象に基づかない計画は見直したい。つまり、流れの抵抗を適切に評価する必要がある。\n",
    " - 福岡、藤田は、流れの干渉、流れと樹木群の干渉に着目し、本手法を提案した。\n",
    " - 余談ですが、山本は低水路の粗度係数に着目し、流況と河床波の関係から粗度係数を評価する方法提案した。つまり、粗度係数は物理定数であることを改めて示した。\n",
    "    * 河道計画検討の手引から、低水路の粗度係数の設定に重点を置いていることが理解できる。\n",
    "    * 基本的には、推定粗度（流況によって決まる粗度）を使うことになっている。(未経験の出水に対して合理的に粗度係数を決める)\n",
    "    * これらの知見は、半理論式と現地観測（涸沼川での河床波計測など）から見出されたが外挿も多く、不明な点が多い。\n",
    "    \n",
    "    \n",
    "本手法には多くの問題点あるが、より正確に水位を計算したいという考えは正しいと思われる。"
   ]
  },
  {
   "cell_type": "markdown",
   "id": "4b13d030",
   "metadata": {},
   "source": [
    "## まとめ \n",
    "\n",
    "本手法：平均流速レベル3による一次元（準二次元）不等流計算方法について説明を行った。\n",
    "\n",
    " - 直轄河川の流下能力評価を行なう方は、本手法の概要くらいは理解して欲しい。\n",
    " - 数値計算方法はかなり難しいので理解できなくても問題ない。\n",
    " - 複断面河道の水理は、かつて世界的に様々な研究がなされたため、興味のある方は参照すると面白い。\n",
    " - 複断面河道の詳細な流況はまだまだ不明な点も多く、近年でも特に実験に関する研究成果が見られる。\n"
   ]
  }
 ],
 "metadata": {
  "kernelspec": {
   "display_name": "Python 3",
   "language": "python",
   "name": "python3"
  },
  "language_info": {
   "codemirror_mode": {
    "name": "ipython",
    "version": 3
   },
   "file_extension": ".py",
   "mimetype": "text/x-python",
   "name": "python",
   "nbconvert_exporter": "python",
   "pygments_lexer": "ipython3",
   "version": "3.7.10"
  },
  "toc": {
   "base_numbering": 1,
   "nav_menu": {},
   "number_sections": true,
   "sideBar": true,
   "skip_h1_title": false,
   "title_cell": "Table of Contents",
   "title_sidebar": "Contents",
   "toc_cell": false,
   "toc_position": {
    "height": "calc(100% - 180px)",
    "left": "10px",
    "top": "150px",
    "width": "294.333px"
   },
   "toc_section_display": true,
   "toc_window_display": true
  }
 },
 "nbformat": 4,
 "nbformat_minor": 5
}
