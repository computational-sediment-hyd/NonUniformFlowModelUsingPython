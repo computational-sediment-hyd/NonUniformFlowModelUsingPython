{
 "cells": [
  {
   "cell_type": "code",
   "execution_count": 6,
   "id": "772b7bca",
   "metadata": {},
   "outputs": [],
   "source": [
    "import matplotlib.pyplot as plt\n",
    "from matplotlib.patches import ArrowStyle"
   ]
  },
  {
   "cell_type": "code",
   "execution_count": 185,
   "id": "ded75178",
   "metadata": {},
   "outputs": [
    {
     "data": {
      "image/png": "[encoded data removed]",
      "text/plain": [
       "<Figure size 800x480 with 1 Axes>"
      ]
     },
     "metadata": {
      "needs_background": "light"
     },
     "output_type": "display_data"
    }
   ],
   "source": [
    "plt.figure(figsize=(10,6), dpi=80)\n",
    "           \n",
    "x=[0, 5,93,100,200,206,294,300]\n",
    "y=[6, 3.5, 3.5,  0,  0,  3,  3,  6]\n",
    "div = [0,63,93,206,230,260,300]\n",
    "plt.plot(x,y, c='k')\n",
    "plt.vlines(div, ymin=0, ymax=7.5, color='r')\n",
    "plt.axvspan(xmin=30, xmax=60, ymin=3.5, ymax=4.5, color='blue', alpha=0.1)\n",
    "plt.fill_between([63,93], 3.5, 5.0, facecolor='green', alpha=0.9) # Tree height 2.5m\n",
    "plt.fill_between([230,260], 3.0, 6.5, facecolor='green', alpha=0.9) # Tree height 3.5m\n",
    "plt.hlines(xmin=0,xmax=300,y=5.8, color='b') # water level\n",
    "\n",
    "yy = 6.8\n",
    "for n in range(1,len(div)):\n",
    "    plt.annotate('', xy=(div[n-1],yy), xytext=(div[n],yy),\n",
    "                arrowprops=dict(arrowstyle=ArrowStyle('<->', head_length=0.5, head_width=0.5),\n",
    "                                facecolor='k', edgecolor='k')\n",
    "                )\n",
    "    \n",
    "    plt.text((0.5*div[n-1]+0.5*div[n])-5, yy+0.1, r'$n=$'+str(n), fontsize=9)\n",
    "    \n",
    "yy = 6.8\n",
    "for n in range(len(div)):\n",
    "    plt.text(div[n]-5, yy+0.8, r'$n=$'+str(n+1), fontsize=9, color='r')\n",
    "    \n",
    "plt.annotate('', xy=(93,3.5), xytext=(93,5), \n",
    "            arrowprops=dict(arrowstyle=ArrowStyle('<->', head_length=0.5, head_width=0.5), \n",
    "                            facecolor='k', edgecolor='k',linewidth=2)\n",
    "            )\n",
    "\n",
    "plt.text(93+1, 4.2, r'$S_w$', fontsize=12, color='k')\n",
    "\n",
    "plt.annotate('', xy=(63,3.5), xytext=(63,5), \n",
    "            arrowprops=dict(arrowstyle=ArrowStyle('<->', head_length=0.5, head_width=0.5), \n",
    "                            facecolor='k', edgecolor='k',linewidth=2)\n",
    "            )\n",
    "\n",
    "plt.text(63-12, 4.2, r'$S_w$', fontsize=12, color='k')\n",
    "\n",
    "plt.annotate('', xy=(230,3.0), xytext=(230,5.8), \n",
    "            arrowprops=dict(arrowstyle=ArrowStyle('<->', head_length=0.5, head_width=0.5), \n",
    "                            facecolor='k', edgecolor='k',linewidth=2)\n",
    "            )\n",
    "\n",
    "plt.text(230-10, 4.2, r'$S_w$', fontsize=12, color='k')\n",
    "\n",
    "plt.annotate('', xy=(260,3.0), xytext=(260,5.8), \n",
    "            arrowprops=dict(arrowstyle=ArrowStyle('<->', head_length=0.5, head_width=0.5), \n",
    "                            facecolor='k', edgecolor='k',linewidth=2)\n",
    "            )\n",
    "\n",
    "plt.text(260+1, 4.2, r'$S_w$', fontsize=12, color='k')\n",
    "\n",
    "\n",
    "plt.annotate('', xy=(93,5), xytext=(93,5.8), \n",
    "            arrowprops=dict(arrowstyle=ArrowStyle('<->', head_length=0.5, head_width=0.5), \n",
    "                            facecolor='k', edgecolor='k',linewidth=2)\n",
    "            )\n",
    "\n",
    "plt.text(93+1, 5.3, r'$S^{\\prime}_w$', fontsize=12, color='k')\n",
    "\n",
    "plt.annotate('', xy=(63,5), xytext=(63,5.8), \n",
    "            arrowprops=dict(arrowstyle=ArrowStyle('<->', head_length=0.5, head_width=0.5), \n",
    "                            facecolor='k', edgecolor='k',linewidth=2)\n",
    "            )\n",
    "\n",
    "plt.text(63-12, 5.3, r'$S^{\\prime}_w$', fontsize=12, color='k')\n",
    "\n",
    "\n",
    "\n",
    "plt.annotate('', xy=(206,3.0), xytext=(206,5.8), \n",
    "            arrowprops=dict(arrowstyle=ArrowStyle('<->', head_length=0.5, head_width=0.5), \n",
    "                            facecolor='k', edgecolor='k',linewidth=2)\n",
    "            )\n",
    "\n",
    "plt.text(206-10, 4.2, r'$S_w^{\\prime}$', fontsize=12, color='k')\n",
    "\n",
    "# plt.savefig('ref/section.png', bbox_inches=\"tight\" )\n",
    "plt.savefig('ref/section.svg', bbox_inches=\"tight\" )\n",
    "plt.show() # 描画"
   ]
  }
 ],
 "metadata": {
  "kernelspec": {
   "display_name": "Python 3",
   "language": "python",
   "name": "python3"
  },
  "language_info": {
   "codemirror_mode": {
    "name": "ipython",
    "version": 3
   },
   "file_extension": ".py",
   "mimetype": "text/x-python",
   "name": "python",
   "nbconvert_exporter": "python",
   "pygments_lexer": "ipython3",
   "version": "3.7.10"
  },
  "toc": {
   "base_numbering": 1,
   "nav_menu": {},
   "number_sections": true,
   "sideBar": true,
   "skip_h1_title": false,
   "title_cell": "Table of Contents",
   "title_sidebar": "Contents",
   "toc_cell": false,
   "toc_position": {},
   "toc_section_display": true,
   "toc_window_display": false
  }
 },
 "nbformat": 4,
 "nbformat_minor": 5
}
