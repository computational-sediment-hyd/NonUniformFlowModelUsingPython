{
 "cells": [
  {
   "cell_type": "markdown",
   "id": "55423b51",
   "metadata": {},
   "source": [
    "# 番外編:一般断面の不定流計算（非定常流計算）+ α"
   ]
  },
  {
   "cell_type": "markdown",
   "id": "54a66159",
   "metadata": {},
   "source": [
    "## 不定流計算とは\n",
    "\n",
    "### 基礎式\n",
    "\n",
    " - 一般断面の一次元不定流計算の基礎式は以下となる。(上：質量保存則（連続式）、下：運動量保存則)\n",
    "\n",
    "$$\n",
    "\\begin{align}\n",
    "    &\\dfrac{\\partial A}{\\partial t}+\\dfrac{\\partial Q}{\\partial x} = 0 \\\\\n",
    "    &\\frac{\\partial Q}{\\partial t} + \\frac{\\partial }{\\partial x}\\left( \\frac{\\beta Q^2}{A}\\right)+gA\\frac{\\partial H}{\\partial x}+gAI_e = 0 \\\\\n",
    "    &I_e = \\dfrac{T}{\\rho g A} \\\\\n",
    "\\end{align}\n",
    "$$\n",
    "\n",
    "\n",
    "\n",
    " - 不定流計算では、$Q,A$の時間変化を計算する。\n",
    " - 一般断面の場合、$A \\neq B \\cdot h $、$H \\neq h + z_b $のため、上記のような式形となる。（復習：第2回テキスト）\n",
    " - 時間微分項以外は不等流計算と同様。例えば、平均流速公式レベル3の場合は$I_e$の計算方法を変えれば良い。\n"
   ]
  },
  {
   "cell_type": "markdown",
   "id": "7a1e4bed",
   "metadata": {},
   "source": [
    "### 河道内貯留を評価できる\n",
    "\n",
    " - 以下のような河道内貯留の効果を計算することができる。\n",
    " \n",
    "増水期と減水期の差\n",
    " \n",
    "![A](https://computational-sediment-hyd.github.io/NonUniformFlowModelUsingPython/05_NonUniformFlow05/ref/loop4.jpg)\n",
    "\n",
    "椿:水理学演習 下 pp.102\n",
    "\n",
    "波形の減衰\n",
    "\n",
    "![A](https://computational-sediment-hyd.github.io/NonUniformFlowModelUsingPython/05_NonUniformFlow05/ref/hydro.png)\n",
    "\n",
    "椿:水理学演習 下 pp.104\n",
    "\n",
    "Dynamic wave法（不定流計算）とKinematic wave法の比較"
   ]
  },
  {
   "cell_type": "code",
   "execution_count": 1,
   "id": "dcf25489",
   "metadata": {},
   "outputs": [
    {
     "data": {
      "text/html": [
       "\n",
       "        <iframe\n",
       "            width=\"800\"\n",
       "            height=\"650\"\n",
       "            src=\"https://computational-sediment-hyd.github.io/DynamicwaveVSKinematicwave/fig.html\"\n",
       "            frameborder=\"0\"\n",
       "            allowfullscreen\n",
       "        ></iframe>\n",
       "        "
      ],
      "text/plain": [
       "<IPython.lib.display.IFrame at 0x20f6aeb7808>"
      ]
     },
     "execution_count": 1,
     "metadata": {},
     "output_type": "execute_result"
    }
   ],
   "source": [
    "from IPython.display import IFrame\n",
    "IFrame(\"https://computational-sediment-hyd.github.io/DynamicwaveVSKinematicwave/fig.html\", width=800,height=650)"
   ]
  },
  {
   "cell_type": "markdown",
   "id": "c8b97ad3",
   "metadata": {},
   "source": [
    "河道内貯留については以下の書籍が詳しい。\n",
    "\n",
    "[高橋保：研究者のための洪水の水理 - 被害の評価と対策](https://www.kinokuniya.co.jp/f/dsg-01-9784906431359)"
   ]
  },
  {
   "cell_type": "markdown",
   "id": "716982f6",
   "metadata": {},
   "source": [
    "### 河道計画における不定流計算\n",
    "\n",
    " - 「河道計画検討の手引き」ではセグメント3河道（背水影響を受ける緩勾配河道）では流下能力評価に不定流計算を用いても良いと記述。\n",
    " - 利根川の緩勾配区間などでは不定流計算が用いられている。\n",
    " - 計算手法に関するルールは示されていない。"
   ]
  },
  {
   "cell_type": "markdown",
   "id": "f09e6fd4",
   "metadata": {},
   "source": [
    "## 数値計算方法\n",
    "\n",
    "### 不定流計算が難しい（と感じる）理由\n",
    "\n",
    " - 不等流計算のように単純な離散化（たとえば、$\\dfrac{f_i - f_{i-1}}{\\Delta x}$）のみでは計算できない。そのため、「計算スキーム」の理解が必要。\n",
    " - 「計算スキーム」は、風上差分、中心差分、QUICK法、WENO法、CIP法、近似リーマン法（HLLCなど）、TVD法、各種陰解法など、無数の手法が提案されている。\n",
    " \n",
    "⇒ 個別のスキームを理解する必要は無い。イメージを掴めばO.K.。"
   ]
  },
  {
   "cell_type": "markdown",
   "id": "8423b953",
   "metadata": {},
   "source": [
    "### 一次元不定流の計算方法のイメージ\n",
    "\n",
    "#### 基本的な計算のイメージ\n",
    "\n",
    " - 2点の情報から計算する。風上差分と呼ばれる。\n",
    " - 安定的に計算できるが鈍りやすい。実用上問題無い場合も多い。\n",
    "\n",
    "![A](https://computational-sediment-hyd.github.io/NonUniformFlowModelUsingPython/05_NonUniformFlow05/ref/fig2/s1.PNG)"
   ]
  },
  {
   "cell_type": "markdown",
   "id": "fc3aa5f3",
   "metadata": {},
   "source": [
    "#### 高(次)精度の計算のイメージ\n",
    "\n",
    " - 安定的に計算できる。スキームの工夫が必要。\n",
    " - dxを小さくとる必要がある。\n",
    " \n",
    "![A](https://computational-sediment-hyd.github.io/NonUniformFlowModelUsingPython/05_NonUniformFlow05/ref/fig2/s2.PNG)\n"
   ]
  },
  {
   "cell_type": "markdown",
   "id": "a56452a3",
   "metadata": {},
   "source": [
    "####  一次元不定流計算で最低限必要な情報\n",
    "\n",
    " - 河積（つまり、水位）について、常流では下流の情報が必ず必要（復習：不等流第1回）\n",
    " - 安定的に計算できない。\n",
    " \n",
    "![A](https://computational-sediment-hyd.github.io/NonUniformFlowModelUsingPython/05_NonUniformFlow05/ref/fig2/s3.PNG)"
   ]
  },
  {
   "cell_type": "markdown",
   "id": "b749f9ee",
   "metadata": {},
   "source": [
    "#### スタッガードスキーム\n",
    "\n",
    " - 流量と河積の定義点を半分ずらす。\n",
    " - 安定的に計算できる。\n",
    "\n",
    "![A](https://computational-sediment-hyd.github.io/NonUniformFlowModelUsingPython/05_NonUniformFlow05/ref/fig2/s4.PNG)\n",
    "\n",
    "\n"
   ]
  },
  {
   "cell_type": "markdown",
   "id": "ded59b93",
   "metadata": {},
   "source": [
    "#### 陰解法\n",
    " - 陰解法は計算が難しく(復習：オリエンテーション)、鈍りやすいが、安定かつ高速のため汎用ソフトウェアで使用される。\n",
    " - 半陰解法は精度を向上できるが、陰解法ほどは安定しない。\n",
    "\n",
    "![A](https://computational-sediment-hyd.github.io/NonUniformFlowModelUsingPython/05_NonUniformFlow05/ref/fig2/s5.PNG)"
   ]
  },
  {
   "cell_type": "markdown",
   "id": "be543870",
   "metadata": {},
   "source": [
    "### 数値計算方法のまとめ\n",
    "\n",
    "- 精度と安定性（ロバスト性）はトレードオフの関係にある。\n",
    "- 目的に応じて計算スキームを選択する。\n",
    "\n",
    "一次元不定流計算では以下のように考える。\n",
    "\n",
    " - できるだけ少ない点の情報を使う。\n",
    " ← dxが大きい。計算の安定のため\n",
    " - 半陰解法を用いる。\n",
    " ← 計算の安定のため\n",
    " - 日本の河川は急流のため、常射混在流れでも発散しないものを使うことが望ましい。\n",
    " \n",
    "※ 氾濫解析や流出解析に使用されている計算スキームはロバスト性を重視しており、水面形を求めるには適していない。"
   ]
  },
  {
   "cell_type": "markdown",
   "id": "d96d6dad",
   "metadata": {},
   "source": [
    "### 離散化"
   ]
  },
  {
   "cell_type": "markdown",
   "id": "909f09db",
   "metadata": {},
   "source": [
    " - [水理公式例題プログラム集](https://www.jsce.or.jp/publication/detail/detail.asp?id=1543)に載っている細田先生のプログラム（一次風上+スタッガードスキーム）が安定的で使いやすい。\n",
    " - 今回は別の計算スキームを使用する。\n",
    "     - [Yingによる方法](https://ascelibrary.org/doi/10.1061/%28ASCE%290733-9429%282004%29130%3A10%28977%29)\n",
    "     ：移流項は一次風上、圧力項+重力項は陰的重み付き中心差分\n",
    "     - 一般断面の計算に特化した方法"
   ]
  },
  {
   "cell_type": "markdown",
   "id": "abd6fd1c",
   "metadata": {},
   "source": [
    "#### 離散式"
   ]
  },
  {
   "cell_type": "markdown",
   "id": "37a4d9d3",
   "metadata": {},
   "source": [
    "\n",
    "$$\n",
    "\\begin{align}\n",
    "&\\dfrac{ A^{n+1}_{i} - A^n_i  }{\\Delta t} - \\dfrac{ Q^{n}_{i} - Q^{n}_{i-1}  }{\\Delta x}  = 0 \\\\\n",
    "&\\dfrac{ Q^{n+1}_{i} - Q^n_i }{\\Delta t} \n",
    "- \\dfrac{1}{\\Delta x} \\left( \\left.\\dfrac{\\beta Q^2}{A} \\right|^n_{i} - \\left.\\dfrac{\\beta Q^2}{A} \\right|^n_{i-1} \\right) \\\\\n",
    "&+ g A^{n+1}_i \n",
    " \\left((1-Cr_1) \\dfrac{H^{n+1}_{i+1} - H^{n+1}_{i} }{ x_{i+1}-x_{i}} + Cr_2 \\dfrac{H^{n+1}_{i} - H^{n+1}_{i-1} }{x_{i}-x_{i-1} } \\right)\n",
    "+ g A^{n}_i {I_e}_i^n \\\\\n",
    "\\end{align}\n",
    "$$\n",
    "\n",
    "$$\n",
    "\\begin{align}\n",
    "    Cr_1 &= \\dfrac{ \\Delta t}{x_{i+1}-x_{i}} \\dfrac{|U_{i+1}| + |U_{i}|}{2} \\\\\n",
    "    Cr_2 &= \\dfrac{ \\Delta t}{x_{i}-x_{i-1}} \\dfrac{|U_{i}| + |U_{i-1}|}{2} \\\\\n",
    "    U_i &= \\dfrac{Q_i^n}{A_i^n}\n",
    "\\end{align} \n",
    "$$"
   ]
  },
  {
   "cell_type": "markdown",
   "id": "7e075949",
   "metadata": {},
   "source": [
    "逆流を考慮すると以下となる。"
   ]
  },
  {
   "cell_type": "markdown",
   "id": "8262d760",
   "metadata": {},
   "source": [
    "\n",
    "$$\n",
    "\\begin{align}\n",
    "&\\dfrac{ A^{n+1}_{i} - A^n_i  }{\\Delta t} - \\dfrac{ Q^{n}_{i+j1} - Q^{n}_{i-j2}  }{\\Delta x}  = 0 \\\\\n",
    "&\\dfrac{ Q^{n+1}_{i} - Q^n_i }{\\Delta t} \n",
    "- \\dfrac{1}{\\Delta x} \\left( \\left.\\dfrac{\\beta Q^2}{A} \\right|^n_{i+j1} - \\left.\\dfrac{\\beta Q^2}{A} \\right|^n_{i-j2} \\right) \\\\\n",
    "&+ g A^{n+1}_i \n",
    " \\left((1-Cr_1) \\dfrac{H^{n+1}_{i+1-j3} - H^{n+1}_{i-j3} }{ x_{i+1-j3}-x_{i-j3}} + Cr_2 \\dfrac{H^{n+1}_{i+j3} - H^{n+1}_{i-1+j3} }{x_{i+j3}-x_{i-1+j3} } \\right)\n",
    "+ g A^{n}_i {I_e}_i^n \\\\\n",
    "\\end{align}\n",
    "$$\n",
    "\n",
    "$$\n",
    "\\begin{align}\n",
    "    Cr_1 &= \\dfrac{ \\Delta t}{x_{i+1-j3}-x_{i-j3}} \\dfrac{|U_{i+1-j3}| + |U_{i-j3}|}{2} \\\\\n",
    "    Cr_2 &= \\dfrac{ \\Delta t}{x_{i+j3}-x_{i-1+j3}} \\dfrac{|U_{i+j3}| + |U_{i-1+j3}|}{2} \\\\\n",
    "    U_i &= \\dfrac{Q_i^n}{A_i^n}\n",
    "\\end{align} \n",
    "$$\n",
    "\n",
    "$$\n",
    "\\begin{align}\n",
    "j1 &= \n",
    "\\left\\{ \\begin{array}{ll}\n",
    "    0 &\\!\\!\\!     ({\\rm if} \\  Q_i \\geq 0 \\ \\& \\ Q_{i+1} \\geq 0) \\\\\n",
    "    1 &\\!\\!\\! ({\\rm if} \\  Q_i \\leq 0 \\ \\& \\ Q_{i+1} \\leq 0) \\\\\n",
    "    1/2 &\\!\\!\\! ({\\rm otherwise})\n",
    "\\end{array} \\right. \\\\\n",
    "j2 &= \n",
    "\\left\\{ \\begin{array}{ll}\n",
    "    1 &\\!\\!\\!     ({\\rm if} \\  Q_i \\geq 0 \\ \\& \\ Q_{i-1} \\geq 0) \\\\\n",
    "    0 &\\!\\!\\! ({\\rm if} \\  Q_i \\leq 0 \\ \\& \\ Q_{i-1} \\leq 0) \\\\\n",
    "    1/2 &\\!\\!\\! ({\\rm otherwise})\n",
    "\\end{array} \\right. \\\\\n",
    "j3 &= \n",
    "\\left\\{ \\begin{array}{ll}\n",
    "    0 &\\!\\!\\! ({\\rm if} \\ Q_i \\geq 0 \\ \\& \\ Q_{i+1} \\geq 0 \\ \\& \\ Q_{i-1} \\geq 0 ) \\\\\n",
    "    1 &\\!\\!\\! ({\\rm if} \\ Q_i \\leq 0 \\ \\& \\ Q_{i+1} \\leq 0 \\ \\& \\ Q_{i-1} \\leq 0) \\\\\n",
    "    1/2 &\\!\\!\\! ({\\rm otherwise})\n",
    "\\end{array} \\right. \n",
    "\\end{align}\n",
    "$$"
   ]
  },
  {
   "cell_type": "markdown",
   "id": "ae902e14",
   "metadata": {},
   "source": [
    "### プログラミング"
   ]
  },
  {
   "cell_type": "markdown",
   "id": "84854882",
   "metadata": {},
   "source": [
    "#### 擬似コード"
   ]
  },
  {
   "cell_type": "code",
   "execution_count": 2,
   "id": "44d95ad6",
   "metadata": {},
   "outputs": [
    {
     "ename": "IndentationError",
     "evalue": "expected an indented block (<ipython-input-2-4e5122775df7>, line 11)",
     "output_type": "error",
     "traceback": [
      "\u001b[1;36m  File \u001b[1;32m\"<ipython-input-2-4e5122775df7>\"\u001b[1;36m, line \u001b[1;32m11\u001b[0m\n\u001b[1;33m    for s in sections:\u001b[0m\n\u001b[1;37m      ^\u001b[0m\n\u001b[1;31mIndentationError\u001b[0m\u001b[1;31m:\u001b[0m expected an indented block\n"
     ]
    }
   ],
   "source": [
    "# 初期条件の設定\n",
    "\n",
    "for t in time: # 時間発展のループ\n",
    "    \n",
    "    # 上流端流量の更新\n",
    "    # 下流端水位の更新\n",
    "    \n",
    "    for s in sections:\n",
    "        # 連続式によるAの更新\n",
    "    \n",
    "    for s in sections:\n",
    "        # 更新したAによるHの更新\n",
    "    \n",
    "    for s in sections:\n",
    "        # 運動方程式によるQの更新\n",
    "    "
   ]
  },
  {
   "cell_type": "markdown",
   "id": "4934e06f",
   "metadata": {},
   "source": [
    "#### ソースコード"
   ]
  },
  {
   "cell_type": "markdown",
   "id": "dad04915",
   "metadata": {},
   "source": [
    " - クラス等は外部ファイルに"
   ]
  },
  {
   "cell_type": "code",
   "execution_count": 3,
   "id": "3040c502",
   "metadata": {},
   "outputs": [],
   "source": [
    "import numpy as np\n",
    "import classRiverSection as sect\n",
    "import class1Dmodel as model"
   ]
  },
  {
   "cell_type": "markdown",
   "id": "15b2f873",
   "metadata": {},
   "source": [
    " - 前回の課題の断面セット\n",
    "     - 2～4km, 12～14kmのみ樹木を設定\n",
    " \n",
    " ※本来は分割断面も削除する必要がありますが面倒なので境界混合係数のみを変更"
   ]
  },
  {
   "cell_type": "code",
   "execution_count": 4,
   "id": "a129a45c",
   "metadata": {},
   "outputs": [],
   "source": [
    "x=np.array( [0,5,63,93,100,200,206,230,260,294,300] , dtype=float)\n",
    "y=np.array( [6, 3.5, 3.5, 3.5,  0,  0,  3, 3, 3, 3,  6] , dtype=float)\n",
    "n=np.array([0.041, 0.041, 0.05, 0.030,0.030,0.030,0.040,0.05,0.040,0.040], dtype=float)\n",
    "\n",
    "X = [x[0:3], x[2:4], x[3:7], x[6:8], x[7:9], x[8:]]\n",
    "Y = [y[0:3], y[2:4], y[3:7], y[6:8], y[7:9], y[8:]]\n",
    "N = [n[0:2], n[2:3], n[3:6], n[6:7], n[7:8], n[8:]]\n",
    "\n",
    "withTree = {\n",
    "'treeh' : np.array([0, 1.5, 0, 0, 3.5, 0], dtype=float) # 樹高：分割断面数\n",
    ",'subsectBoundf' : np.array([0, 0.1, 0.1, 0, 0.1, 0.1, 0], dtype=float) # 流れと樹木群の境界混合係数：分割断面数+1\n",
    ",'subsectBoundfd' : np.array([0, 0.17, 0.17, 0.17, 0.17, 0.17, 0], dtype=float) # 流れ間の境界混合係数：分割断面数+1\n",
    "    }\n",
    "\n",
    "withoutTree = {\n",
    "'treeh' : np.array([0, 0, 0, 0, 0, 0], dtype=float) # 樹高：分割断面数\n",
    ",'subsectBoundf' : np.array([0, 0, 0, 0, 0, 0, 0], dtype=float) # 流れと樹木群の境界混合係数：分割断面数+1\n",
    ",'subsectBoundfd' : np.array([0, 0, 0.17, 0.17, 0, 0, 0], dtype=float) # 流れ間の境界混合係数：分割断面数+1\n",
    "    }\n",
    "\n",
    "dx = 200\n",
    "Ls = np.arange(0,15001,dx) \n",
    "\n",
    "csections = []\n",
    "s = sect.section(X, Y, N, Ls[0], **withoutTree)\n",
    "csections.append(s)\n",
    "\n",
    "yold = y.copy()\n",
    "ibs = []\n",
    "ibs.append(1/2000)\n",
    "for L in Ls[1:]:\n",
    "    if L < 5000:\n",
    "        ib = 1/2000\n",
    "    elif L < 10000:\n",
    "        ib = 1/1000\n",
    "    else:\n",
    "        ib = 1/500\n",
    "        \n",
    "    y = yold + dx*ib\n",
    "    Y = [y[0:3], y[2:4], y[3:7], y[6:8], y[7:9], y[8:]]\n",
    "    \n",
    "    if 2000 <= L < 4000:\n",
    "        s = sect.section(X, Y, N, L, **withTree)\n",
    "    elif 12000 <= L < 14000:\n",
    "        s = sect.section(X, Y, N, L, **withTree)\n",
    "    else:\n",
    "        s = sect.section(X, Y, N, L, **withoutTree)\n",
    "    \n",
    "    csections.append(s)\n",
    "    \n",
    "    yold = y.copy()\n",
    "    ibs.append(ib)"
   ]
  },
  {
   "cell_type": "markdown",
   "id": "c8745523",
   "metadata": {},
   "source": [
    " - 不定流計算モデル"
   ]
  },
  {
   "cell_type": "code",
   "execution_count": 5,
   "id": "0b0c5551",
   "metadata": {},
   "outputs": [],
   "source": [
    "def UnSteadyflow(sections, Q, H, A, Qbound, Hbound, dt):\n",
    "    g = float(9.8)\n",
    "    imax = len(Q)\n",
    "    Anew, Qnew, Hnew = np.zeros(imax), np.zeros(imax), np.zeros(imax)\n",
    "    ie = np.zeros(imax)\n",
    "    Beta = np.zeros(imax)\n",
    "    \n",
    "# continuous equation\n",
    "    for i in range(1, imax-1) : \n",
    "        dx = 0.5*(sections[i-1].distance - sections[i+1].distance)\n",
    "        Anew[i] = A[i] - dt * ( Q[i] - Q[i-1] ) / dx\n",
    "        \n",
    "    s = sections[imax-1]\n",
    "    Ad,_,_,_,_ = s.H2ABSKRc(Hbound)\n",
    "    Anew[imax-1] = Ad\n",
    "    Anew[0] = Anew[1]\n",
    "#     Anew[0] = (Anew[1] - A[1]) + A[0]\n",
    "    \n",
    "    for i in range(imax) : \n",
    "        s = sections[i]\n",
    "        Hnew[i] = s.A2H(Anew[i])\n",
    "        ie[i], _, Beta[i], _= s.HQ2IeAlphaBetaVsub(H[i], Q[i])        \n",
    "    \n",
    "# moumentum equation\n",
    "    for i in range(1, imax-1): \n",
    "        ic, im, ip = i, i-1, i+1\n",
    "        dxp = sections[ic].distance - sections[ip].distance\n",
    "        dxm = sections[im].distance - sections[ic].distance\n",
    "        dxc = 0.5*(sections[im].distance - sections[ip].distance)\n",
    "        \n",
    "        Cr1 = 0.5*( Q[ic]/A[ic] + Q[ip]/A[ip] )*dt/dxp\n",
    "        Cr2 = 0.5*( Q[ic]/A[ic] + Q[im]/A[im] )*dt/dxm\n",
    "        dHdx1 = ( Hnew[ip] - Hnew[ic] ) / dxp\n",
    "        dHdx2 = ( Hnew[ic] - Hnew[im] ) / dxm\n",
    "        dHdx = (float(1.0) - Cr1) * dHdx1 + Cr2 * dHdx2\n",
    "        \n",
    "        Qnew[ic] = Q[ic] - dt * ( Beta[ic]*Q[ic]**2/A[ic] - Beta[im]*Q[im]**2/A[im] ) / dxc \\\n",
    "                         - dt * g * Anew[ic] * dHdx \\\n",
    "                         - dt * g * A[ic] * ie[ic] \n",
    "        \n",
    "    Qnew[imax-1] = Qnew[imax-2]\n",
    "    Qnew[0] = Qbound\n",
    "        \n",
    "    return Qnew, Hnew, Anew"
   ]
  },
  {
   "cell_type": "markdown",
   "id": "6db39565",
   "metadata": {},
   "source": [
    " - 上流端流量波形を[ガンマ関数](https://ja.wikipedia.org/wiki/%E3%82%AC%E3%83%B3%E3%83%9E%E9%96%A2%E6%95%B0)で与える \n",
    "\n",
    "$$\n",
    "\\begin{align}\n",
    "    \\Gamma \\left( z\\right) =\\int _{0}^{\\infty }t^{z-1}e^{-t}dt\n",
    "\\end{align}\n",
    "$$"
   ]
  },
  {
   "cell_type": "code",
   "execution_count": 6,
   "id": "3056a2b3",
   "metadata": {},
   "outputs": [
    {
     "data": {
      "image/png": "[encoded data removed]",
      "text/plain": [
       "<Figure size 432x288 with 1 Axes>"
      ]
     },
     "metadata": {},
     "output_type": "display_data"
    }
   ],
   "source": [
    "import matplotlib.pyplot as plt\n",
    "\n",
    "gamma = lambda t,z : t**(z-1)*np.exp(-t)\n",
    "\n",
    "L = np.linspace(0,15,100)\n",
    "Qupt = 1500*gamma(L,4)+100\n",
    "\n",
    "plt.figure(facecolor=\"white\", edgecolor=\"black\", linewidth=2)\n",
    "plt.plot(L,Qupt)\n",
    "plt.show()"
   ]
  },
  {
   "cell_type": "markdown",
   "id": "fc3c0230",
   "metadata": {},
   "source": [
    " - 計算時間間隔で補間"
   ]
  },
  {
   "cell_type": "code",
   "execution_count": 7,
   "id": "99d3b571",
   "metadata": {},
   "outputs": [],
   "source": [
    "dt = float(10)\n",
    "t = np.arange(0,15*3600,dt)\n",
    "Qupts = np.interp(t, L*3600, Qupt)"
   ]
  },
  {
   "cell_type": "markdown",
   "id": "c2ba6998",
   "metadata": {},
   "source": [
    " - 初期条件を設定:不等流計算で求める"
   ]
  },
  {
   "cell_type": "code",
   "execution_count": 8,
   "id": "47b7717b",
   "metadata": {},
   "outputs": [],
   "source": [
    "Qup = Qupts[0]\n",
    "ib = float(1/2000)\n",
    "# 下流端水位\n",
    "s = csections[0]\n",
    "Hd = s.H0(Qup, ib)\n",
    "H = model.nonuniform(csections, Qup, Hd)\n",
    "\n",
    "A = np.zeros_like(H)\n",
    "for i, s in enumerate(csections):\n",
    "    A[i],_,_,_,_ = s.H2ABSKRc(H[i])"
   ]
  },
  {
   "cell_type": "markdown",
   "id": "5d5aa0f5",
   "metadata": {},
   "source": [
    " - 不定流計算\n",
    "     - 下流⇒上流から上流⇒下流に並びかえて計算する\n",
    "     - 結果はすべて配列に保存"
   ]
  },
  {
   "cell_type": "code",
   "execution_count": 9,
   "id": "82d43bac",
   "metadata": {},
   "outputs": [
    {
     "name": "stdout",
     "output_type": "stream",
     "text": [
      "Wall time: 4min 15s\n"
     ]
    }
   ],
   "source": [
    "%%time\n",
    "rcsections = list(reversed(csections))\n",
    "\n",
    "Qc  = np.full_like(H,Qup)\n",
    "Hc = H[::-1]\n",
    "Ac = A[::-1]\n",
    "\n",
    "Qout = np.zeros((len(Qupts), len(Qc)))\n",
    "Hout = np.zeros_like(Qout)\n",
    "\n",
    "Qout[0] = Qc\n",
    "Hout[0] = Hc\n",
    "\n",
    "for n in range(1, len(Qupts)):\n",
    "    s = rcsections[-1]\n",
    "    Hd = s.H0(Qc[-1], ib)\n",
    "    Qc, Hc, Ac = UnSteadyflow(rcsections, Qc, Hc, Ac, Qupts[n], Hd, dt)\n",
    "\n",
    "    Qout[n] = Qc\n",
    "    Hout[n] = Hc"
   ]
  },
  {
   "cell_type": "markdown",
   "id": "dde98da9",
   "metadata": {},
   "source": [
    " - 流量波形の計算結果"
   ]
  },
  {
   "cell_type": "code",
   "execution_count": 10,
   "id": "ebfd8d36",
   "metadata": {},
   "outputs": [
    {
     "data": {
      "image/png": "[encoded data removed]",
      "text/plain": [
       "<Figure size 432x288 with 1 Axes>"
      ]
     },
     "metadata": {
      "needs_background": "light"
     },
     "output_type": "display_data"
    }
   ],
   "source": [
    "import matplotlib.pyplot as plt\n",
    "\n",
    "plt.plot(t,Qout[:,25], label='5km')\n",
    "plt.plot(t,Qout[:,50], label='10km')\n",
    "plt.plot(t,Qout[:,70], label='14km')\n",
    "plt.legend()\n",
    "plt.show()"
   ]
  },
  {
   "cell_type": "markdown",
   "id": "b141684a",
   "metadata": {},
   "source": [
    " - 流量ループ"
   ]
  },
  {
   "cell_type": "code",
   "execution_count": 11,
   "id": "82eac6be",
   "metadata": {},
   "outputs": [
    {
     "data": {
      "image/png": "[encoded data removed]",
      "text/plain": [
       "<Figure size 432x288 with 1 Axes>"
      ]
     },
     "metadata": {
      "needs_background": "light"
     },
     "output_type": "display_data"
    }
   ],
   "source": [
    "plt.plot(Qout[:,70], Hout[:,70], label='14km')\n",
    "plt.legend()\n",
    "plt.show()"
   ]
  },
  {
   "cell_type": "markdown",
   "id": "95872390",
   "metadata": {},
   "source": [
    "### 高速化\n",
    "\n",
    "上記のような逐次計算を行う場合、計算時間が気になってくる。そこで、Numbaによる高速化を実施する。\n",
    "\n",
    "#### Numbaとは\n",
    "\n",
    "Numbaは、Pythonのジャストインタイム（JIT）コンパイラであり、数値計算の高速化を目的としています。Numbaを使用すると、Pythonコードを効率的な機械語に変換し、CPUやGPUを最大限に活用して計算を実行できます。\n",
    "\n",
    "Numbaは、デコレータや関数呼び出しを使用してPython関数にアノテーションを追加することで機能します。アノテーションにより、Numbaは関数の実行を高速化するために最適なコンパイル戦略を選択し、関数を機械語にコンパイルします。Numbaは、NumPyの多次元配列や科学計算ライブラリとの統合も提供しており、高速な数値計算が可能です。\n",
    "\n",
    "Numbaは特に、ループ処理が多い数値計算や科学技術計算のタスクに適しています。また、GPUを使用して並列計算を行うこともできます。Numbaは、NumPyスタイルのコードに対しても簡単に適用できるため、既存のコードを最適化するのに便利です。\n",
    "\n",
    "Numbaは関数をコンパイルし、実行時に高速な機械語コードを生成します。\n",
    "\n",
    "Numbaは、Pythonの標準のCPythonインタープリタとも連携するため、既存のPythonコードベースに容易に統合できます。ただし、すべてのPythonコードに対してNumbaを適用する必要はありません。Numbaは、数値計算がボトルネックとなっている部分や、パフォーマンスが重要なコード領域に対して選択的に使用することが推奨されます。"
   ]
  },
  {
   "cell_type": "markdown",
   "id": "c76c641d",
   "metadata": {},
   "source": [
    "#### コーディング例\n",
    "\n",
    " - 関数は数行付け足すだけ。"
   ]
  },
  {
   "cell_type": "code",
   "execution_count": 3,
   "id": "dafa314e",
   "metadata": {},
   "outputs": [
    {
     "ename": "SyntaxError",
     "evalue": "unexpected EOF while parsing (<ipython-input-3-88acb19d0b6b>, line 5)",
     "output_type": "error",
     "traceback": [
      "\u001b[1;36m  File \u001b[1;32m\"<ipython-input-3-88acb19d0b6b>\"\u001b[1;36m, line \u001b[1;32m5\u001b[0m\n\u001b[1;33m    \u001b[0m\n\u001b[1;37m    ^\u001b[0m\n\u001b[1;31mSyntaxError\u001b[0m\u001b[1;31m:\u001b[0m unexpected EOF while parsing\n"
     ]
    }
   ],
   "source": [
    "from numba import jit \n",
    "\n",
    "@jit(nopython=True, parallel=False)\n",
    "def matrixsolver(a,b,c,d):\n",
    "    a = 0"
   ]
  },
  {
   "cell_type": "markdown",
   "id": "41e83932",
   "metadata": {},
   "source": [
    " - クラスはメンバ変数の型を定義"
   ]
  },
  {
   "cell_type": "code",
   "execution_count": 4,
   "id": "ede90e1f",
   "metadata": {},
   "outputs": [
    {
     "ename": "NameError",
     "evalue": "name 'subsection' is not defined",
     "output_type": "error",
     "traceback": [
      "\u001b[1;31m---------------------------------------------------------------------------\u001b[0m",
      "\u001b[1;31mNameError\u001b[0m                                 Traceback (most recent call last)",
      "\u001b[1;32m<ipython-input-4-65b981ddd996>\u001b[0m in \u001b[0;36m<module>\u001b[1;34m\u001b[0m\n\u001b[0;32m      5\u001b[0m spec = [\n\u001b[0;32m      6\u001b[0m     \u001b[1;33m(\u001b[0m\u001b[1;34m'distance'\u001b[0m  \u001b[1;33m,\u001b[0m \u001b[0mfloat64\u001b[0m\u001b[1;33m)\u001b[0m\u001b[1;33m\u001b[0m\u001b[1;33m\u001b[0m\u001b[0m\n\u001b[1;32m----> 7\u001b[1;33m     \u001b[1;33m,\u001b[0m\u001b[1;33m(\u001b[0m\u001b[1;34m'_subsections'\u001b[0m\u001b[1;33m,\u001b[0m\u001b[0mtypes\u001b[0m\u001b[1;33m.\u001b[0m\u001b[0mList\u001b[0m\u001b[1;33m(\u001b[0m\u001b[0msubsection\u001b[0m\u001b[1;33m.\u001b[0m\u001b[0mclass_type\u001b[0m\u001b[1;33m.\u001b[0m\u001b[0minstance_type\u001b[0m\u001b[1;33m,\u001b[0m \u001b[0mreflected\u001b[0m\u001b[1;33m=\u001b[0m\u001b[1;32mTrue\u001b[0m\u001b[1;33m)\u001b[0m\u001b[1;33m)\u001b[0m\u001b[1;33m\u001b[0m\u001b[1;33m\u001b[0m\u001b[0m\n\u001b[0m\u001b[0;32m      8\u001b[0m     \u001b[1;33m,\u001b[0m\u001b[1;33m(\u001b[0m\u001b[1;34m'_subsectBounds'\u001b[0m\u001b[1;33m,\u001b[0m\u001b[0mtypes\u001b[0m\u001b[1;33m.\u001b[0m\u001b[0mList\u001b[0m\u001b[1;33m(\u001b[0m\u001b[0msubsectBound\u001b[0m\u001b[1;33m.\u001b[0m\u001b[0mclass_type\u001b[0m\u001b[1;33m.\u001b[0m\u001b[0minstance_type\u001b[0m\u001b[1;33m,\u001b[0m \u001b[0mreflected\u001b[0m\u001b[1;33m=\u001b[0m\u001b[1;32mTrue\u001b[0m\u001b[1;33m)\u001b[0m\u001b[1;33m)\u001b[0m\u001b[1;33m\u001b[0m\u001b[1;33m\u001b[0m\u001b[0m\n\u001b[0;32m      9\u001b[0m ]\n",
      "\u001b[1;31mNameError\u001b[0m: name 'subsection' is not defined"
     ]
    }
   ],
   "source": [
    "from numba.experimental import jitclass\n",
    "from numba import float64  \n",
    "from numba import types\n",
    "\n",
    "spec = [\n",
    "    ('distance'  , float64)\n",
    "    ,('_subsections',types.List(subsection.class_type.instance_type, reflected=True))\n",
    "    ,('_subsectBounds',types.List(subsectBound.class_type.instance_type, reflected=True))\n",
    "]\n",
    "@jitclass(spec)\n",
    "class section(object):\n",
    "    def __init__(self, X, Y, N, distance=np.nan, treeh=np.nan, subsectBoundf=np.nan, subsectBoundfd=np.nan):\n",
    "        self._subsections = [subsection(x,y,n,h) for x,y,n,h in zip(X,Y,N,treeh)]\n",
    "        self._subsectBounds = [subsectBound(f, fd) for f, fd in zip(subsectBoundf, subsectBoundfd)]\n",
    "        self.distance = distance"
   ]
  },
  {
   "cell_type": "markdown",
   "id": "8a34c49e",
   "metadata": {},
   "source": [
    "#### 計算時間\n",
    "\n",
    "上記の処理のみで約30倍高速化される。\n",
    "多次元の計算では数百倍になることもある。\n",
    "\n",
    " - オリジナル\n",
    " > CPU times: user 8min 22s, sys: 7.28 s, total: 8min 30s\n",
    " > Wall time: 8min 34s\n",
    "    \n",
    " - Numba\n",
    " > CPU times: user 13.8 s, sys: 67.6 ms, total: 13.9 s\n",
    " > Wall time: 15 s"
   ]
  },
  {
   "cell_type": "markdown",
   "id": "5daf845c",
   "metadata": {},
   "source": [
    "## 実河川の計算\n",
    "    間に合いませんでした。。。"
   ]
  },
  {
   "cell_type": "markdown",
   "id": "5968c78f",
   "metadata": {},
   "source": [
    "# おわりに：不等流編\n",
    "\n",
    " - Pythonで平均流速公式レベル3の不等流計算、不定流計算モデルのコーディングを行った。\n",
    "    - 微修正を行えば汎用化可能。\n",
    "    - I/Oの見直しなどヘビーユーザーと一緒にやってはどうでしょうか。\n",
    " - コアメンバーの習得度は5～7割程度。\n",
    "    - あとは復習 + 実務\n",
    "    - ぜひ、既存知見の習得に留まらず、その先に進んで欲しい。\n",
    " - 不明な点があれば気軽にご相談下さい。"
   ]
  },
  {
   "cell_type": "markdown",
   "id": "88bfc770",
   "metadata": {},
   "source": [
    "# 資料の取り扱い\n",
    "\n",
    "勉強会資料はすべてGitHubに上げています。（誤字等再整理しておきます。）\n",
    "\n",
    " - 再配布O.K.：社内外誰に配ってもらっても大丈夫です。\n",
    " - コピペO.K.：ご自由に使って下さい。参照している文献等は引用元を記載して下さい。\n",
    " - 作成者の記載、公表N.G.：私が作成した資料であることは基本的には言わないで下さい。"
   ]
  }
 ],
 "metadata": {
  "kernelspec": {
   "display_name": "Python 3",
   "language": "python",
   "name": "python3"
  },
  "language_info": {
   "codemirror_mode": {
    "name": "ipython",
    "version": 3
   },
   "file_extension": ".py",
   "mimetype": "text/x-python",
   "name": "python",
   "nbconvert_exporter": "python",
   "pygments_lexer": "ipython3",
   "version": "3.7.10"
  },
  "toc": {
   "base_numbering": 1,
   "nav_menu": {},
   "number_sections": true,
   "sideBar": true,
   "skip_h1_title": false,
   "title_cell": "Table of Contents",
   "title_sidebar": "Contents",
   "toc_cell": false,
   "toc_position": {
    "height": "calc(100% - 180px)",
    "left": "10px",
    "top": "150px",
    "width": "211.667px"
   },
   "toc_section_display": true,
   "toc_window_display": true
  }
 },
 "nbformat": 4,
 "nbformat_minor": 5
}
