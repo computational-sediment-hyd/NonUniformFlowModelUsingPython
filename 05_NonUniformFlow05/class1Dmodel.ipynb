{
 "cells": [
  {
   "cell_type": "code",
   "execution_count": null,
   "id": "5487f5ed",
   "metadata": {},
   "outputs": [],
   "source": [
    "import numpy as np"
   ]
  },
  {
   "cell_type": "code",
   "execution_count": null,
   "id": "8cc05dfa",
   "metadata": {},
   "outputs": [],
   "source": [
    "def nonuniform(csections, Q, HDB):\n",
    "    g = float(9.8)\n",
    "    dhini = float(0.5)\n",
    "    H = np.empty(len(csections))\n",
    "    \n",
    "    # 下流端水位\n",
    "    # 添字dがi-1、添字pがiの値\n",
    "    s = csections[0]\n",
    "    Qd = Q\n",
    "    Hd = HDB\n",
    "    H[0] = Hd\n",
    "    Ad,_,_,_,_ = s.H2ABSKRc(Hd)\n",
    "    ied, _, Betad, _= s.HQ2IeAlphaBetaVsub(Hd, Qd)\n",
    "    \n",
    "    for i in range(1, len(csections)):\n",
    "        # 収束計算の初期値は限界流時水位+1mm\n",
    "        sp, sd = csections[i], csections[i-1]\n",
    "        Qp = Q\n",
    "        Hp = sp.Hc(Qp)\n",
    "        Ap,_,_,_,_ = sp.H2ABSKRc(Hp)\n",
    "        iep, _, Betap, _= sp.HQ2IeAlphaBetaVsub(Hp, Qp)\n",
    "        dx = sp.distance - sd.distance\n",
    "            \n",
    "        E1 = Betap*0.5/g*Qp**2.0/Ap**2.0 + Hp\n",
    "        E2 = Betad*0.5/g*Qd**2.0/Ad**2.0 + Hd + 0.5*dx*(ied + iep)\n",
    "        \n",
    "        Hp = Hp + float(0.001)\n",
    "        dh = dhini\n",
    "        for n in range(1000):\n",
    "            Ap,_,_,_,_ = sp.H2ABSKRc(Hp)\n",
    "            iep, _, Betap, _= sp.HQ2IeAlphaBetaVsub(Hp, Qp)\n",
    "        \n",
    "            E1 = Betap*0.5/g*Qp**2.0/Ap**2.0 + Hp\n",
    "            E2 = Betad*0.5/g*Qd**2.0/Ad**2.0 + Hd + 0.5*dx*(ied + iep)\n",
    "            \n",
    "            if np.abs(E1 - E2) < 0.00001 : \n",
    "                break\n",
    "            elif E1 > E2 :\n",
    "                dh *= float(0.5)\n",
    "                Hp -= dh\n",
    "            else:\n",
    "                Hp += dh\n",
    "                \n",
    "        H[i] = Hp\n",
    "        Qd, Hd, ied, Ad, Betad = Qp, Hp, iep, Ap, Betap\n",
    "        \n",
    "    return H"
   ]
  }
 ],
 "metadata": {
  "kernelspec": {
   "display_name": "Python 3",
   "language": "python",
   "name": "python3"
  },
  "language_info": {
   "codemirror_mode": {
    "name": "ipython",
    "version": 3
   },
   "file_extension": ".py",
   "mimetype": "text/x-python",
   "name": "python",
   "nbconvert_exporter": "python",
   "pygments_lexer": "ipython3",
   "version": "3.7.10"
  },
  "toc": {
   "base_numbering": 1,
   "nav_menu": {},
   "number_sections": true,
   "sideBar": true,
   "skip_h1_title": false,
   "title_cell": "Table of Contents",
   "title_sidebar": "Contents",
   "toc_cell": false,
   "toc_position": {
    "height": "calc(100% - 180px)",
    "left": "10px",
    "top": "150px",
    "width": "188.45px"
   },
   "toc_section_display": true,
   "toc_window_display": true
  }
 },
 "nbformat": 4,
 "nbformat_minor": 5
}
