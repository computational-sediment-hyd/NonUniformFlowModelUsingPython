{
 "cells": [
  {
   "cell_type": "code",
   "execution_count": 1,
   "id": "035393b2",
   "metadata": {},
   "outputs": [],
   "source": [
    "import numpy as np\n",
    "import classRiverSection as sect\n",
    "import class1Dmodel as model"
   ]
  },
  {
   "cell_type": "code",
   "execution_count": 3,
   "id": "d4016831",
   "metadata": {},
   "outputs": [],
   "source": [
    "x=np.array( [0,5,63,93,100,200,206,230,260,294,300] , dtype=float)\n",
    "y=np.array( [6, 3.5, 3.5, 3.5,  0,  0,  3, 3, 3, 3,  6] , dtype=float)\n",
    "n=np.array([0.041, 0.041, 0.05, 0.030,0.030,0.030,0.040,0.05,0.040,0.040], dtype=float)\n",
    "\n",
    "X = list( [x[0:3], x[2:4], x[3:7], x[6:8], x[7:9], x[8:]] )\n",
    "Y = list( [y[0:3], y[2:4], y[3:7], y[6:8], y[7:9], y[8:]] )\n",
    "N = list( [n[0:2], n[2:3], n[3:6], n[6:7], n[7:8], n[8:]] )\n",
    "\n",
    "withTree = {\n",
    "'treeh' : np.array([0, 1.5, 0, 0, 3.5, 0], dtype=float) # 樹高：分割断面数\n",
    ",'subsectBoundf' : np.array([0, 0.1, 0.1, 0, 0.1, 0.1, 0], dtype=float) # 流れと樹木群の境界混合係数：分割断面数+1\n",
    ",'subsectBoundfd' : np.array([0, 0.17, 0.17, 0.17, 0.17, 0.17, 0], dtype=float) # 流れ間の境界混合係数：分割断面数+1\n",
    "    }\n",
    "\n",
    "withoutTree = {\n",
    "'treeh' : np.array([0, 0, 0, 0, 0, 0], dtype=float) # 樹高：分割断面数\n",
    ",'subsectBoundf' : np.array([0, 0, 0, 0, 0, 0, 0], dtype=float) # 流れと樹木群の境界混合係数：分割断面数+1\n",
    ",'subsectBoundfd' : np.array([0, 0, 0.17, 0.17, 0, 0, 0], dtype=float) # 流れ間の境界混合係数：分割断面数+1\n",
    "    }\n",
    "\n",
    "dx = 200\n",
    "Ls = np.arange(0,15001,dx) \n",
    "\n",
    "csections = []\n",
    "# csections = List()\n",
    "s = sect.section(X, Y, N, Ls[0], **withoutTree)\n",
    "csections.append(s)\n",
    "\n",
    "yold = y.copy()\n",
    "ibs = []\n",
    "ibs.append(1/2000)\n",
    "for L in Ls[1:]:\n",
    "    if L < 5000:\n",
    "        ib = 1/2000\n",
    "    elif L < 10000:\n",
    "        ib = 1/1000\n",
    "    else:\n",
    "        ib = 1/500\n",
    "        \n",
    "    y = yold + dx*ib\n",
    "    Y = list([y[0:3], y[2:4], y[3:7], y[6:8], y[7:9], y[8:]])\n",
    "    \n",
    "    if 2000 <= L < 4000:\n",
    "        s = sect.section(X, Y, N, L, **withTree)\n",
    "    elif 12000 <= L < 14000:\n",
    "        s = sect.section(X, Y, N, L, **withTree)\n",
    "    else:\n",
    "        s = sect.section(X, Y, N, L, **withoutTree)\n",
    "    \n",
    "    csections.append(s)\n",
    "    \n",
    "    yold = y.copy()\n",
    "    ibs.append(ib)"
   ]
  },
  {
   "cell_type": "code",
   "execution_count": 4,
   "id": "59c44b13",
   "metadata": {},
   "outputs": [],
   "source": [
    "def UnSteadyflow(sections, Q, H, A, Qbound, Hbound, dt):\n",
    "    g = float(9.8)\n",
    "    imax = len(Q)\n",
    "    Anew, Qnew, Hnew = np.zeros(imax), np.zeros(imax), np.zeros(imax)\n",
    "    ie = np.zeros(imax)\n",
    "    Beta = np.zeros(imax)\n",
    "    \n",
    "# continuous equation\n",
    "    for i in range(1, imax-1) : \n",
    "        dx = 0.5*(sections[i-1].distance - sections[i+1].distance)\n",
    "        Anew[i] = A[i] - dt * ( Q[i] - Q[i-1] ) / dx\n",
    "        \n",
    "    s = sections[imax-1]\n",
    "    Ad,_,_,_,_ = s.H2ABSKRc(Hbound)\n",
    "    Anew[imax-1] = Ad\n",
    "    Anew[0] = Anew[1]\n",
    "#     Anew[0] = (Anew[1] - A[1]) + A[0]\n",
    "    \n",
    "    for i in range(imax) : \n",
    "        s = sections[i]\n",
    "        Hnew[i] = s.A2H(Anew[i])\n",
    "        ie[i], _, Beta[i], _= s.HQ2IeAlphaBetaVsub(H[i], Q[i])        \n",
    "    \n",
    "# moumentum equation\n",
    "    for i in range(1, imax-1): \n",
    "        ic, im, ip = i, i-1, i+1\n",
    "        dxp = sections[ic].distance - sections[ip].distance\n",
    "        dxm = sections[im].distance - sections[ic].distance\n",
    "        dxc = 0.5*(sections[im].distance - sections[ip].distance)\n",
    "        \n",
    "        Cr1 = 0.5*( Q[ic]/A[ic] + Q[ip]/A[ip] )*dt/dxp\n",
    "        Cr2 = 0.5*( Q[ic]/A[ic] + Q[im]/A[im] )*dt/dxm\n",
    "        dHdx1 = ( Hnew[ip] - Hnew[ic] ) / dxp\n",
    "        dHdx2 = ( Hnew[ic] - Hnew[im] ) / dxm\n",
    "        dHdx = (float(1.0) - Cr1) * dHdx1 + Cr2 * dHdx2\n",
    "        \n",
    "        Qnew[ic] = Q[ic] - dt * ( Beta[ic]*Q[ic]**2/A[ic] - Beta[im]*Q[im]**2/A[im] ) / dxc \\\n",
    "                         - dt * g * Anew[ic] * dHdx \\\n",
    "                         - dt * g * A[ic] * ie[ic] \n",
    "        \n",
    "    Qnew[imax-1] = Qnew[imax-2]\n",
    "    Qnew[0] = Qbound\n",
    "        \n",
    "    return Qnew, Hnew, Anew"
   ]
  },
  {
   "cell_type": "code",
   "execution_count": 5,
   "id": "db6469ca",
   "metadata": {},
   "outputs": [
    {
     "data": {
      "image/png": "[encoded data removed]",
      "text/plain": [
       "<Figure size 432x288 with 1 Axes>"
      ]
     },
     "metadata": {},
     "output_type": "display_data"
    }
   ],
   "source": [
    "import matplotlib.pyplot as plt\n",
    "\n",
    "gamma = lambda t,z : t**(z-1)*np.exp(-t)\n",
    "\n",
    "L = np.linspace(0,15,100)\n",
    "Qupt = 1500*gamma(L,4)+100\n",
    "\n",
    "plt.figure(facecolor=\"white\", edgecolor=\"black\", linewidth=2)\n",
    "plt.plot(L,Qupt)\n",
    "plt.show()"
   ]
  },
  {
   "cell_type": "code",
   "execution_count": 6,
   "id": "28109036",
   "metadata": {},
   "outputs": [],
   "source": [
    "dt = float(10)\n",
    "t = np.arange(0,15*3600,dt)\n",
    "Qupts = np.interp(t, L*3600, Qupt)"
   ]
  },
  {
   "cell_type": "code",
   "execution_count": 7,
   "id": "1060db05",
   "metadata": {},
   "outputs": [],
   "source": [
    "Qup = Qupts[0]\n",
    "ib = float(1/2000)\n",
    "# 下流端水位\n",
    "s = csections[0]\n",
    "Hd = s.H0(Qup, ib)\n",
    "H = model.nonuniform(csections, Qup, Hd)\n",
    "\n",
    "A = np.zeros_like(H)\n",
    "for i, s in enumerate(csections):\n",
    "    A[i],_,_,_,_ = s.H2ABSKRc(H[i])"
   ]
  },
  {
   "cell_type": "code",
   "execution_count": 8,
   "id": "a2edfc3d",
   "metadata": {},
   "outputs": [
    {
     "name": "stdout",
     "output_type": "stream",
     "text": [
      "Wall time: 4min 21s\n"
     ]
    }
   ],
   "source": [
    "%%time\n",
    "rcsections = list(reversed(csections))\n",
    "\n",
    "Qc  = np.full_like(H,Qup)\n",
    "Hc = H[::-1]\n",
    "Ac = A[::-1]\n",
    "\n",
    "Qout = np.zeros((len(Qupts), len(Qc)))\n",
    "Hout = np.zeros_like(Qout)\n",
    "\n",
    "Qout[0] = Qc\n",
    "Hout[0] = Hc\n",
    "\n",
    "for n in range(1, len(Qupts)):\n",
    "    s = rcsections[-1]\n",
    "    Hd = s.H0(Qc[-1], ib)\n",
    "    Qc, Hc, Ac = UnSteadyflow(rcsections, Qc, Hc, Ac, Qupts[n], Hd, dt)\n",
    "\n",
    "    Qout[n] = Qc\n",
    "    Hout[n] = Hc"
   ]
  }
 ],
 "metadata": {
  "kernelspec": {
   "display_name": "Python 3",
   "language": "python",
   "name": "python3"
  },
  "language_info": {
   "codemirror_mode": {
    "name": "ipython",
    "version": 3
   },
   "file_extension": ".py",
   "mimetype": "text/x-python",
   "name": "python",
   "nbconvert_exporter": "python",
   "pygments_lexer": "ipython3",
   "version": "3.7.10"
  },
  "toc": {
   "base_numbering": 1,
   "nav_menu": {},
   "number_sections": true,
   "sideBar": true,
   "skip_h1_title": false,
   "title_cell": "Table of Contents",
   "title_sidebar": "Contents",
   "toc_cell": false,
   "toc_position": {},
   "toc_section_display": true,
   "toc_window_display": false
  }
 },
 "nbformat": 4,
 "nbformat_minor": 5
}
