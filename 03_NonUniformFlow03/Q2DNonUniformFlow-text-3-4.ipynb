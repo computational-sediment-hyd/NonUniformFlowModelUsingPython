{
 "cells": [
  {
   "cell_type": "markdown",
   "id": "fef602a0",
   "metadata": {},
   "source": [
    "# 準二次元不等流計算3/4：一般断面の不等流計算2-分割断面法（平均流速公式レベル2）\n",
    "\n",
    "- [LICENSE](https://raw.githubusercontent.com/computational-sediment-hyd/NonUniformFlowModelUsingPython/main/LICENSE)"
   ]
  },
  {
   "cell_type": "markdown",
   "id": "f785079c",
   "metadata": {},
   "source": [
    "---"
   ]
  },
  {
   "cell_type": "markdown",
   "id": "2058ea4e",
   "metadata": {},
   "source": [
    "## はじめに\n",
    "\n",
    " - 前回は一般断面で用いて断面内の流速が一様である条件での計算方法を示した。\n",
    " - 今回は下図の複断面形状（低水路+高水敷）にように、断面内の領域ごとに明らかな流速差が生じる場合の計算方法として分割断面法（平均流速公式レベル2）について説明を行なう。\n",
    " \n",
    "![A](https://computational-sediment-hyd.github.io/NonUniformFlowModelUsingPython/03_NonUniformFlow03/ref/secttexcomp.svg)\n",
    "\n",
    "---\n",
    "\n",
    " - 分割断面とは、**粗度が異なる領域ではなく、流速が異なる領域で区分する。**分割断面内で粗度が一定である必要はない。\n",
    " - 分割断面間で流れの干渉は生じないこと条件とする。\n",
    " - 分割断面法において、\n",
    "    * 分割断面ごとに変わる：流速、河積、潤辺、粗度係数など\n",
    "    * 分割断面ごとに変わらない：水位、エネルギー勾配"
   ]
  },
  {
   "cell_type": "markdown",
   "id": "c685965d",
   "metadata": {},
   "source": [
    "---"
   ]
  },
  {
   "cell_type": "markdown",
   "id": "6612615e",
   "metadata": {},
   "source": [
    "## 基礎式\n"
   ]
  },
  {
   "cell_type": "markdown",
   "id": "da0a75d7",
   "metadata": {},
   "source": [
    "### 平均流速公式：マニング則\n",
    "\n",
    "前回示した流速が一様の領域の平均流速公式は以下である。\n",
    "\n",
    "$$\n",
    "\\begin{align}\n",
    " v &= \\dfrac{1}{n'}i_e^{1/2}R^{2/3} \\\\\n",
    " Q &= K i_e^{1/2} \\\\\n",
    " K &\\equiv \\dfrac{A^{5/3}}{n'S^{2/3}} \\\\\n",
    " n' &= \\left( \\dfrac{  \\displaystyle \\sum_{i=1}^{imax-1} S_i n_i^{3/2}}{ \\displaystyle \\sum_{i=1}^{imax-1} S_i } \\right)^{2/3} \n",
    "\\end{align}\n",
    "$$\n",
    "\n",
    "ここに、$Q$:流量、$H$：水位、$A$：河積、$v$：流速、$R=A/S$：径深、$S$：潤辺、$K$：通水能、$n'$：マニングの粗度係数（合成粗度）とする。\n",
    "\n",
    "---\n",
    "\n",
    "分割断面法では、各分割領域で上式が成り立つことを条件に分割断面ごとの流量$Q_n$の総和が全体の流量$Q$として次式を導出する。\n",
    "\n",
    "\n",
    "$$\n",
    "\\begin{align}\n",
    " Q &= \\sum^{n} Q_n \\\\\n",
    "  &=  \\sum^{n} K_n i_e^{1/2} \\\\\n",
    " K &\\equiv \\dfrac{A_n^{5/3}}{n_n'S_n^{2/3}} \\\\\n",
    "\\end{align}\n",
    "$$\n",
    "\n",
    "ここに、添字nは各分割断面の諸元を示す。\n",
    "\n",
    "運動方程式の生成項が摩擦損失のみの場合、マニング則を用いると以下のとおりになる。\n",
    "\n",
    "$$\n",
    "\\begin{align}\n",
    " \\dfrac{\\tau}{\\rho g A} = \\dfrac{Q^2}{\\left(\\displaystyle \\sum^{n} K_n \\right)^2}\n",
    "\\end{align}\n",
    "$$"
   ]
  },
  {
   "cell_type": "markdown",
   "id": "b8fd922d",
   "metadata": {},
   "source": [
    "---"
   ]
  },
  {
   "cell_type": "markdown",
   "id": "ec119130",
   "metadata": {},
   "source": [
    "### 運動方程式"
   ]
  },
  {
   "cell_type": "markdown",
   "id": "3f972d82",
   "metadata": {},
   "source": [
    "分割断面法における不等流計算の運動方程式は次式を用いる。\n",
    "\n",
    "$$\n",
    "\\begin{align}\n",
    "& \\dfrac{d}{dx}\\left( \\frac{\\beta Q^2}{2gA^2} + H \\right) = -\\dfrac{\\tau}{\\rho g A} \n",
    "\\end{align}\n",
    "$$\n",
    "\n",
    "ここに、$Q$:流量、$H$：水位、$A=\\sum A_n$：河積、$\\tau$：コントロールボリュームに作用する力、$\\beta$：運動量補正係数とする。\n",
    "\n",
    "前回示した一般断面の運動方程式とほぼ同型である。\n",
    "新たに追加された$\\beta$：運動量補正係数について詳述しておく。"
   ]
  },
  {
   "cell_type": "markdown",
   "id": "c34ce615",
   "metadata": {},
   "source": [
    "---"
   ]
  },
  {
   "cell_type": "markdown",
   "id": "77fd875c",
   "metadata": {},
   "source": [
    "#### 運動量補正係数\n",
    "\n",
    "運動量補正係数は運動方程式の導出過程で、断面積分を行う際に必要となる係数である。\n",
    "\n",
    "断面平均流速$V$は局所流速$u$の積分で表すことができる。\n",
    "分割断面法では次式となる。\n",
    "\n",
    "$$\n",
    "\\begin{align}\n",
    "& V = \\dfrac{ \\displaystyle \\sum^n {u_n}A_n}{A}\n",
    "\\end{align}\n",
    "$$\n",
    "\n",
    "一次元の運動方程式の導出過程で、$\\dfrac{ \\displaystyle \\sum^n {u_n^2}A_n}{A}$が現れるが、分割断面下では次式は成立しない。\n",
    "\n",
    "$$\n",
    "\\begin{align}\n",
    "\\dfrac{ \\displaystyle \\sum^n {u_n^2}A_n}{A} \\neq V^2 \n",
    "\\end{align}\n",
    "$$\n",
    "\n",
    "---\n",
    "\n",
    "そこで次のように示す。\n",
    "\n",
    "$$\n",
    "\\begin{align}\n",
    "\\dfrac{ \\displaystyle \\sum^n {u_n^2}A_n}{A} &= \\beta V^2  \\\\\n",
    " \\beta &\\equiv \\dfrac{ \\displaystyle \\sum^n {u_n^2}A_n}{V^2 A}\n",
    "\\end{align}\n",
    "$$\n",
    "\n",
    "このとき、$\\beta$を運動量補正係数と定義する。\n",
    "\n",
    "分割断面法の運動方程式では、運動量補正係数を考慮する必要がある。"
   ]
  },
  {
   "cell_type": "markdown",
   "id": "75f3d061",
   "metadata": {},
   "source": [
    "---"
   ]
  },
  {
   "cell_type": "markdown",
   "id": "150c6f1b",
   "metadata": {},
   "source": [
    "#### エネルギー補正係数\n",
    "\n",
    "同様に、エネルギー保存則においても、エネルギー補正係数$\\alpha$が必要となる。\n",
    "\n",
    "$$\n",
    "\\begin{align}\n",
    " \\dfrac{d}{dx}\\left( \\dfrac{\\alpha q^2}{2gh^2} + h + z_b \\right) &= -i_e \n",
    "\\end{align}\n",
    "$$\n",
    "\n",
    "一次元のエネルギー保存則の導出過程では、$\\dfrac{ \\displaystyle \\sum^n {u_n^3}A_n}{A}$が現れるが、分割断面下では次式は成立しない。\n",
    "\n",
    "$$\n",
    "\\begin{align}\n",
    "\\dfrac{ \\displaystyle \\sum^n {u_n^3}A_n}{A} \\neq V^3 \n",
    "\\end{align}\n",
    "$$\n",
    "\n",
    "---\n",
    "\n",
    "そこで次のように示す。\n",
    "\n",
    "$$\n",
    "\\begin{align}\n",
    "\\dfrac{ \\displaystyle \\sum^n {u_n^3}A_n}{A} &= \\alpha V^3  \\\\\n",
    " \\alpha &\\equiv \\dfrac{ \\displaystyle \\sum^n {u_n^3}A_n}{V^3 A}\n",
    "\\end{align}\n",
    "$$\n",
    "\n",
    "このとき、$\\alpha$をエネルギー補正係数と定義する。\n",
    "\n",
    "\n",
    "分割断面法のエネルギー保存則では、エネルギー補正係数を考慮する必要がある。\n",
    "\n",
    "---\n",
    "\n",
    "ここで、水面形方程式を整理すると次式となる。\n",
    "\n",
    "$$\n",
    "\\begin{align}\n",
    " \\dfrac{d}{dx}\\left( \\dfrac{\\alpha q^2}{2gh^2} + h + z_b \\right) &= -i_e \\\\\n",
    "- \\dfrac{\\alpha q^2}{gh^3}\\dfrac{dh}{dx} + \\dfrac{dh}{dx} + \\dfrac{d z_b}{dx} &= -i_e \\\\\n",
    "\\dfrac{dh}{dx} &= \\dfrac{i_b -i_e }{ 1 - \\dfrac{\\alpha q^2}{gh^3}} \n",
    "\\end{align}\n",
    "$$\n",
    "\n",
    "水面形方程式の分母に$\\alpha$が含まれるため、前々回の説明したとおり、限界水深を計算する式が変更される（詳細は後述）。"
   ]
  },
  {
   "cell_type": "markdown",
   "id": "f0b52671",
   "metadata": {},
   "source": [
    "---"
   ]
  },
  {
   "cell_type": "markdown",
   "id": "b3762cf0",
   "metadata": {},
   "source": [
    "### 補足：井田法による合成径深\n",
    "\n",
    "参照：[井田:広巾員開水路の定常流-断面形の影響について](https://www.jstage.jst.go.jp/article/jscej1949/1960/69/1960_69_b1/_article/-char/ja/) （わかりづらいので読まなくても良いです）\n",
    "\n",
    "ここで、分割断面法において水深の代替として用いることが多い井田法による合成径深について説明しておく。\n",
    "\n",
    "分割断面法による平均流速は次式で示される。\n",
    "\n",
    "$$\n",
    "\\begin{align}\n",
    " Q &= \\left( \\sum^{n} \\dfrac{1}{n'_n}R_n^{2/3} A_n \\right) i_e^{1/2}\n",
    "\\end{align}\n",
    "$$\n",
    "\n",
    "断面全体においてもマニング則が成立するとして次式を定義する。\n",
    "\n",
    "$$\n",
    "\\begin{align}\n",
    " Q &= \\dfrac{1}{N}R^{2/3} i_e^{1/2} A\n",
    "\\end{align}\n",
    "$$\n",
    "\n",
    "ここに、$N$：断面全体のマニングの粗度係数、$R$：断面全体の径深を示す。\n",
    "\n",
    "---\n",
    "\n",
    "2式を連立すると次式が導出される。\n",
    "\n",
    "$$\n",
    "\\begin{align}\n",
    " R &= \\left( \\dfrac{N}{A} \\sum^{n} \\dfrac{1}{n'_n}R_n^{2/3} A_n  \\right)^{3/2}\n",
    "\\end{align}\n",
    "$$\n",
    "\n",
    "本式からわかるとおり、径深$R$と粗度係数$N$は独立していない。\n",
    "\n",
    "井田は、水理計算上取り扱いやすいように、径深$R$と粗度係数$N$は独立させるために、\n",
    "次式が成立する$N$を$N_c$と定義した。\n",
    "\n",
    "$$\n",
    "\\begin{align}\n",
    "  N_c \\sum^{n} \\dfrac{1}{n'_n}R_n^{2/3} A_n  \\equiv  \\sum^{n} R_n^{2/3} A_n\n",
    "\\end{align}\n",
    "$$\n",
    "\n",
    "よって、\n",
    "\n",
    "$$\n",
    "\\begin{align}\n",
    "  N_c \\equiv   \\dfrac{ \\displaystyle \\sum^{n} R_n^{2/3} A_n }{\\displaystyle  \\sum^{n} \\dfrac{1}{n'_n}R_n^{2/3} A_n}\n",
    "\\end{align}\n",
    "$$\n",
    "\n",
    "---\n",
    "\n",
    "これを元の$R$の式に代入すると$R_c$:井田法による合成径深が得られる。\n",
    "\n",
    "$$\n",
    "\\begin{align}\n",
    " R_c &= \\left( \\dfrac { \\displaystyle \\sum^{n} R_n^{2/3} A_n }{A} \\right)^{3/2}\n",
    "\\end{align}\n",
    "$$\n",
    "\n",
    "$R_c$は水位のみで決まるため、分割断面法において水深の代替として用いられることが多い。\n",
    "\n",
    "※ $N_c$は井田による等価粗度係数、合成粗度係数などと呼ばれる。前回定義した合成粗度係数と混同しないように注意すること。"
   ]
  },
  {
   "cell_type": "markdown",
   "id": "14500819",
   "metadata": {},
   "source": [
    "---"
   ]
  },
  {
   "cell_type": "markdown",
   "id": "10c29d1d",
   "metadata": {},
   "source": [
    "## 限界水深、等流水深の定義"
   ]
  },
  {
   "cell_type": "markdown",
   "id": "1c3e97f9",
   "metadata": {},
   "source": [
    "一般断面の基礎式を用いて、限界水深、等流水深を矩形断面と同様に定義で設定することは難しいため、便宜的に以下のとおりに設定する。\n",
    "\n",
    "---\n",
    "\n",
    "### 等流水深\n",
    "\n",
    "全ての損失による水頭の勾配が河床勾配$i_b$と釣り合う状態を等流と定義してその水深を等流水深とする。\n",
    "なお、一般断面では水深を用いないため、等流時の水位(以下、等流水位と定義)となる。\n",
    "\n",
    "$$\n",
    "\\begin{align}\n",
    " \\dfrac{\\tau}{\\rho g A} = i_b\n",
    "\\end{align}\n",
    "$$\n",
    "\n",
    "生成項が摩擦損失のみの場合は、\n",
    "\n",
    "$$\n",
    "\\begin{align}\n",
    " \\dfrac{Q^2}{\\left(\\displaystyle \\sum^{n} K_n \\right)^2} = i_b\n",
    "\\end{align}\n",
    "$$\n",
    "\n",
    "となり、これを満足する水位$H$を反復法などにより求めれば良い。\n",
    "\n",
    "---\n",
    "\n",
    "### 限界水深\n",
    "\n",
    "フルード数が1となる水位を限界流時の水位(以下、限界水位と定義)とする。\n",
    "\n",
    "フルード数はエネルギー保存則の分母が0より、\n",
    "\n",
    "$$\n",
    "\\begin{align}\n",
    "    1 &= \\dfrac{\\alpha q^2}{gh^3} \\\\\n",
    "    Fr&=  \\dfrac{V}{ \\sqrt{\\dfrac{gh}{\\alpha}}} \\\\\n",
    "    Fr&=  \\dfrac{Q}{A\\sqrt{\\dfrac{gh}{\\alpha}} }\n",
    "\\end{align}\n",
    "$$\n",
    "\n",
    "となるが、平方根の中に水深$h$が含まれるため、一般断面ではそのままでは計算できない。\n",
    "\n",
    "そのため、分割断面法では水深$h$の代替として井田の合成径深$R_c$を使用することが多い。その他には径深$R=A/S$、$A/B$を用いることもある。\n",
    "\n",
    "参考：[FORUM8ソフトウェア：等流・不等流の計算・3DCAD Ver.9 Q&A](https://www.forum8.co.jp/faq/win/futoryuqa.htm#q1-1)"
   ]
  },
  {
   "cell_type": "markdown",
   "id": "f8e358f9",
   "metadata": {},
   "source": [
    "---"
   ]
  },
  {
   "cell_type": "markdown",
   "id": "e57e7e63",
   "metadata": {},
   "source": [
    "## 離散化"
   ]
  },
  {
   "cell_type": "markdown",
   "id": "7fcdc326",
   "metadata": {},
   "source": [
    "離散化は次式となる。\n",
    "なお、$i$:上流側、$i-1$:下流側とする。\n",
    "\n",
    "$$\n",
    "\\begin{align}\n",
    "  \\left(\\frac{\\beta_i Q^2}{2gA^2_i} + H_i  \\right) \n",
    "-\\left( \\frac{\\beta_{i-1} Q^2}{2gA_{i-1}^2} + H_{i-1}  \\right) \n",
    "&= \\dfrac{1}{2}\\left(\\dfrac{Q^2}{K_i^2} + \\dfrac{Q^2}{K_{i-1}^{2}}\\right)\\Delta x \\\\\n",
    "A&=\\sum A_n \\\\\n",
    "K&=\\sum K_n\n",
    "\\end{align}\n",
    "$$\n",
    "\n",
    "常流の場合、下流から逐次計算を行なうため未知数は$H_i$のみとなる。"
   ]
  },
  {
   "cell_type": "markdown",
   "id": "335fef5e",
   "metadata": {},
   "source": [
    "---"
   ]
  },
  {
   "cell_type": "markdown",
   "id": "cf17330b",
   "metadata": {},
   "source": [
    "## 数値計算方法\n",
    "\n",
    "一般断面の場合、離散式の未知数$H_i$による微分が難しいため、ニュートン法が使いづらい。そのため、二分法を使用することをおすすめする（もちろんニュートン法を使っても良い)。ただし、通常の二分法では安定的に計算することが難しいため、少し工夫が必要である。"
   ]
  },
  {
   "cell_type": "markdown",
   "id": "95955d2e",
   "metadata": {},
   "source": [
    "---"
   ]
  },
  {
   "cell_type": "markdown",
   "id": "46cf4694",
   "metadata": {},
   "source": [
    "## 分割断面法の応用\n",
    "\n",
    "分割断面法では流速の異なる領域ごとに分割断面を設けるため、\n",
    "高水敷と低水路という区分に限らない。\n",
    "例えば、横断面内に樹林帯が存在し、著しく流速が低下する場合などはその領域に分割断面を設定しても良い。\n"
   ]
  },
  {
   "cell_type": "code",
   "execution_count": 1,
   "id": "f33f96c6",
   "metadata": {},
   "outputs": [
    {
     "data": {
      "image/png": "[encoded data removed]",
      "text/plain": [
       "<Figure size 640x480 with 1 Axes>"
      ]
     },
     "metadata": {},
     "output_type": "display_data"
    }
   ],
   "source": [
    "import matplotlib.pyplot as plt\n",
    "x=[0, 5,93,100,200,206,294,300]\n",
    "y=[6, 3.5, 3.5,  0,  0,  3,  3,  6]\n",
    "plt.plot(x,y, c='k')\n",
    "plt.vlines([0,93,206,300], ymin=0, ymax=6, color='r')\n",
    "plt.axvspan(xmin=30, xmax=60)\n",
    "plt.show()                # 描画"
   ]
  },
  {
   "cell_type": "markdown",
   "id": "1ddb4637",
   "metadata": {},
   "source": [
    "---"
   ]
  },
  {
   "cell_type": "markdown",
   "id": "5209dc66",
   "metadata": {},
   "source": [
    "## 分割断面法の必要性\n",
    "\n",
    " - なぜ分割断面法が必要性なのか？合成粗度による方法では駄目なのか?について考える。\n",
    " - 基礎式をふまえて正しく積分するという意味は当然ある。\n",
    " - 複断面河道の流れを適切に一次元で取り扱うこと自体に相当無理がある。\n",
    " - それでも、分割断面法を使う理由は河床抵抗を適切な評価できることである。\n",
    " - 次図に水位と通水能の関係を示すが、合成粗度では高水敷付近で不連続となるが、分割断面法では解消されている。これにより、安定的に水理計算が可能となる。\n",
    "\n",
    "---\n",
    "\n",
    " - 合成粗度\n",
    "![A](https://computational-sediment-hyd.github.io/NonUniformFlowModelUsingPython/03_NonUniformFlow03/ref/合成粗度.png)\n",
    "\n",
    "\n",
    " - 分割断面法\n",
    "![A](https://computational-sediment-hyd.github.io/NonUniformFlowModelUsingPython/03_NonUniformFlow03/ref/分割断面法.png)\n",
    "\n",
    "\n",
    "--- \n",
    "\n",
    "少し考えてみよう。\n",
    "\n",
    "下に多自然川づくりの例でよく見る横浜市のいたち川の写真を示す。写真の下（施工後）の場合、どのように水理計算を行えば良いと思いますか？\n",
    "\n",
    "合成粗度？分割断面法？\n",
    "\n",
    "![A](https://tenbou.nies.go.jp/science/description/images/095/095-5.jpg)\n",
    "出典：（財）リバーフロント整備センター「多自然川づくり参考事例集」https://tenbou.nies.go.jp/science/description/detail.php?id=95"
   ]
  },
  {
   "cell_type": "markdown",
   "id": "2a18cfad",
   "metadata": {},
   "source": [
    "---"
   ]
  },
  {
   "cell_type": "markdown",
   "id": "07745cd1",
   "metadata": {},
   "source": [
    "## 横断面内の流速分布の実態\n",
    "\n",
    " - 実験水路の計測結果を参照すると、横断面内の流速分布は水路幅と水深の比（アスペクト比）によって次図のようになる。\n",
    " - 流速分布は横断方法、鉛直方向の流れ(二次流：主流の数%程度の流れ）で大きさ決まる。\n",
    " - 現地スケールで、特に出水時の観測事例はほとんどない。\n",
    " - アスペクト比が小さい断面形状では、Velocity dipと呼ばれる最大流速位置が水面より少し下に沈むような現象が生じる。\n",
    "\n",
    "[冨永ら1985](https://www.jstage.jst.go.jp/article/jscej1984/1985/357/1985_357_81/_article/-char/ja/)\n",
    "\n",
    "![A](https://computational-sediment-hyd.github.io/NonUniformFlowModelUsingPython/03_NonUniformFlow03/ref/tominaga1985.png)\n",
    "\n",
    "--- \n",
    "\n",
    "[冨永ら1990](https://www.jstage.jst.go.jp/article/jscej1984/1990/417/1990_417_129/_article/-char/ja/)\n",
    "\n",
    "![A](https://computational-sediment-hyd.github.io/NonUniformFlowModelUsingPython/03_NonUniformFlow03/ref/tominaga1990.png)\n",
    "\n",
    "--- \n",
    "\n",
    "[禰津ら1993](https://www.jstage.jst.go.jp/article/jscej1984/1993/467/1993_467_49/_article/-char/ja/)\n",
    "\n",
    "![A](https://computational-sediment-hyd.github.io/NonUniformFlowModelUsingPython/03_NonUniformFlow03/ref/nezu1993.png )"
   ]
  },
  {
   "cell_type": "markdown",
   "id": "036adc48",
   "metadata": {},
   "source": [
    "---"
   ]
  },
  {
   "cell_type": "markdown",
   "id": "4b13d030",
   "metadata": {},
   "source": [
    "## まとめ \n",
    "\n",
    "流速の異なる複数の領域を持つ河道横断形状を対象とした一次元(準二次元)不等流計算方法について説明を行った。\n",
    "\n",
    " - 一次元(準二次元)開水路流れの水理計算を行なう上ではここまで理解できれば十分。\n",
    " - 逆に、不等流計算に限らず、一次元不定流計算、一次元河床変動計算などで水位を正確に計算したい場合は、ここまでは考慮して欲しい。\n",
    " - 県管理河川の河道計画ではこれ以上の知識は不要。\n",
    " - 次回以降説明する平均流速レベル3は、直轄管理河川の河道計画に特化した方法で他で使うことほぼ無い。"
   ]
  }
 ],
 "metadata": {
  "kernelspec": {
   "display_name": "Python 3 (ipykernel)",
   "language": "python",
   "name": "python3"
  },
  "language_info": {
   "codemirror_mode": {
    "name": "ipython",
    "version": 3
   },
   "file_extension": ".py",
   "mimetype": "text/x-python",
   "name": "python",
   "nbconvert_exporter": "python",
   "pygments_lexer": "ipython3",
   "version": "3.10.12"
  },
  "toc": {
   "base_numbering": 1,
   "nav_menu": {},
   "number_sections": true,
   "sideBar": true,
   "skip_h1_title": false,
   "title_cell": "Table of Contents",
   "title_sidebar": "Contents",
   "toc_cell": false,
   "toc_position": {},
   "toc_section_display": true,
   "toc_window_display": true
  }
 },
 "nbformat": 4,
 "nbformat_minor": 5
}
