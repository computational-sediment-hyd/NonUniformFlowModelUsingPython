{
 "cells": [
  {
   "cell_type": "markdown",
   "id": "62ed7cae",
   "metadata": {},
   "source": [
    "# 不等流計算3:一般断面の不等流計算2-分割断面法（平均流速公式レベル2）"
   ]
  },
  {
   "cell_type": "markdown",
   "id": "166f88c8",
   "metadata": {},
   "source": [
    "## 課題\n",
    "分割断面法のクラスを以下のように定義する。\n",
    "\n",
    "※前回は追加距離をLと定義しましたがdistanceに変更しました。"
   ]
  },
  {
   "cell_type": "code",
   "execution_count": 1,
   "id": "ba028300",
   "metadata": {},
   "outputs": [],
   "source": [
    "import numpy as np\n",
    "\n",
    "class subsection(object):\n",
    "    def __init__(self, x, y, n):\n",
    "        self.x = x\n",
    "        self.y = y\n",
    "        self.n = n\n",
    "\n",
    "    def H2ABSKn(self, H): #変更:引数は水位のみ\n",
    "        A, B, S, SN = float(0), float(0), float(0), float(0)\n",
    "        x = self.x #変更:メンバ変数を参照\n",
    "        y = self.y #変更:メンバ変数を参照\n",
    "        n = self.n #変更:メンバ変数を参照\n",
    "        \n",
    "        for i in range(1, len(x)):\n",
    "            dx = x[i] - x[i-1]    \n",
    "            dy = y[i] - y[i-1]    \n",
    "            hb, hf = H - y[i-1], H - y[i]\n",
    "            \n",
    "            if hb <= float(0) :\n",
    "                if hf > float(0) :\n",
    "                    dx_dh = dx / (hf - hb)\n",
    "                    B += hf * dx_dh\n",
    "                    A += 0.5 * hf * hf * dx_dh\n",
    "                    Sp = hf * np.sqrt( dx_dh * dx_dh + 1.0)\n",
    "                    S +=  Sp\n",
    "                    SN += Sp * n[i-1]**1.5\n",
    "            elif hf <= float(0) :\n",
    "                if hb > float(0) :\n",
    "                    dx_dh = dx / (hf - hb)\n",
    "                    B -= hb * dx_dh\n",
    "                    A -= 0.5 * hb * hb * dx_dh\n",
    "                    Sp = hb * np.sqrt(dx_dh * dx_dh + 1.0)\n",
    "                    S += Sp\n",
    "                    SN += Sp * n[i-1]**1.5\n",
    "            else :\n",
    "                B += dx\n",
    "                A += 0.5 * dx * (hf + hb)\n",
    "                Sp = np.sqrt(dx**2 + dy**2)\n",
    "                S += Sp\n",
    "                SN += Sp * n[i-1]**1.5\n",
    "                \n",
    "        if S <= float(0):\n",
    "            nd = float(0)\n",
    "            K = float(0)\n",
    "        else:\n",
    "            nd = (SN/S)**(2.0/3.0)\n",
    "            K = A**(5.0/3.0)/nd/S**(2.0/3.0)\n",
    "            \n",
    "        return A, B, S, K, nd\n",
    "    \n",
    "    \n",
    "class section(object):\n",
    "    def __init__(self, X, Y, N, distance=np.nan):\n",
    "        self._subsections = [subsection(x,y,n) for x,y,n in zip(X,Y,N)]\n",
    "        self.distance = distance\n",
    "        \n",
    "    def H2ABSKnSub(self, H):\n",
    "        num = len(self._subsections)\n",
    "        A = np.zeros(num)\n",
    "        B = np.zeros(num)\n",
    "        S = np.zeros(num)\n",
    "        K = np.zeros(num)\n",
    "        n = np.zeros(num)\n",
    "            \n",
    "        for nump in range(num) : \n",
    "            A[nump], B[nump], S[nump], K[nump], n[nump] = self._subsections[nump].H2ABSKn(H)\n",
    "            \n",
    "        return A, B, S, K, n\n",
    "    \n",
    "#     def H2ABSK(self, H):\n",
    "#         A, B, S, K, n = self.H2ABSKnSub(H)\n",
    "#         return np.sum(A), np.sum(B), np.sum(S), np.sum(K)\n",
    "    \n",
    "    def H2ABSKRc(self, H):\n",
    "        A, B, S, K, n = self.H2ABSKnSub(H)\n",
    "        \n",
    "        RA = float(0)\n",
    "        for i in range(len(A)):\n",
    "            if A[i] > 0 : RA += A[i]*(A[i]/S[i])**(2/3)\n",
    "        Rc = (RA/A.sum())**1.5\n",
    "        \n",
    "        return A.sum(), B.sum(), S.sum(), K.sum(), Rc\n",
    "    \n",
    "    def zbmin(self):\n",
    "        return np.array([s.y.min() for s in self._subsections]).min()\n",
    "    \n",
    "    \n",
    "    def HQ2IeAlphaBetaVsub(self, H, Q):\n",
    "        zero = float(0)\n",
    "        As, Bs, Ss, Ks, ns = self.H2ABSKnSub(H)\n",
    "        Vsub = np.zeros_like(As)\n",
    "        \n",
    "        sqrtIe = Q/Ks.sum()\n",
    "        \n",
    "        for i in range(len(As)):\n",
    "            if As[i]>0: Vsub[i] = 1.0/ns[i]*(As[i]/Ss[i])**(2.0/3.0) * sqrtIe\n",
    "        \n",
    "        A = As.sum()\n",
    "        V = Q/A\n",
    "        Alpha = np.sum(As*Vsub**3)/V**3/A\n",
    "        Beta  = np.sum(As*Vsub**2)/V**2/A\n",
    "        \n",
    "        return sqrtIe**2, Alpha, Beta, Vsub\n",
    "    \n",
    "    \n",
    "    def H0(self, Q, ib, dh = float(0.1)):\n",
    "        H = self.zbmin() + float(0.01)\n",
    "        arr = self.HQ2IeAlphaBetaVsub(H, Q)\n",
    "        ie = arr[0]\n",
    "        \n",
    "        while np.abs(ib - ie)/ie > 0.00001:\n",
    "            if ib < ie:\n",
    "                H += dh\n",
    "            else :\n",
    "                dh *= float(0.5)\n",
    "                H -= dh\n",
    "                \n",
    "            arr = self.HQ2IeAlphaBetaVsub(H, Q)\n",
    "            ie = arr[0]\n",
    "        \n",
    "        return H\n",
    "    \n",
    "    def Hc(self, Q, dh = float(0.1)):\n",
    "        # 初期値は最深河床高+1cmとする。\n",
    "        H = self.zbmin() + float(0.01)\n",
    "        \n",
    "        A,_,_,_,Rc = self.H2ABSKRc(H)\n",
    "        Ie, Alpha, Beta, Vsub  = self.HQ2IeAlphaBetaVsub(H, Q)\n",
    "        fr = Q/A/np.sqrt(float(9.8)*Rc)\n",
    "        \n",
    "        while np.abs(-float(1.0) + fr)/fr > 0.0001:\n",
    "            if fr > float(1.0):\n",
    "                H += dh\n",
    "            else :\n",
    "                dh *= float(0.5)\n",
    "                H -= dh\n",
    "                \n",
    "            A,_,_,_,Rc = self.H2ABSKRc(H)\n",
    "            Ie, Alpha, Beta, Vsub  = self.HQ2IeAlphaBetaVsub(H, Q)\n",
    "            fr = Q/A/np.sqrt(float(9.8)*Rc)\n",
    "        \n",
    "        return H    \n",
    "        "
   ]
  },
  {
   "cell_type": "code",
   "execution_count": 2,
   "id": "d76fde72",
   "metadata": {},
   "outputs": [
    {
     "name": "stdout",
     "output_type": "stream",
     "text": [
      "河積：858.0\n",
      "水面幅：296.0\n",
      "潤辺：298.3606797749979\n",
      "通水能：62445.88519359645\n",
      "井田の合成径深：3.532459992338131\n",
      "エネルギー補正係数：0.9999999999999986\n",
      "運動量補正係数：0.999999999999999\n",
      "等流時水位：4.843447265624999\n",
      "限界流時水位：2.799453125000001\n"
     ]
    }
   ],
   "source": [
    "# 断面のデータ\n",
    "\n",
    "x=np.array([0, 5,93,100,200,206,294,300])\n",
    "y=np.array([6, 3.5, 3.5,  0,  0,  3,  3,  6])\n",
    "n=np.array([0.041, 0.041,0.030,0.030,0.030,0.040,0.040])\n",
    "\n",
    "X = [x[0:3], x[2:6], x[5:]]\n",
    "Y = [y[0:3], y[2:6], y[5:]]\n",
    "N = [n[0:2], n[2:5], n[5:]]\n",
    "\n",
    "s = section(X,Y,N,0)\n",
    "A,B,S,K, Rc = s.H2ABSKRc(5.0)\n",
    "print('河積：{}\\n水面幅：{}\\n潤辺：{}\\n通水能：{}\\n井田の合成径深：{}'.format(A, B, S, K, Rc))\n",
    "\n",
    "Ie, Alpha, Beta, Vsub = s.HQ2IeAlphaBetaVsub(1.0, 1500)\n",
    "print('エネルギー補正係数：{}\\n運動量補正係数：{}'.format(Alpha, Beta))\n",
    "\n",
    "H0 =s.H0(1500,1/1500)\n",
    "Hc = s.Hc(1500)\n",
    "\n",
    "print('等流時水位：{}\\n限界流時水位：{}'.format(H0, Hc))"
   ]
  },
  {
   "cell_type": "markdown",
   "id": "d5cdde0d",
   "metadata": {},
   "source": [
    "### 課題1"
   ]
  },
  {
   "cell_type": "markdown",
   "id": "a8121e03",
   "metadata": {},
   "source": [
    " 1. 新たに定義したクラスsectionに運動量補正係数、エネルギー補正係数、井田の合成径深を計算するメソッドを追加せよ。\n",
    " 2. 新たに定義したクラスsectionに等流時水位、限界流時水位を計算するメソッドを追加せよ。"
   ]
  },
  {
   "cell_type": "markdown",
   "id": "e4178995",
   "metadata": {},
   "source": [
    "上を参照"
   ]
  },
  {
   "cell_type": "markdown",
   "id": "1a1b8617",
   "metadata": {},
   "source": [
    "### 課題2"
   ]
  },
  {
   "cell_type": "markdown",
   "id": "e114724c",
   "metadata": {},
   "source": [
    "課題1で作成したクラスを用いて不等流計算モデルを実装し、縦断水位計算せよ。計算条件は以下のとおりとする。\n",
    "\n",
    " - 流量：$1500\\rm{m^3/s}$\n",
    " - 下流端水位：等流水深（等流時水位）\n",
    " \n",
    "断面データは前回課題と同様に以下のように定義する。"
   ]
  },
  {
   "cell_type": "code",
   "execution_count": 3,
   "id": "dff8a994",
   "metadata": {},
   "outputs": [],
   "source": [
    "x=np.array([0, 5,93,100,200,206,294,300])\n",
    "y=np.array([6, 3.5, 3.5,  0,  0,  3,  3,  6])\n",
    "n=np.array([0.041, 0.041,0.030,0.030,0.030,0.040,0.040])\n",
    "\n",
    "dx = 200\n",
    "Ls = np.arange(0,15001,dx) \n",
    "\n",
    "sections = []\n",
    "sect = {'x':x, 'y':y, 'n':n, 'L':Ls[0]}\n",
    "sections.append(sect)\n",
    "\n",
    "yold = y.copy()\n",
    "ibs = []\n",
    "ibs.append(1/2000)\n",
    "for L in Ls[1:]:\n",
    "    if L < 5000:\n",
    "        ib = 1/2000\n",
    "    elif L < 10000:\n",
    "        ib = 1/1000\n",
    "    else:\n",
    "        ib = 1/500\n",
    "        \n",
    "    ynew = yold + dx*ib\n",
    "    sect = {'x':x, 'y':ynew, 'n':n, 'L':L}\n",
    "    sections.append(sect)\n",
    "    yold = ynew.copy()\n",
    "    ibs.append(ib)"
   ]
  },
  {
   "cell_type": "code",
   "execution_count": 4,
   "id": "c73cdcbb",
   "metadata": {},
   "outputs": [],
   "source": [
    "csections = []\n",
    "\n",
    "for s in sections:\n",
    "    x, y, z, l = s['x'],s['y'],s['n'],s['L']\n",
    "    X = [x[0:3], x[2:6], x[5:]]\n",
    "    Y = [y[0:3], y[2:6], y[5:]]\n",
    "    N = [n[0:2], n[2:5], n[5:]]\n",
    "    csections.append( section(X,Y,N,l) )"
   ]
  },
  {
   "cell_type": "code",
   "execution_count": 5,
   "id": "4ba86706",
   "metadata": {},
   "outputs": [],
   "source": [
    "def nonuniform(csections, Q, HDB):\n",
    "    g = float(9.8)\n",
    "    dhini = float(0.5)\n",
    "    H = np.empty(len(csections))\n",
    "    \n",
    "    # 下流端水位\n",
    "    # 添字dがi-1、添字pがiの値\n",
    "    s = csections[0]\n",
    "    Qd = Q\n",
    "    Hd = HDB\n",
    "    H[0] = Hd\n",
    "    Ad,_,_,_,_ = s.H2ABSKRc(Hd)\n",
    "    ied, _, Betad, _= s.HQ2IeAlphaBetaVsub(Hd, Qd)\n",
    "    \n",
    "    for i in range(1, len(csections)):\n",
    "        # 収束計算の初期値は限界流時水位+1mm\n",
    "        sp, sd = csections[i], csections[i-1]\n",
    "        Qp = Q\n",
    "        Hp = sp.Hc(Qp)\n",
    "        Ap,_,_,_,_ = sp.H2ABSKRc(Hp)\n",
    "        iep, _, Betap, _= sp.HQ2IeAlphaBetaVsub(Hp, Qp)\n",
    "        dx = sp.distance - sd.distance\n",
    "            \n",
    "        E1 = Betap*0.5/g*Qp**2.0/Ap**2.0 + Hp\n",
    "        E2 = Betad*0.5/g*Qd**2.0/Ad**2.0 + Hd + 0.5*dx*(ied + iep)\n",
    "        \n",
    "        Hp = Hp + float(0.001)\n",
    "        dh = dhini\n",
    "        for n in range(1000):\n",
    "            Ap,_,_,_,_ = sp.H2ABSKRc(Hp)\n",
    "            iep, _, Betap, _= sp.HQ2IeAlphaBetaVsub(Hp, Qp)\n",
    "        \n",
    "            E1 = Betap*0.5/g*Qp**2.0/Ap**2.0 + Hp\n",
    "            E2 = Betad*0.5/g*Qd**2.0/Ad**2.0 + Hd + 0.5*dx*(ied + iep)\n",
    "            \n",
    "            if np.abs(E1 - E2) < 0.00001 : \n",
    "                break\n",
    "            elif E1 > E2 :\n",
    "                dh *= float(0.5)\n",
    "                Hp -= dh\n",
    "            else:\n",
    "                Hp += dh\n",
    "                \n",
    "        H[i] = Hp\n",
    "        Qd, Hd, ied, Ad, Betad = Qp, Hp, iep, Ap, Betap\n",
    "        \n",
    "    return H"
   ]
  },
  {
   "cell_type": "code",
   "execution_count": 6,
   "id": "4d3e509d",
   "metadata": {},
   "outputs": [],
   "source": [
    "Q = float(1500)\n",
    "ib = float(1/2000)\n",
    "# 下流端水位\n",
    "s = csections[0]\n",
    "Hd = s.H0(Q, ib)\n",
    "H = nonuniform(csections, Q, Hd)"
   ]
  },
  {
   "cell_type": "code",
   "execution_count": 7,
   "id": "a79a890c",
   "metadata": {},
   "outputs": [
    {
     "data": {
      "image/png": "[encoded data removed]",
      "text/plain": [
       "<Figure size 1080x576 with 1 Axes>"
      ]
     },
     "metadata": {
      "needs_background": "light"
     },
     "output_type": "display_data"
    }
   ],
   "source": [
    "import matplotlib.pyplot as plt\n",
    "\n",
    "plt.figure(figsize=(15,8))\n",
    "\n",
    "L = [s.distance for s in csections]\n",
    "zb = [s.zbmin() for s in csections]\n",
    "gHc = [s.Hc(Q) for s in csections]\n",
    "gH0 = [s.H0(Q,ibb) for s,ibb in zip(csections,ibs)]\n",
    "\n",
    "plt.plot(L,zb,label='zbmin', color='k')\n",
    "plt.plot(L,gHc,label='Hc', color='r')\n",
    "plt.plot(L,gH0,label='H0', color='g')\n",
    "plt.plot(L,H,label='W.L.', color='b')\n",
    "plt.legend()\n",
    "plt.show()"
   ]
  },
  {
   "cell_type": "markdown",
   "id": "82bdb337",
   "metadata": {},
   "source": [
    "### 課題3\n",
    "\n",
    "三重対角行列の数値解法であるTDMA法（トーマス法）について調べて、式を導出し、ソースコードを作成せよ。"
   ]
  },
  {
   "cell_type": "markdown",
   "id": "9000251e",
   "metadata": {},
   "source": [
    "wikipediaを読んでね。https://en.wikipedia.org/wiki/Tridiagonal_matrix_algorithm"
   ]
  },
  {
   "cell_type": "markdown",
   "id": "a8992a9d",
   "metadata": {},
   "source": [
    " - TDMA法は流体数値解析では必須の方法（オリエンテーションで話した）\n",
    " - ガウスの消去法は分割数Nの3乗の計算量であるが、TDMAでNの数倍程度の計算量ですむ。\n",
    " - 大規模演算に使用することを意識するとメモリ節約版も知っておくと良い。(引数をそのまま使うため、値が変わってしまう。)\n",
    " - メモリ節約を考えると入力もa,b,c,dの形式とするほうが良い。"
   ]
  },
  {
   "cell_type": "code",
   "execution_count": 8,
   "id": "05a4e03b",
   "metadata": {},
   "outputs": [],
   "source": [
    "import numpy as np"
   ]
  },
  {
   "cell_type": "code",
   "execution_count": 9,
   "id": "cc2ed7d4",
   "metadata": {},
   "outputs": [],
   "source": [
    "def TDMA(a,b,c,d):\n",
    "    x, P, Q = np.empty_like(a), np.empty_like(a), np.empty_like(a)\n",
    "    n = len(x)\n",
    "    \n",
    "    P[0], Q[0] = -c[0]/b[0], d[0]/b[0]\n",
    "    for i in range(1, n):\n",
    "        P[i] = -  c[i]                /(a[i]*P[i-1] + b[i])\n",
    "        Q[i] =  (-a[i]*Q[i-1] + d[i])/(a[i]*P[i-1] + b[i])\n",
    "        \n",
    "    x[-1] = Q[-1]\n",
    "    for i in range(n-2, -1, -1):\n",
    "        x[i] = P[i]*x[i+1] + Q[i]\n",
    "        \n",
    "    return x"
   ]
  },
  {
   "cell_type": "code",
   "execution_count": 10,
   "id": "99dcf3b5",
   "metadata": {},
   "outputs": [],
   "source": [
    "# https://nekodamashi-math.blog.ss-blog.jp/2017-12-03-2\n",
    "def lmTDMA(a,b,c,d):\n",
    "    n = len(a)\n",
    "    #! 前進消去\n",
    "    for i in range(1, n):\n",
    "        ratio=a[i]/b[i-1]\n",
    "        b[i]=b[i] - ratio*c[i-1]\n",
    "        d[i]=d[i] - ratio*d[i-1]\n",
    "\n",
    "    #! 後退代入\n",
    "    d[-1]=d[-1]/b[-1]\n",
    "    for i in range(n-2, -1, -1):\n",
    "        d[i]=(d[i]-c[i]*d[i+1])/b[i]\n",
    "\n",
    "    return d"
   ]
  },
  {
   "cell_type": "markdown",
   "id": "f295a058",
   "metadata": {},
   "source": [
    "$$\n",
    "\\begin{pmatrix}\n",
    " b_1 & c_1 & 0 & 0 \\\\\n",
    " a_2 & b_2 & c_2 & 0\\\\\n",
    " 0 & a_3 & b_3 & c_3\\\\\n",
    " 0 & 0 & a_4 & b_4\n",
    "\\end{pmatrix}\n",
    "\\begin{pmatrix}\n",
    " x_1 \\\\ x_2\\\\ x_3 \\\\ x_4\n",
    "\\end{pmatrix}=\n",
    "\\begin{pmatrix}\n",
    " d_1 \\\\ d_2\\\\ d_3 \\\\ d_4\n",
    "\\end{pmatrix}\n",
    "$$\n",
    "\n",
    "$$\n",
    "\\left( \\begin{array}{ccc} 2 & 1 & 0 & 0 \\\\ 1 & 2 & 1 & 0 \\\\ 0 & 1 & 2 & 1 \\\\ 0 & 0 & 1 & 2 \\end{array} \\right) \\left( \\begin{array}{c} x_1 \\\\ x_2 \\\\ x_3 \\\\ x_4 \\end{array} \\right) = \\left( \\begin{array}{c} 4 \\\\ 8 \\\\ 12 \\\\ 11 \\end{array} \\right)\n",
    "$$"
   ]
  },
  {
   "cell_type": "code",
   "execution_count": 11,
   "id": "56e6e8cf",
   "metadata": {},
   "outputs": [
    {
     "name": "stdout",
     "output_type": "stream",
     "text": [
      "[1. 2. 3. 4.]\n"
     ]
    }
   ],
   "source": [
    "a = np.array([0.0, 1.0, 1.0, 1.0])\n",
    "b = np.array([2.0, 2.0, 2.0, 2.0])\n",
    "c = np.array([1.0, 1.0, 1.0, 0.0])\n",
    "d = np.array([4.0, 8.0, 12.0, 11.0])\n",
    "\n",
    "# X = TDMA(a, b, c, d)\n",
    "X = lmTDMA(a, b, c, d)\n",
    "print(X)"
   ]
  },
  {
   "cell_type": "markdown",
   "id": "8ceb3692",
   "metadata": {},
   "source": [
    "### 課題4：アンケート\n",
    "\n",
    " - クラスの構成について意見をお願いします。無ければ大丈夫です。\n",
    "     - メンバ変数について\n",
    "         - 例えば、A,Bなどはメンバ変数にしたほうが良いか？私はプリミティブ変数（H）をクラスの外で定義してそれ以外の定数をメンバ変数として、クラスのメンバ変数は最小限とする書き方が好きです。\n",
    "     - 変数、関数のネーミング\n",
    "         - javaみたいにわかりやすく長くする。 x ⇒ coordsX、distance⇒distanceFromDownBoundaryなど\n",
    "         - 関数名はどうする？H2ABSK ⇒ calsectionProfileとか\n",
    "     - private,publicの関数、変数の明確化、getter、setterの定義等\n",
    "     \n",
    "    ...etc\n",
    "     "
   ]
  }
 ],
 "metadata": {
  "kernelspec": {
   "display_name": "Python 3",
   "language": "python",
   "name": "python3"
  },
  "language_info": {
   "codemirror_mode": {
    "name": "ipython",
    "version": 3
   },
   "file_extension": ".py",
   "mimetype": "text/x-python",
   "name": "python",
   "nbconvert_exporter": "python",
   "pygments_lexer": "ipython3",
   "version": "3.7.10"
  },
  "toc": {
   "base_numbering": 1,
   "nav_menu": {},
   "number_sections": true,
   "sideBar": true,
   "skip_h1_title": false,
   "title_cell": "Table of Contents",
   "title_sidebar": "Contents",
   "toc_cell": false,
   "toc_position": {
    "height": "calc(100% - 180px)",
    "left": "10px",
    "top": "150px",
    "width": "232.167px"
   },
   "toc_section_display": true,
   "toc_window_display": true
  }
 },
 "nbformat": 4,
 "nbformat_minor": 5
}
