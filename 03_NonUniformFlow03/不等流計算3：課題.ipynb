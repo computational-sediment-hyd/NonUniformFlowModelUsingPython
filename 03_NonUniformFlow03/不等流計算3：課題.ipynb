{
 "cells": [
  {
   "cell_type": "markdown",
   "id": "62ed7cae",
   "metadata": {},
   "source": [
    "# 不等流計算3:一般断面の不等流計算2-分割断面法（平均流速公式レベル2）"
   ]
  },
  {
   "cell_type": "markdown",
   "id": "166f88c8",
   "metadata": {},
   "source": [
    "## 課題\n",
    "分割断面法のクラスを以下のように定義する。\n",
    "\n",
    "※前回は追加距離をLと定義しましたがdistanceに変更しました。"
   ]
  },
  {
   "cell_type": "code",
   "execution_count": 1,
   "id": "ba028300",
   "metadata": {},
   "outputs": [],
   "source": [
    "import numpy as np\n",
    "\n",
    "class subsection(object):\n",
    "    def __init__(self, x, y, n):\n",
    "        self.x = x\n",
    "        self.y = y\n",
    "        self.n = n\n",
    "\n",
    "    def H2ABSKn(self, H): #変更:引数は水位のみ\n",
    "        A, B, S, SN = float(0), float(0), float(0), float(0)\n",
    "        x = self.x #変更:メンバ変数を参照\n",
    "        y = self.y #変更:メンバ変数を参照\n",
    "        n = self.n #変更:メンバ変数を参照\n",
    "        \n",
    "        for i in range(1, len(x)):\n",
    "            dx = x[i] - x[i-1]    \n",
    "            dy = y[i] - y[i-1]    \n",
    "            hb, hf = H - y[i-1], H - y[i]\n",
    "            \n",
    "            if hb <= float(0) :\n",
    "                if hf > float(0) :\n",
    "                    dx_dh = dx / (hf - hb)\n",
    "                    B += hf * dx_dh\n",
    "                    A += 0.5 * hf * hf * dx_dh\n",
    "                    Sp = hf * np.sqrt( dx_dh * dx_dh + 1.0)\n",
    "                    S +=  Sp\n",
    "                    SN += Sp * n[i-1]**1.5\n",
    "            elif hf <= float(0) :\n",
    "                if hb > float(0) :\n",
    "                    dx_dh = dx / (hf - hb)\n",
    "                    B -= hb * dx_dh\n",
    "                    A -= 0.5 * hb * hb * dx_dh\n",
    "                    Sp = hb * np.sqrt(dx_dh * dx_dh + 1.0)\n",
    "                    S += Sp\n",
    "                    SN += Sp * n[i-1]**1.5\n",
    "            else :\n",
    "                B += dx\n",
    "                A += 0.5 * dx * (hf + hb)\n",
    "                Sp = np.sqrt(dx**2 + dy**2)\n",
    "                S += Sp\n",
    "                SN += Sp * n[i-1]**1.5\n",
    "                \n",
    "        if S <= float(0):\n",
    "            nd = float(0)\n",
    "            K = float(0)\n",
    "        else:\n",
    "            nd = (SN/S)**(2.0/3.0)\n",
    "            K = A**(5.0/3.0)/nd/S**(2.0/3.0)\n",
    "            \n",
    "        return A, B, S, K, nd\n",
    "    \n",
    "    \n",
    "class section(object):\n",
    "    def __init__(self, X, Y, N, distance=np.nan):\n",
    "        self._subsections = [subsection(x,y,n) for x,y,n in zip(X,Y,N)]\n",
    "        self.distance = distance\n",
    "        \n",
    "    def H2ABSKnSub(self, H):\n",
    "        num = len(self._subsections)\n",
    "        A = np.zeros(num)\n",
    "        B = np.zeros(num)\n",
    "        S = np.zeros(num)\n",
    "        K = np.zeros(num)\n",
    "        n = np.zeros(num)\n",
    "            \n",
    "        for nump in range(num) : \n",
    "            A[nump], B[nump], S[nump], K[nump], n[nump] = self._subsections[nump].H2ABSKn(H)\n",
    "            \n",
    "        return A, B, S, K, n\n",
    "    \n",
    "    def H2ABSK(self, H):\n",
    "        A, B, S, K, n = self.H2ABSKnSub(H)\n",
    "        return np.sum(A), np.sum(B), np.sum(S), np.sum(K)\n",
    "    \n",
    "    def zbmin(self):\n",
    "        return np.array([s.y.min() for s in self._subsections]).min()\n",
    "        "
   ]
  },
  {
   "cell_type": "code",
   "execution_count": 2,
   "id": "d76fde72",
   "metadata": {},
   "outputs": [
    {
     "name": "stdout",
     "output_type": "stream",
     "text": [
      "河積：858.0\n",
      "水面幅：296.0\n",
      "潤辺：298.3606797749979\n",
      "通水能：62445.88519359645\n"
     ]
    }
   ],
   "source": [
    "# 断面のデータ\n",
    "\n",
    "x=np.array([0, 5,93,100,200,206,294,300])\n",
    "y=np.array([6, 3.5, 3.5,  0,  0,  3,  3,  6])\n",
    "n=np.array([0.041, 0.041,0.030,0.030,0.030,0.040,0.040])\n",
    "\n",
    "X = [x[0:3], x[2:6], x[5:]]\n",
    "Y = [y[0:3], y[2:6], y[5:]]\n",
    "N = [n[0:2], n[2:5], n[5:]]\n",
    "\n",
    "s = section(X,Y,N,0)\n",
    "A,B,S,K = s.H2ABSK(5.0)\n",
    "print('河積：{}\\n水面幅：{}\\n潤辺：{}\\n通水能：{}'.format(A, B, S, K))"
   ]
  },
  {
   "cell_type": "markdown",
   "id": "d5cdde0d",
   "metadata": {},
   "source": [
    "### 課題1"
   ]
  },
  {
   "cell_type": "markdown",
   "id": "a8121e03",
   "metadata": {},
   "source": [
    " 1. 新たに定義したクラスsectionに運動量補正係数、エネルギー補正係数、井田の合成径深を計算するメソッドを追加せよ。\n",
    " 2. 新たに定義したクラスsectionに等流時水位、限界流時水位を計算するメソッドを追加せよ。"
   ]
  },
  {
   "cell_type": "markdown",
   "id": "1a1b8617",
   "metadata": {},
   "source": [
    "### 課題2"
   ]
  },
  {
   "cell_type": "markdown",
   "id": "e114724c",
   "metadata": {},
   "source": [
    "課題1で作成したクラスを用いて不等流計算モデルを実装し、縦断水位計算せよ。計算条件は以下のとおりとする。\n",
    "\n",
    " - 流量：$1500\\rm{m^3/s}$\n",
    " - 下流端水位：等流水深（等流時水位）\n",
    " \n",
    "断面データは前回課題と同様に以下のように定義する。"
   ]
  },
  {
   "cell_type": "code",
   "execution_count": 3,
   "id": "dff8a994",
   "metadata": {},
   "outputs": [],
   "source": [
    "x=np.array([0, 5,93,100,200,206,294,300])\n",
    "y=np.array([6, 3.5, 3.5,  0,  0,  3,  3,  6])\n",
    "n=np.array([0.041, 0.041,0.030,0.030,0.030,0.040,0.040])\n",
    "\n",
    "dx = 200\n",
    "Ls = np.arange(0,15001,dx) \n",
    "\n",
    "sections = []\n",
    "sect = {'x':x, 'y':y, 'n':n, 'L':Ls[0]}\n",
    "sections.append(sect)\n",
    "\n",
    "yold = y.copy()\n",
    "ibs = []\n",
    "ibs.append(1/2000)\n",
    "for L in Ls[1:]:\n",
    "    if L < 5000:\n",
    "        ib = 1/2000\n",
    "    elif L < 10000:\n",
    "        ib = 1/1000\n",
    "    else:\n",
    "        ib = 1/500\n",
    "        \n",
    "    ynew = yold + dx*ib\n",
    "    sect = {'x':x, 'y':ynew, 'n':n, 'L':L}\n",
    "    sections.append(sect)\n",
    "    yold = ynew.copy()\n",
    "    ibs.append(ib)"
   ]
  },
  {
   "cell_type": "code",
   "execution_count": 4,
   "id": "c73cdcbb",
   "metadata": {},
   "outputs": [],
   "source": [
    "csections = []\n",
    "\n",
    "for s in sections:\n",
    "    x, y, z, l = s['x'],s['y'],s['n'],s['L']\n",
    "    X = [x[0:3], x[2:6], x[5:]]\n",
    "    Y = [y[0:3], y[2:6], y[5:]]\n",
    "    N = [n[0:2], n[2:5], n[5:]]\n",
    "    csections.append( section(X,Y,N,l) )"
   ]
  },
  {
   "cell_type": "code",
   "execution_count": 5,
   "id": "a719c6bc",
   "metadata": {},
   "outputs": [],
   "source": [
    "# test\n",
    "# for s in csections:\n",
    "#     A,B,S,K = s.H2ABSK(s.zbmin()+5.0)\n",
    "#     print(s.distance, A, B)"
   ]
  },
  {
   "cell_type": "markdown",
   "id": "82bdb337",
   "metadata": {},
   "source": [
    "### 課題3\n",
    "\n",
    "三重対角行列の数値解法であるTDMA法（トーマス法）について調べて、式を導出し、ソースコードを作成せよ。"
   ]
  },
  {
   "cell_type": "markdown",
   "id": "8ceb3692",
   "metadata": {},
   "source": [
    "### 課題4：アンケート\n",
    "\n",
    " - クラスの構成について意見をお願いします。無ければ大丈夫です。\n",
    "     - メンバ変数について\n",
    "         - 例えば、A,Bなどはメンバ変数にしたほうが良いか？私はプリミティブ変数（H）をクラスの外で定義してそれ以外の定数をメンバ変数として、クラスのメンバ変数は最小限とする書き方が好きです。\n",
    "     - 変数、関数のネーミング\n",
    "         - javaみたいにわかりやすく長くする。 x ⇒ coordsX、distance⇒distanceFromDownBoundaryなど\n",
    "         - 関数名はどうする？H2ABSK ⇒ calsectionProfileとか\n",
    "     - private,publicの関数、変数の明確化、getter、setterの定義等\n",
    "     \n",
    "    ...etc\n",
    "     "
   ]
  }
 ],
 "metadata": {
  "kernelspec": {
   "display_name": "Python 3",
   "language": "python",
   "name": "python3"
  },
  "language_info": {
   "codemirror_mode": {
    "name": "ipython",
    "version": 3
   },
   "file_extension": ".py",
   "mimetype": "text/x-python",
   "name": "python",
   "nbconvert_exporter": "python",
   "pygments_lexer": "ipython3",
   "version": "3.7.10"
  },
  "toc": {
   "base_numbering": 1,
   "nav_menu": {},
   "number_sections": true,
   "sideBar": true,
   "skip_h1_title": false,
   "title_cell": "Table of Contents",
   "title_sidebar": "Contents",
   "toc_cell": false,
   "toc_position": {},
   "toc_section_display": true,
   "toc_window_display": false
  }
 },
 "nbformat": 4,
 "nbformat_minor": 5
}
