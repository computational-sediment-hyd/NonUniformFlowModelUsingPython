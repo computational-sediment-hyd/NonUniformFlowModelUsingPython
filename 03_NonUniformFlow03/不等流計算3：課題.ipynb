{
 "cells": [
  {
   "cell_type": "markdown",
   "id": "62ed7cae",
   "metadata": {},
   "source": [
    "# 不等流計算3:一般断面の不等流計算2-分割断面法（平均流速公式レベル2）"
   ]
  },
  {
   "cell_type": "markdown",
   "id": "166f88c8",
   "metadata": {},
   "source": [
    "## 課題"
   ]
  },
  {
   "cell_type": "markdown",
   "id": "d5cdde0d",
   "metadata": {},
   "source": [
    "### 課題1"
   ]
  },
  {
   "cell_type": "markdown",
   "id": "a8121e03",
   "metadata": {},
   "source": [
    " 1. 新たに定義したクラスsectionに運動量補正係数、エネルギー補正係数、井田の合成径深を計算するメソッドを追加せよ。\n",
    " 2. 新たに定義したクラスsectionに等流時水位、限界流時水位を計算するメソッドを追加せよ。"
   ]
  },
  {
   "cell_type": "markdown",
   "id": "1a1b8617",
   "metadata": {},
   "source": [
    "### 課題2"
   ]
  },
  {
   "cell_type": "markdown",
   "id": "e114724c",
   "metadata": {},
   "source": [
    "課題1で作成したクラスを用いて不等流計算モデルを実装し、縦断水位計算せよ。計算条件は以下のとおりとする。"
   ]
  },
  {
   "cell_type": "markdown",
   "id": "82bdb337",
   "metadata": {},
   "source": [
    "### 課題3\n",
    "\n",
    "三重対角行列の数値解法であるTDMA法（トーマス法）について調べて、式を導出し、ソースコードを作成せよ。"
   ]
  }
 ],
 "metadata": {
  "kernelspec": {
   "display_name": "Python 3",
   "language": "python",
   "name": "python3"
  },
  "language_info": {
   "codemirror_mode": {
    "name": "ipython",
    "version": 3
   },
   "file_extension": ".py",
   "mimetype": "text/x-python",
   "name": "python",
   "nbconvert_exporter": "python",
   "pygments_lexer": "ipython3",
   "version": "3.7.10"
  },
  "toc": {
   "base_numbering": 1,
   "nav_menu": {},
   "number_sections": true,
   "sideBar": true,
   "skip_h1_title": false,
   "title_cell": "Table of Contents",
   "title_sidebar": "Contents",
   "toc_cell": false,
   "toc_position": {},
   "toc_section_display": true,
   "toc_window_display": false
  }
 },
 "nbformat": 4,
 "nbformat_minor": 5
}
