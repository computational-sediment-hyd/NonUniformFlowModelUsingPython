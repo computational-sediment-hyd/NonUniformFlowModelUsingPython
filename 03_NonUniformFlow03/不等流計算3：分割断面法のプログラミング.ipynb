{
 "cells": [
  {
   "cell_type": "markdown",
   "id": "3d68231e",
   "metadata": {},
   "source": [
    "# 分割断面法のプログラミング"
   ]
  },
  {
   "cell_type": "markdown",
   "id": "51c9f370",
   "metadata": {},
   "source": [
    " - 前回定義したクラスsectionを利用する。\n",
    " - 分割断面法は、各断面を複数の領域に分割するため、クラスsectionをクラスsubsectionと再定義して、複数のsubsectionの集合が新たなクラスsectionとなるように定義する。"
   ]
  },
  {
   "cell_type": "code",
   "execution_count": 1,
   "id": "62bc4703",
   "metadata": {},
   "outputs": [],
   "source": [
    "import numpy as np"
   ]
  },
  {
   "cell_type": "code",
   "execution_count": 2,
   "id": "c0d1c066",
   "metadata": {},
   "outputs": [],
   "source": [
    "class subsection(object):\n",
    "    def __init__(self, x, y, n):\n",
    "        self.x = x\n",
    "        self.y = y\n",
    "        self.n = n\n",
    "\n",
    "    def H2ABSKn(self, H): #変更:引数は水位のみ\n",
    "        A, B, S, SN = float(0), float(0), float(0), float(0)\n",
    "        x = self.x #変更:メンバ変数を参照\n",
    "        y = self.y #変更:メンバ変数を参照\n",
    "        n = self.n #変更:メンバ変数を参照\n",
    "        \n",
    "        for i in range(1, len(x)):\n",
    "            dx = x[i] - x[i-1]    \n",
    "            dy = y[i] - y[i-1]    \n",
    "            hb, hf = H - y[i-1], H - y[i]\n",
    "            \n",
    "            if hb <= float(0) :\n",
    "                if hf > float(0) :\n",
    "                    dx_dh = dx / (hf - hb)\n",
    "                    B += hf * dx_dh\n",
    "                    A += 0.5 * hf * hf * dx_dh\n",
    "                    Sp = hf * np.sqrt( dx_dh * dx_dh + 1.0)\n",
    "                    S +=  Sp\n",
    "                    SN += Sp * n[i-1]**1.5\n",
    "            elif hf <= float(0) :\n",
    "                if hb > float(0) :\n",
    "                    dx_dh = dx / (hf - hb)\n",
    "                    B -= hb * dx_dh\n",
    "                    A -= 0.5 * hb * hb * dx_dh\n",
    "                    Sp = hb * np.sqrt(dx_dh * dx_dh + 1.0)\n",
    "                    S += Sp\n",
    "                    SN += Sp * n[i-1]**1.5\n",
    "            else :\n",
    "                B += dx\n",
    "                A += 0.5 * dx * (hf + hb)\n",
    "                Sp = np.sqrt(dx**2 + dy**2)\n",
    "                S += Sp\n",
    "                SN += Sp * n[i-1]**1.5\n",
    "                \n",
    "        if S <= float(0):\n",
    "            nd = float(0)\n",
    "            K = float(0)\n",
    "        else:\n",
    "            nd = (SN/S)**(2.0/3.0)\n",
    "            K = A**(5.0/3.0)/nd/S**(2.0/3.0)\n",
    "            \n",
    "        return A, B, S, K, nd"
   ]
  },
  {
   "cell_type": "markdown",
   "id": "ffb6f4cd",
   "metadata": {},
   "source": [
    "下図のように分割断面を設定する。"
   ]
  },
  {
   "cell_type": "code",
   "execution_count": 3,
   "id": "20b605f1",
   "metadata": {},
   "outputs": [],
   "source": [
    "x=np.array([0, 5,93,100,200,206,294,300])\n",
    "y=np.array([6, 3.5, 3.5,  0,  0,  3,  3,  6])\n",
    "n=np.array([0.041, 0.041,0.030,0.030,0.030,0.040,0.040])"
   ]
  },
  {
   "cell_type": "code",
   "execution_count": 4,
   "id": "7e356726",
   "metadata": {},
   "outputs": [
    {
     "data": {
      "image/png": "[encoded data removed]",
      "text/plain": [
       "<Figure size 432x288 with 1 Axes>"
      ]
     },
     "metadata": {
      "needs_background": "light"
     },
     "output_type": "display_data"
    }
   ],
   "source": [
    "import matplotlib.pyplot as plt\n",
    "plt.plot(x,y, c='k')\n",
    "plt.vlines([0,93,206,300], ymin=0, ymax=6, color='r')\n",
    "plt.show()                # 描画"
   ]
  },
  {
   "cell_type": "markdown",
   "id": "1790d5af",
   "metadata": {},
   "source": [
    "左岸側の高水敷のsubsectionは次のとおりに定義できる。"
   ]
  },
  {
   "cell_type": "code",
   "execution_count": 5,
   "id": "e798aa57",
   "metadata": {},
   "outputs": [],
   "source": [
    "sub = subsection( x[0:3], y[0:3], n[0:2] )"
   ]
  },
  {
   "cell_type": "code",
   "execution_count": 6,
   "id": "dc318ecb",
   "metadata": {},
   "outputs": [
    {
     "name": "stdout",
     "output_type": "stream",
     "text": [
      "河積：134.25\n",
      "水面幅：91.0\n",
      "潤辺：91.35410196624969\n",
      "通水能：4232.411951420601\n",
      "合成粗度係数：0.04100000000000001\n"
     ]
    }
   ],
   "source": [
    "A, B, S, K, nd = sub.H2ABSKn(5.0)\n",
    "print('河積：{}\\n水面幅：{}\\n潤辺：{}\\n通水能：{}\\n合成粗度係数：{}'.format(A, B, S, K, nd))"
   ]
  },
  {
   "cell_type": "markdown",
   "id": "4dce28d3",
   "metadata": {},
   "source": [
    "同様にすべてのsubsectionを含めた配列を作成する。\n",
    "\n",
    "その際に境界の座標点は重複させる。"
   ]
  },
  {
   "cell_type": "code",
   "execution_count": 7,
   "id": "f863eb28",
   "metadata": {},
   "outputs": [],
   "source": [
    "section = [ subsection( x[0:3], y[0:3], n[0:2] )\n",
    "            , subsection( x[2:6], y[2:6], n[2:5] )\n",
    "            , subsection( x[5:], y[5:], n[5:] )\n",
    "          ]"
   ]
  },
  {
   "cell_type": "markdown",
   "id": "45c2d615",
   "metadata": {},
   "source": [
    "次にsubsectionの配列となるクラスsectionを定義する。"
   ]
  },
  {
   "cell_type": "code",
   "execution_count": 8,
   "id": "d7eab3e1",
   "metadata": {},
   "outputs": [],
   "source": [
    "class section(object):\n",
    "    def __init__(self, section):\n",
    "        self.subsections = section"
   ]
  },
  {
   "cell_type": "markdown",
   "id": "08e1f768",
   "metadata": {},
   "source": [
    "となるが、より抽象度を高めて以下のように定義する。"
   ]
  },
  {
   "cell_type": "code",
   "execution_count": 9,
   "id": "12d410e3",
   "metadata": {},
   "outputs": [],
   "source": [
    "X = [x[0:3], x[2:6], x[5:]]\n",
    "Y = [y[0:3], y[2:6], y[5:]]\n",
    "N = [n[0:2], n[2:5], n[5:]]"
   ]
  },
  {
   "cell_type": "code",
   "execution_count": 10,
   "id": "41030594",
   "metadata": {},
   "outputs": [],
   "source": [
    "class section(object):\n",
    "    def __init__(self, X, Y, N):\n",
    "        self._subsections = [subsection(x,y,n) for x,y,n in zip(X,Y,N)]"
   ]
  },
  {
   "cell_type": "markdown",
   "id": "eb2b322c",
   "metadata": {},
   "source": [
    "※ クラスのメンバ変数名の最初の_はクラスの外からアクセスして欲しくないことを示す暗黙のルール。pythonではprivate変数は設定できない。\n",
    "\n",
    "前回はLと定義した下流端からの追加距離をdistanceとして追加"
   ]
  },
  {
   "cell_type": "code",
   "execution_count": 11,
   "id": "d0530754",
   "metadata": {},
   "outputs": [],
   "source": [
    "class section(object):\n",
    "    def __init__(self, X, Y, N, distance=np.nan):\n",
    "        self._subsections = [subsection(x,y,n) for x,y,n in zip(X,Y,N)]\n",
    "        self.distance = distance"
   ]
  },
  {
   "cell_type": "markdown",
   "id": "634466bc",
   "metadata": {},
   "source": [
    "次に断面の諸元を計算するメソッドを定義する。\n",
    "\n",
    "A,B,S,Kはsubsectionごと値の総和をとる。"
   ]
  },
  {
   "cell_type": "code",
   "execution_count": 12,
   "id": "2cc3e156",
   "metadata": {},
   "outputs": [],
   "source": [
    "class section(object):\n",
    "    def __init__(self, X, Y, N, distance=np.nan):\n",
    "        self._subsections = [subsection(x,y,n) for x,y,n in zip(X,Y,N)]\n",
    "        self.distance = distance\n",
    "        \n",
    "    def H2ABSKnSub(self, H):\n",
    "        num = len(self._subsections)\n",
    "        A = np.zeros(num)\n",
    "        B = np.zeros(num)\n",
    "        S = np.zeros(num)\n",
    "        K = np.zeros(num)\n",
    "        n = np.zeros(num)\n",
    "            \n",
    "        for nump in range(num) : \n",
    "            A[nump], B[nump], S[nump], K[nump], n[nump] = self._subsections[nump].H2ABSKn(H)\n",
    "            \n",
    "        return A, B, S, K, n\n",
    "    \n",
    "    def H2ABSK(self, H):\n",
    "        A, B, S, K, n = self.H2ABSKnSub(H)\n",
    "        return np.sum(A), np.sum(B), np.sum(S), np.sum(K)"
   ]
  },
  {
   "cell_type": "markdown",
   "id": "9a41f6fc",
   "metadata": {},
   "source": [
    "水位が5のときのA,B,S,Kを計算すると以下のとおりとなる。\n",
    "\n",
    "断面全体の粗度係数は総和では計算できないため、計算に含めていない。"
   ]
  },
  {
   "cell_type": "code",
   "execution_count": 13,
   "id": "a2b526af",
   "metadata": {
    "scrolled": true
   },
   "outputs": [
    {
     "name": "stdout",
     "output_type": "stream",
     "text": [
      "河積：858.0\n",
      "水面幅：296.0\n",
      "潤辺：298.3606797749979\n",
      "通水能：62445.88519359645\n"
     ]
    }
   ],
   "source": [
    "X = [x[0:3], x[2:6], x[5:]]\n",
    "Y = [y[0:3], y[2:6], y[5:]]\n",
    "N = [n[0:2], n[2:5], n[5:]]\n",
    "\n",
    "s = section(X,Y,N,0)\n",
    "A,B,S,K = s.H2ABSK(5.0)\n",
    "print('河積：{}\\n水面幅：{}\\n潤辺：{}\\n通水能：{}'.format(A, B, S, K))"
   ]
  },
  {
   "cell_type": "markdown",
   "id": "7b80ab81",
   "metadata": {},
   "source": [
    "課題と同様に、水位を0.01～6.0まで変化させて場合の以下の諸元を計算する。\n",
    " - 通水能（y軸：水位、x軸：通水能）"
   ]
  },
  {
   "cell_type": "code",
   "execution_count": 14,
   "id": "587b45d8",
   "metadata": {},
   "outputs": [],
   "source": [
    "Harr = np.arange(0.01,6.001,0.01)\n",
    "Karr = np.zeros_like(Harr)\n",
    "\n",
    "for i, H in enumerate(Harr) : \n",
    "    _,_,_,Karr[i] = s.H2ABSK(H)"
   ]
  },
  {
   "cell_type": "code",
   "execution_count": 19,
   "id": "1b0d39cf",
   "metadata": {},
   "outputs": [
    {
     "data": {
      "image/png": "[encoded data removed]",
      "text/plain": [
       "<Figure size 576x216 with 2 Axes>"
      ]
     },
     "metadata": {
      "needs_background": "light"
     },
     "output_type": "display_data"
    }
   ],
   "source": [
    "fig, axes = plt.subplots(1, 2, figsize=(8,3), tight_layout=True, sharey=\"all\")\n",
    "axes[0].plot(x, y, c='k')\n",
    "axes[1].plot(Karr, Harr , c='k')\n",
    "axes[0].set_title('cross-section')\n",
    "axes[1].set_title('K')\n",
    "# plt.savefig('tmp.png', bbox_inches=\"tight\", facecolor=\"white\")\n",
    "plt.show()                # 描画"
   ]
  },
  {
   "cell_type": "markdown",
   "id": "ffedbe58",
   "metadata": {},
   "source": [
    "さらに、流量$1000 \\mathrm{m^3/s}$、河床勾配$1/300$における$\\dfrac{\\tau}{\\rho g A} = \\dfrac{Q^2}{(\\sum K)^2}$と$H$の関係は以下となる。"
   ]
  },
  {
   "cell_type": "code",
   "execution_count": 16,
   "id": "752b8f8a",
   "metadata": {},
   "outputs": [
    {
     "data": {
      "image/png": "[encoded data removed]",
      "text/plain": [
       "<Figure size 432x288 with 1 Axes>"
      ]
     },
     "metadata": {
      "needs_background": "light"
     },
     "output_type": "display_data"
    }
   ],
   "source": [
    "Q = 1000\n",
    "plt.plot(Q**2/Karr**2, Harr, c='k')\n",
    "plt.xscale('log')\n",
    "plt.axvline(x=1/300, c='b')\n",
    "plt.xlabel(r'$\\dfrac{\\tau}{\\rho g A}$')\n",
    "plt.ylabel(r'H')\n",
    "plt.show()                # 描画"
   ]
  }
 ],
 "metadata": {
  "kernelspec": {
   "display_name": "Python 3",
   "language": "python",
   "name": "python3"
  },
  "language_info": {
   "codemirror_mode": {
    "name": "ipython",
    "version": 3
   },
   "file_extension": ".py",
   "mimetype": "text/x-python",
   "name": "python",
   "nbconvert_exporter": "python",
   "pygments_lexer": "ipython3",
   "version": "3.7.10"
  },
  "toc": {
   "base_numbering": 1,
   "nav_menu": {},
   "number_sections": true,
   "sideBar": true,
   "skip_h1_title": false,
   "title_cell": "Table of Contents",
   "title_sidebar": "Contents",
   "toc_cell": false,
   "toc_position": {},
   "toc_section_display": true,
   "toc_window_display": false
  }
 },
 "nbformat": 4,
 "nbformat_minor": 5
}
