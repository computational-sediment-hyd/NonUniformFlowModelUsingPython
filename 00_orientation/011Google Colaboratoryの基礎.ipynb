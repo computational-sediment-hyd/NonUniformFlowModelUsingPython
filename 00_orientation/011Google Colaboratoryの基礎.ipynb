{
 "cells": [
  {
   "cell_type": "markdown",
   "metadata": {
    "id": "iBWXlSOIXo4p"
   },
   "source": [
    "# Google Colaboratoryの基礎"
   ]
  },
  {
   "cell_type": "markdown",
   "metadata": {
    "id": "cI8LMTDqXYMD"
   },
   "source": [
    "---\n",
    "\n",
    "## Google Colaboratoryについて\n",
    "\n",
    "> Google Colaboratory（通称Colab）は、Googleが提供するオンラインのJupyterノートブック環境です。ノートブック環境とは、コードやテキストを組み合わせたインタラクティブな文書形式でプログラミングを行うことができる環境のことです。\n",
    "\n",
    "> Colabは、ブラウザ上で動作し、Googleのクラウド上にある仮想マシン上でPythonコードを実行できます。また、GPUやTPUを利用することができ、機械学習やデータ分析などの高度な計算を行うことができます。\n",
    "\n",
    "> Colabは無料で利用でき、Googleアカウントを持っているだけで利用できます。また、Colabには、Googleが提供する機械学習ライブラリであるTensorFlowやPyTorchなどが最初からインストールされているため、これらのライブラリを使ったプログラムの開発や実行も容易に行うことができます。"
   ]
  },
  {
   "cell_type": "markdown",
   "metadata": {
    "id": "m_fYPNfkYApV"
   },
   "source": [
    "---\n",
    "\n",
    "## Colabの起動\n",
    "\n",
    "[https://colab.research.google.com/](https://colab.research.google.com/)にアクセスすると以下の画面が表示されますので，右上からGoogleアカウントでログインできます．これでColab使えるようになります。\n",
    "\n",
    "![tmp](https://computational-sediment-hyd.github.io/NonUniformFlowModelUsingPython/00_orientation/ref/d01s.png)"
   ]
  },
  {
   "cell_type": "markdown",
   "metadata": {
    "id": "m_fYPNfkYApV"
   },
   "source": [
    "---\n",
    "\n",
    "ログインすると次の画面が表示されますがとりあえずキャンセルします。\n",
    "\n",
    "![tmp](https://computational-sediment-hyd.github.io/NonUniformFlowModelUsingPython/00_orientation/ref/d02s.png)"
   ]
  },
  {
   "cell_type": "markdown",
   "metadata": {
    "id": "QN_4995Jkk3G"
   },
   "source": [
    "---\n",
    "\n",
    "## Colabの実行\n",
    "\n",
    "\n",
    "\n",
    "トップに表示される「Colaboratory へようこそ.ipynb」の中段くらいの次のソースを実行してみます．\n",
    "セルを選択すると次のように画面になるので、左の三角ボタンをクリックするとセル内のpythonコードが実行できます。\n",
    "\n",
    "初回起動時はランタイムに接続するため、実行に時間がかかりますが、一度接続すると2回目は実行速度のみで実行できます。\n",
    "\n",
    "![tmp](https://computational-sediment-hyd.github.io/NonUniformFlowModelUsingPython/00_orientation/ref/d03s.png)"
   ]
  },
  {
   "cell_type": "markdown",
   "metadata": {
    "id": "qqK6qzFhktaD"
   },
   "source": [
    "---\n",
    "\n",
    "### 90分ルール・12時間ルール\n",
    "以下のルールに従って、ランタイムがリセットされますが、ライトユーザーにとってはほとんど問題ないです。\n",
    "有料版であるPro／Pro+／Pay As You Goのユーザーの場合、90分ルールはなくなり、12時間→24時間ルールになるようです。\n",
    "なお、各時間は最長とのことです。\n",
    "\n",
    "#### 90分ルール\n",
    "ノートブックのインスタンス起動後に、セッションが切断されて９０分経過するとランタイムリセットされます。つまり、90分間何も触らないとランタイムが切断されます。\n",
    "\n",
    "#### 12時間ルール\n",
    "ノートブック起動後、12時間経過するとランタイムがリセットされます。\n"
   ]
  },
  {
   "cell_type": "markdown",
   "metadata": {
    "id": "cfdfmaY8k1No"
   },
   "source": [
    "\n",
    "---\n",
    "\n",
    "## Colabのファイル形式、保存先、Google Driveの活用\n",
    "\n",
    "Colabのファイル形式は、[Jupyter Notebook](https://jupyter.org/)（詳細は後述）の形式（拡張子.ipynb）です。\n",
    "\n",
    "Colab上で作成したファイルは[Google Drive](https://drive.google.com/drive/)直下のColab Notebooksフォルダ内に保存されます。\n",
    "\n",
    "また、[Google Drive](https://drive.google.com/drive/)上でipynbファイルをクリックすると[Colab](https://colab.research.google.com/)が起動します。そのため、[Google Drive](https://drive.google.com/drive/)上でColab用ファイルを管理することをおすすめします。\n",
    "\n",
    "![tmp](https://computational-sediment-hyd.github.io/NonUniformFlowModelUsingPython/00_orientation/ref/d04s.png)"
   ]
  },
  {
   "cell_type": "markdown",
   "metadata": {
    "id": "TKlsN6DnlMcG"
   },
   "source": [
    "---\n",
    "\n",
    "## Colabの独自コマンド\n",
    "\n",
    "[Colab](https://colab.research.google.com/)では、Jupyter Notebookと同様にPythonコードを動かすことはできますが、それに加えて以下のコマンドを使用することができます。\n",
    "\n"
   ]
  },
  {
   "cell_type": "markdown",
   "metadata": {
    "id": "O6vNbxK7lgC9"
   },
   "source": [
    "### Linuxコマンドの使用\n",
    "\n",
    "各コマンドの先頭に!又は%を付けることにより基本的なLinuxコマンドを使用することができます。\n",
    "apt等によるパッケージ管理も可能です"
   ]
  },
  {
   "cell_type": "code",
   "execution_count": null,
   "metadata": {
    "colab": {
     "base_uri": "https://localhost:8080/"
    },
    "executionInfo": {
     "elapsed": 277,
     "status": "ok",
     "timestamp": 1682311574936,
     "user": {
      "displayName": "ryota nishiguchi",
      "userId": "17176417616353695325"
     },
     "user_tz": -540
    },
    "id": "rthj57cjlSc0",
    "outputId": "55ba59a9-ddc2-493e-c7e2-fc6e64a61c74"
   },
   "outputs": [],
   "source": [
    "!ls -al\n",
    "# or  %ls -al"
   ]
  },
  {
   "cell_type": "markdown",
   "metadata": {
    "id": "h7OcRjL9lZhp"
   },
   "source": [
    "\n",
    "---\n",
    "\n",
    "### ライブラリをインストール\n",
    "\n",
    "Colabには多くの主要ライブラリが最初からインストールされています。\n",
    "インストールされていないライブラリを使用する場合は、以下のとおり、pipコマンド（[pythonパッケージの管理コマンド](https://www.python.jp/install/windows/pip.html))によるインストールが可能です。\n",
    "\n",
    "例：geopandasをインストールする場合"
   ]
  },
  {
   "cell_type": "code",
   "execution_count": null,
   "metadata": {
    "colab": {
     "base_uri": "https://localhost:8080/"
    },
    "executionInfo": {
     "elapsed": 9130,
     "status": "ok",
     "timestamp": 1682311657924,
     "user": {
      "displayName": "ryota nishiguchi",
      "userId": "17176417616353695325"
     },
     "user_tz": -540
    },
    "id": "WzIY9kSulnBr",
    "outputId": "5cf2531b-00fb-4810-fcfb-0f25559982db"
   },
   "outputs": [],
   "source": [
    "%pip -q install geopandas\n",
    "# or !pip -q install geopandas"
   ]
  },
  {
   "cell_type": "markdown",
   "metadata": {
    "id": "4hMCwRM-ltAM"
   },
   "source": [
    "### Google Driveをマウント\n",
    "\n",
    "ファイル操作を行なう場合はGoogle Drive上でファイルを管理します。\n",
    "ファイルにアクセスするためには、以下のコマンドによりGoogle Driveをマウントする必要があります。"
   ]
  },
  {
   "cell_type": "code",
   "execution_count": null,
   "metadata": {
    "colab": {
     "base_uri": "https://localhost:8080/"
    },
    "executionInfo": {
     "elapsed": 18299,
     "status": "ok",
     "timestamp": 1682311761379,
     "user": {
      "displayName": "ryota nishiguchi",
      "userId": "17176417616353695325"
     },
     "user_tz": -540
    },
    "id": "XinXUOgFl42D",
    "outputId": "74e7ce1d-7e21-4aa7-ee4f-7812a39bcb63"
   },
   "outputs": [],
   "source": [
    "from google.colab import drive\n",
    "drive.mount('/content/drive')"
   ]
  }
 ],
 "metadata": {
  "colab": {
   "authorship_tag": "ABX9TyPSiCwpTqnN4JsGt1/gMYUo",
   "provenance": [],
   "toc_visible": true
  },
  "kernelspec": {
   "display_name": "Python 3",
   "language": "python",
   "name": "python3"
  },
  "language_info": {
   "codemirror_mode": {
    "name": "ipython",
    "version": 3
   },
   "file_extension": ".py",
   "mimetype": "text/x-python",
   "name": "python",
   "nbconvert_exporter": "python",
   "pygments_lexer": "ipython3",
   "version": "3.7.10"
  },
  "toc": {
   "base_numbering": 1,
   "nav_menu": {},
   "number_sections": true,
   "sideBar": true,
   "skip_h1_title": false,
   "title_cell": "Table of Contents",
   "title_sidebar": "Contents",
   "toc_cell": false,
   "toc_position": {},
   "toc_section_display": true,
   "toc_window_display": false
  }
 },
 "nbformat": 4,
 "nbformat_minor": 1
}
