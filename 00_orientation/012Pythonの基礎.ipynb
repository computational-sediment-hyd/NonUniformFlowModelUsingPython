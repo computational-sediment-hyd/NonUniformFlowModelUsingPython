{
 "cells": [
  {
   "cell_type": "markdown",
   "metadata": {},
   "source": [
    "# Pythonの基礎\n",
    "\n",
    "---"
   ]
  },
  {
   "cell_type": "markdown",
   "metadata": {
    "toc": true
   },
   "source": [
    "<h1>Table of Contents<span class=\"tocSkip\"></span></h1>\n",
    "<div class=\"toc\"><ul class=\"toc-item\"><li><span><a href=\"#Pythonの基礎\" data-toc-modified-id=\"Pythonの基礎-1\"><span class=\"toc-item-num\">1&nbsp;&nbsp;</span>Pythonの基礎</a></span><ul class=\"toc-item\"><li><span><a href=\"#インデント\" data-toc-modified-id=\"インデント-1.1\"><span class=\"toc-item-num\">1.1&nbsp;&nbsp;</span>インデント</a></span></li><li><span><a href=\"#データ型\" data-toc-modified-id=\"データ型-1.2\"><span class=\"toc-item-num\">1.2&nbsp;&nbsp;</span>データ型</a></span></li><li><span><a href=\"#データ型：複合的な型\" data-toc-modified-id=\"データ型：複合的な型-1.3\"><span class=\"toc-item-num\">1.3&nbsp;&nbsp;</span>データ型：複合的な型</a></span><ul class=\"toc-item\"><li><span><a href=\"#リスト\" data-toc-modified-id=\"リスト-1.3.1\"><span class=\"toc-item-num\">1.3.1&nbsp;&nbsp;</span>リスト</a></span></li><li><span><a href=\"#辞書\" data-toc-modified-id=\"辞書-1.3.2\"><span class=\"toc-item-num\">1.3.2&nbsp;&nbsp;</span>辞書</a></span></li></ul></li><li><span><a href=\"#関数:def\" data-toc-modified-id=\"関数:def-1.4\"><span class=\"toc-item-num\">1.4&nbsp;&nbsp;</span>関数:def</a></span></li><li><span><a href=\"#関数：lambda\" data-toc-modified-id=\"関数：lambda-1.5\"><span class=\"toc-item-num\">1.5&nbsp;&nbsp;</span>関数：lambda</a></span></li><li><span><a href=\"#条件分岐と繰り返し処理\" data-toc-modified-id=\"条件分岐と繰り返し処理-1.6\"><span class=\"toc-item-num\">1.6&nbsp;&nbsp;</span>条件分岐と繰り返し処理</a></span></li><li><span><a href=\"#リスト内包表記\" data-toc-modified-id=\"リスト内包表記-1.7\"><span class=\"toc-item-num\">1.7&nbsp;&nbsp;</span>リスト内包表記</a></span></li><li><span><a href=\"#ファイル操作\" data-toc-modified-id=\"ファイル操作-1.8\"><span class=\"toc-item-num\">1.8&nbsp;&nbsp;</span>ファイル操作</a></span></li><li><span><a href=\"#クラスの基礎\" data-toc-modified-id=\"クラスの基礎-1.9\"><span class=\"toc-item-num\">1.9&nbsp;&nbsp;</span>クラスの基礎</a></span></li><li><span><a href=\"#ライブラリの基礎\" data-toc-modified-id=\"ライブラリの基礎-1.10\"><span class=\"toc-item-num\">1.10&nbsp;&nbsp;</span>ライブラリの基礎</a></span><ul class=\"toc-item\"><li><span><a href=\"#numpy\" data-toc-modified-id=\"numpy-1.10.1\"><span class=\"toc-item-num\">1.10.1&nbsp;&nbsp;</span>numpy</a></span></li><li><span><a href=\"#matplotlib\" data-toc-modified-id=\"matplotlib-1.10.2\"><span class=\"toc-item-num\">1.10.2&nbsp;&nbsp;</span>matplotlib</a></span></li></ul></li></ul></li></ul></div>"
   ]
  },
  {
   "cell_type": "markdown",
   "metadata": {
    "id": "UhfzISPjmJEe"
   },
   "source": [
    "---\n",
    "\n",
    "[実践計算物理学 ―物理を理解するためのPython活用法―](https://www.kyoritsu-pub.co.jp/book/b10025215.html)\n",
    "\n",
    "より抜粋して説明します。\n",
    "\n",
    "書籍内のコードが一部公開されておりますので参照下さい。\n",
    "\n",
    " - 1_Pythonプログラミングへの準備\n",
    "\n",
    "[![Open In Colab](https://colab.research.google.com/assets/colab-badge.svg)](https://colab.research.google.com/github/comp-phys-kyoritsu/codes/blob/main/1_Python%E3%83%95%E3%82%9A%E3%83%AD%E3%82%AF%E3%82%99%E3%83%A9%E3%83%9F%E3%83%B3%E3%82%AF%E3%82%99%E3%81%B8%E3%81%AE%E6%BA%96%E5%82%99.ipynb)\n",
    "\n",
    " - 2_Pythonの基礎 - 基本的なルール\n",
    "\n",
    "[![Open In Colab](https://colab.research.google.com/assets/colab-badge.svg)](https://colab.research.google.com/github/comp-phys-kyoritsu/codes/blob/main/2_Python%E3%81%AE%E5%9F%BA%E7%A4%8E%20-%20%E5%9F%BA%E6%9C%AC%E7%9A%84%E3%81%AA%E3%83%AB%E3%83%BC%E3%83%AB.ipynb)\n",
    "\n",
    " - 3_Pythonの基礎 - ライブラリ\n",
    "\n",
    "[![Open In Colab](https://colab.research.google.com/assets/colab-badge.svg)](https://colab.research.google.com/github/comp-phys-kyoritsu/codes/blob/main/3_Python%E3%81%AE%E5%9F%BA%E7%A4%8E%20-%20%E3%83%A9%E3%82%A4%E3%83%95%E3%82%99%E3%83%A9%E3%83%AA.ipynb)"
   ]
  },
  {
   "cell_type": "markdown",
   "metadata": {
    "id": "UhfzISPjmJEe"
   },
   "source": [
    "---\n",
    "\n",
    "## インデント\n",
    "\n",
    " - Pythonではインデントの揃った部分が1つのブロックとみなされる。\n",
    " - 異なるブロックはキーワード+コロン:で始まる。"
   ]
  },
  {
   "cell_type": "code",
   "execution_count": 3,
   "metadata": {
    "colab": {
     "base_uri": "https://localhost:8080/",
     "height": 136
    },
    "executionInfo": {
     "elapsed": 7,
     "status": "error",
     "timestamp": 1682313422938,
     "user": {
      "displayName": "ryota nishiguchi",
      "userId": "17176417616353695325"
     },
     "user_tz": -540
    },
    "id": "iW8Q_DT7mIze",
    "outputId": "fbf8dc07-8597-4e95-9584-63d0ae9e66e4"
   },
   "outputs": [
    {
     "ename": "IndentationError",
     "evalue": "unexpected indent (<ipython-input-3-08b837f97b05>, line 2)",
     "output_type": "error",
     "traceback": [
      "\u001b[1;36m  File \u001b[1;32m\"<ipython-input-3-08b837f97b05>\"\u001b[1;36m, line \u001b[1;32m2\u001b[0m\n\u001b[1;33m    print(\"Hello world\")\u001b[0m\n\u001b[1;37m    ^\u001b[0m\n\u001b[1;31mIndentationError\u001b[0m\u001b[1;31m:\u001b[0m unexpected indent\n"
     ]
    }
   ],
   "source": [
    "print(\"Hello world\")\n",
    "    print(\"Hello world\")"
   ]
  },
  {
   "cell_type": "code",
   "execution_count": 1,
   "metadata": {
    "colab": {
     "base_uri": "https://localhost:8080/"
    },
    "executionInfo": {
     "elapsed": 355,
     "status": "ok",
     "timestamp": 1682313461579,
     "user": {
      "displayName": "ryota nishiguchi",
      "userId": "17176417616353695325"
     },
     "user_tz": -540
    },
    "id": "igUfWSjZsesi",
    "outputId": "dd35c9e1-12d0-42ae-e404-66714e2c83d2"
   },
   "outputs": [
    {
     "name": "stdout",
     "output_type": "stream",
     "text": [
      "1\n",
      "2\n",
      "3\n",
      "4\n",
      "5\n",
      "6\n",
      "7\n",
      "8\n",
      "9\n",
      "10\n"
     ]
    }
   ],
   "source": [
    "# シャープ(#)以下の文章は無視される(コメントアウト)\n",
    "# コードの説明や補足, 不要な文を無効化したいときなどに用いる\n",
    "for i in range(10):\n",
    "    # rangeは連番を取得する関数. この例では0,1,...,9を取得し,\n",
    "    # 順番にiに代入することで繰り返し処理をする.\n",
    "    x = i + 1\n",
    "    print(x)"
   ]
  },
  {
   "cell_type": "markdown",
   "metadata": {
    "id": "Sug-NAdWsorO"
   },
   "source": [
    "---\n",
    "\n",
    "## データ型\n",
    "\n",
    " - Pythonで取り扱うことができるデータは、数値、真偽値、文字列の3種類\n",
    " "
   ]
  },
  {
   "cell_type": "code",
   "execution_count": 2,
   "metadata": {
    "id": "vp8RqHvys7TR"
   },
   "outputs": [],
   "source": [
    "x = 12   # xを整数(int)型変数として定義.\n",
    "         # 12.あるいは12.0とすると浮動小数点(float)型,\n",
    "         # 12+0jとすると複素数(complex)型となる(jは虚数単位).\n",
    "         # 数値型はint, float, complexの3種類.\n",
    "y = True # yを真偽値(bool)型変数として定義.\n",
    "         # bool型はint型のサブクラスでTrue=1, False=0と同じ.\n",
    "z = \"PC\" # zを文字列(str)型変数として定義.\n",
    "         # \" \"や’ ’で囲うとstr型として認識される"
   ]
  },
  {
   "cell_type": "markdown",
   "metadata": {
    "id": "9xmUW4cJspHl"
   },
   "source": [
    "---\n",
    "\n",
    "## データ型：複合的な型\n",
    "\n",
    " - Pythonのデータ型には、上記の基本的なデータ型を要素とする複合的なデータ型（コンテナ型）が存在する。\n",
    " - リスト、タプル、集合、辞書など "
   ]
  },
  {
   "cell_type": "markdown",
   "metadata": {
    "id": "rfLFputHumdt"
   },
   "source": [
    "### リスト"
   ]
  },
  {
   "cell_type": "code",
   "execution_count": 3,
   "metadata": {
    "id": "Z8mELwKbuZsq"
   },
   "outputs": [],
   "source": [
    "x = [1, 2, 3]\n",
    "y = [\"Hello\", \" \", \"world\"]"
   ]
  },
  {
   "cell_type": "code",
   "execution_count": 4,
   "metadata": {
    "colab": {
     "base_uri": "https://localhost:8080/"
    },
    "executionInfo": {
     "elapsed": 275,
     "status": "ok",
     "timestamp": 1682314040944,
     "user": {
      "displayName": "ryota nishiguchi",
      "userId": "17176417616353695325"
     },
     "user_tz": -540
    },
    "id": "TknWT4Rgut2j",
    "outputId": "07872944-3418-4559-fff7-25fd129a1657"
   },
   "outputs": [
    {
     "name": "stdout",
     "output_type": "stream",
     "text": [
      "a= A\n",
      "a= 2\n",
      "a= 3\n",
      "a= X\n"
     ]
    }
   ],
   "source": [
    "x + y             # リストの結合→ [1,2,3,\"Hello\",\" \",\"world\"]\n",
    "len(x)            # リストの長さの取得→ 3\n",
    "2 in x            # リストに要素が含まれるか→ True\n",
    "x[0] = \"A\"        # xの0番目の要素を\"A\"に書き換える\n",
    "x.append(\"X\")     # xの最後に\"X\"を追加\n",
    "for a in x:       # リストの要素で繰り返し処理をする\n",
    "    print(\"a=\", a)  # → a=A, a=2, a=3, a=Xと連続して出力される"
   ]
  },
  {
   "cell_type": "markdown",
   "metadata": {
    "id": "6kxmK1z8uzQW"
   },
   "source": [
    "---\n",
    "\n",
    "### 辞書"
   ]
  },
  {
   "cell_type": "code",
   "execution_count": null,
   "metadata": {
    "colab": {
     "base_uri": "https://localhost:8080/"
    },
    "executionInfo": {
     "elapsed": 4,
     "status": "ok",
     "timestamp": 1682314205123,
     "user": {
      "displayName": "ryota nishiguchi",
      "userId": "17176417616353695325"
     },
     "user_tz": -540
    },
    "id": "ZO4sVw8su2wz",
    "outputId": "f5854b29-6f5c-4929-c4b3-569440f01844"
   },
   "outputs": [],
   "source": [
    "d = {\"h\":6.626e-34, \"c\":0} # {\"key1\":value1, · · · }のように書く\n",
    "print(d[\"h\"])              # Key=\"h\"のValueの取得\n",
    "d[\"c\"] = 2.998e+8          # Key=\"c\"のValueを変更\n",
    "d[\"e\"] = 1.602e-19         # {\"e\":1.602e-19}の要素を追加\n",
    "for key, value in d.items():\n",
    "    # itemsメソッドはkeyとvalueの組を取得. 反復処理に用いられる\n",
    "    print(key, value)"
   ]
  },
  {
   "cell_type": "markdown",
   "metadata": {
    "id": "z-jQHrqPspXu"
   },
   "source": [
    "---\n",
    "\n",
    "## 関数:def"
   ]
  },
  {
   "cell_type": "code",
   "execution_count": 4,
   "metadata": {
    "id": "wYQ8yJv3uk26"
   },
   "outputs": [],
   "source": [
    "def user_sum(x, y):\n",
    "    ans = x+y\n",
    "    return ans"
   ]
  },
  {
   "cell_type": "code",
   "execution_count": 5,
   "metadata": {
    "id": "bOYwzTnfv-nd"
   },
   "outputs": [],
   "source": [
    "user_sum(2, 3) # → 5\n",
    "ans = user_sum(1, 7) # ansに8を代入"
   ]
  },
  {
   "cell_type": "markdown",
   "metadata": {
    "id": "JtYl5npGwSFQ"
   },
   "source": [
    " - 引数の型を指定しないため、関数を引数にすることもできる。"
   ]
  },
  {
   "cell_type": "code",
   "execution_count": 6,
   "metadata": {
    "colab": {
     "base_uri": "https://localhost:8080/"
    },
    "executionInfo": {
     "elapsed": 271,
     "status": "ok",
     "timestamp": 1682314396792,
     "user": {
      "displayName": "ryota nishiguchi",
      "userId": "17176417616353695325"
     },
     "user_tz": -540
    },
    "id": "ubz65uWAwHfZ",
    "outputId": "d592cac2-4448-4bf6-d2b1-1295900c8aa5"
   },
   "outputs": [
    {
     "data": {
      "text/plain": [
       "7"
      ]
     },
     "execution_count": 6,
     "metadata": {},
     "output_type": "execute_result"
    }
   ],
   "source": [
    "def ope(func, vals):\n",
    "    return func(vals[0], vals[1])\n",
    "ope(user_sum, [3,4])"
   ]
  },
  {
   "cell_type": "markdown",
   "metadata": {
    "id": "4IDXwfGMwk-V"
   },
   "source": [
    " - デフォルト値を設定することができる"
   ]
  },
  {
   "cell_type": "code",
   "execution_count": 7,
   "metadata": {
    "colab": {
     "base_uri": "https://localhost:8080/",
     "height": 136
    },
    "executionInfo": {
     "elapsed": 295,
     "status": "error",
     "timestamp": 1682314501953,
     "user": {
      "displayName": "ryota nishiguchi",
      "userId": "17176417616353695325"
     },
     "user_tz": -540
    },
    "id": "CXbhCYTXweF-",
    "outputId": "ddb7075c-ccf2-4c98-9c42-ce4eaec341fd"
   },
   "outputs": [
    {
     "ename": "SyntaxError",
     "evalue": "positional argument follows keyword argument (<ipython-input-7-a58389f95d0f>, line 7)",
     "output_type": "error",
     "traceback": [
      "\u001b[1;36m  File \u001b[1;32m\"<ipython-input-7-a58389f95d0f>\"\u001b[1;36m, line \u001b[1;32m7\u001b[0m\n\u001b[1;33m    ans = func(3, y=2, 1)   # エラー\u001b[0m\n\u001b[1;37m                      ^\u001b[0m\n\u001b[1;31mSyntaxError\u001b[0m\u001b[1;31m:\u001b[0m positional argument follows keyword argument\n"
     ]
    }
   ],
   "source": [
    "def func(x, y=1, z=2):\n",
    "    return z * (x + y)\n",
    "ans = func(3, 4, 5)     # ansに5*(3+4)を代入\n",
    "ans = func(3)           # ansに2*(3+1)を代入\n",
    "ans = func(3, z=-1)     # ansに-(3+1)を代入\n",
    "ans = func(3, z=1, y=2) # ansに1*(3+2)を代入. 順番は変更可\n",
    "ans = func(3, y=2, 1)   # エラー\n",
    "# 一度引数を指定したら, その後の引数はすべて指定しなければならない"
   ]
  },
  {
   "cell_type": "markdown",
   "metadata": {
    "id": "EzJGWKg-spiS"
   },
   "source": [
    "---\n",
    "\n",
    "## 関数：lambda\n",
    "\n",
    " - 1行のみの関数を定義したい場合はlambda式を用いる方法がある。"
   ]
  },
  {
   "cell_type": "code",
   "execution_count": 5,
   "metadata": {
    "id": "3SZe5-GgxLOe"
   },
   "outputs": [],
   "source": [
    "func = lambda x, y=1, z=2: z*(x+y)"
   ]
  },
  {
   "cell_type": "code",
   "execution_count": 6,
   "metadata": {
    "colab": {
     "base_uri": "https://localhost:8080/"
    },
    "executionInfo": {
     "elapsed": 285,
     "status": "ok",
     "timestamp": 1682314832771,
     "user": {
      "displayName": "ryota nishiguchi",
      "userId": "17176417616353695325"
     },
     "user_tz": -540
    },
    "id": "QgywnrE_xp0r",
    "outputId": "9d5659ca-a23c-44b6-fa6b-c676e0f0e62d"
   },
   "outputs": [
    {
     "name": "stdout",
     "output_type": "stream",
     "text": [
      "22\n",
      "11\n"
     ]
    }
   ],
   "source": [
    "print(func(10))\n",
    "print(func(10,1,1))"
   ]
  },
  {
   "cell_type": "markdown",
   "metadata": {
    "id": "Z3MAvY2vspqu"
   },
   "source": [
    "---\n",
    "\n",
    "## 条件分岐と繰り返し処理\n",
    "\n",
    " - 条件分岐のif文、繰り返し処理のfor文は以下のとおり"
   ]
  },
  {
   "cell_type": "code",
   "execution_count": 7,
   "metadata": {
    "colab": {
     "base_uri": "https://localhost:8080/"
    },
    "executionInfo": {
     "elapsed": 266,
     "status": "ok",
     "timestamp": 1682314941529,
     "user": {
      "displayName": "ryota nishiguchi",
      "userId": "17176417616353695325"
     },
     "user_tz": -540
    },
    "id": "ln27zIUFyJuY",
    "outputId": "e00eb3c8-9913-4ed5-c755-acb970e841b4"
   },
   "outputs": [
    {
     "name": "stdout",
     "output_type": "stream",
     "text": [
      "0 even number\n",
      "1 odd number\n",
      "2 even number\n",
      "3 odd number\n",
      "4 even number\n",
      "5 odd number\n",
      "6 even number\n",
      "7 odd number\n",
      "8 even number\n",
      "9 odd number\n"
     ]
    }
   ],
   "source": [
    "for i in range(10):\n",
    "    if i % 2 == 0: # if 条件式:の形で用いる. Trueなら以下を実行\n",
    "        print(i, \"even number\")\n",
    "    else:          # Falseなら以下を実行. elif文で複数分岐も可能\n",
    "        print(i, \"odd number\")"
   ]
  },
  {
   "cell_type": "markdown",
   "metadata": {
    "id": "Ni-i1q_7spy7"
   },
   "source": [
    "---\n",
    "\n",
    "## リスト内包表記\n",
    "\n",
    " - for文、if文を用いたリスト作成方法と以下のような表記が用いられる。\n",
    " - このような書き方はリスト内包表記と呼ばれる。"
   ]
  },
  {
   "cell_type": "code",
   "execution_count": 8,
   "metadata": {
    "id": "vNrRQosvysVs"
   },
   "outputs": [],
   "source": [
    "a = [i for i in range(3)]              # リスト[0,1,2]を作成\n",
    "a = [i**2 for i in range(5) if i%2==0] # if文と組み合わせも可能"
   ]
  },
  {
   "cell_type": "markdown",
   "metadata": {
    "id": "u5rUqBUcsqTB"
   },
   "source": [
    "---\n",
    "\n",
    "## ファイル操作"
   ]
  },
  {
   "cell_type": "markdown",
   "metadata": {
    "id": "bQ0xVlrDzcRz"
   },
   "source": [
    " - ファイルの開き方"
   ]
  },
  {
   "cell_type": "code",
   "execution_count": 9,
   "metadata": {
    "id": "vhGvrv4PzWwF"
   },
   "outputs": [],
   "source": [
    "f = open(\"filename\",\"w\") # 書き込み用に開く\n",
    "f = open(\"filename\",\"r\") # 読み込み用に開く\n",
    "f = open(\"filename\",\"a\") # 追記用に開く."
   ]
  },
  {
   "cell_type": "markdown",
   "metadata": {
    "id": "gKlJDPxVzo9F"
   },
   "source": [
    " - ファイルへの書き込み"
   ]
  },
  {
   "cell_type": "code",
   "execution_count": 10,
   "metadata": {
    "id": "mgmWpEsuzoPV"
   },
   "outputs": [],
   "source": [
    "f = open(\"test.txt\",\"w\")\n",
    "f.write(\"Hello World\\n\") # 文字列を書き込む. \\nは改行を表す\n",
    "f.write(\"Hello {0}, {1}\\n\".format(\"Tokyo\",\"Japan\"))\n",
    "f.close() # openしたファイルは最後にcloseで閉じる必要がある"
   ]
  },
  {
   "cell_type": "markdown",
   "metadata": {
    "id": "Fah6XdNxzwE6"
   },
   "source": [
    " - 読み込み"
   ]
  },
  {
   "cell_type": "code",
   "execution_count": 11,
   "metadata": {
    "colab": {
     "base_uri": "https://localhost:8080/"
    },
    "executionInfo": {
     "elapsed": 291,
     "status": "ok",
     "timestamp": 1682315373662,
     "user": {
      "displayName": "ryota nishiguchi",
      "userId": "17176417616353695325"
     },
     "user_tz": -540
    },
    "id": "qQu2aftFzvdn",
    "outputId": "8ab6901a-053c-42d0-96da-1bc474a67baf"
   },
   "outputs": [
    {
     "name": "stdout",
     "output_type": "stream",
     "text": [
      "Hello World\n",
      "Hello Tokyo, Japan\n"
     ]
    }
   ],
   "source": [
    "with open(\"test.txt\") as f:  # open関数のデフォルトは\"r\"\n",
    "    for line in f:           # 1行ずつ読み込む\n",
    "        print(line.rstrip()) # rstrip()で文字列の右端を削除"
   ]
  },
  {
   "cell_type": "markdown",
   "metadata": {
    "id": "lXc5MS5s0B7B"
   },
   "source": [
    "---\n",
    "\n",
    "## クラスの基礎\n",
    "\n",
    " - クラスは奥が深いので詳しく理解する必要は無いが、以下の構文程度は感覚的に知っておいたほうが良い。"
   ]
  },
  {
   "cell_type": "code",
   "execution_count": 12,
   "metadata": {
    "id": "7DHQwfHo0NWg"
   },
   "outputs": [],
   "source": [
    "class Person:                 # Personというクラスを定義\n",
    "    def __init__(self, name): # インスタンス化の際に実行される\n",
    "        self.name = name\n",
    "    def __repr__(self):       # print文での出力結果を指定\n",
    "        return \"Name : \"+str(self.name)+\", Age : \"+str(self.age)\n",
    "    def set_age(self, age):   # age変数を設定するメソッド\n",
    "        self.age = age"
   ]
  },
  {
   "cell_type": "code",
   "execution_count": 13,
   "metadata": {
    "colab": {
     "base_uri": "https://localhost:8080/"
    },
    "executionInfo": {
     "elapsed": 273,
     "status": "ok",
     "timestamp": 1682315486874,
     "user": {
      "displayName": "ryota nishiguchi",
      "userId": "17176417616353695325"
     },
     "user_tz": -540
    },
    "id": "N3mKZq6m0RpL",
    "outputId": "e2046afb-795c-4fe8-9966-16335e916f99"
   },
   "outputs": [
    {
     "name": "stdout",
     "output_type": "stream",
     "text": [
      "Name : PhysicsTarou, Age : 30\n",
      "PhysicsTarou 30\n"
     ]
    }
   ],
   "source": [
    "TP = Person(\"PhysicsTarou\")   # クラスのインスタンス化.\n",
    "TP.set_age(30)                # メソッドの呼び出し\n",
    "print(TP)                     # __repr__で指定された出力をする\n",
    "print(TP.name, TP.age)        # メンバ変数を直接呼び出す"
   ]
  },
  {
   "cell_type": "markdown",
   "metadata": {
    "id": "gBRcO1BU1FS9"
   },
   "source": [
    "---\n",
    "\n",
    "## ライブラリの基礎\n",
    "\n",
    " - Pythonは、数多くのライブラリ（パッケージと呼ぶ）が公開されいる。この膨大なパッケージの存在が、Pythonが多くのユーザーに利用される理由である。\n",
    " - Pythonを使う上でパッケージの利用は必要不可欠である。\n",
    " - パッケージの呼び出し方法は次のとおりとなっている。"
   ]
  },
  {
   "cell_type": "code",
   "execution_count": 14,
   "metadata": {
    "id": "5o4AuRgB1K7X"
   },
   "outputs": [],
   "source": [
    "import numpy       # numpyパッケージを読み込む\n",
    "import numpy as np # numpyパッケージをnpという名前で読み込む\n",
    "from numpy import random\n",
    "    # numpyパッケージの中のrandomモジュールを読み込む\n",
    "import numpy.random\n",
    "    # 同じモジュールをnumpy.randomという名前で読み込む\n",
    "from numpy import * # numpyパッケージの全モジュールを読み込む"
   ]
  },
  {
   "cell_type": "markdown",
   "metadata": {
    "id": "yTA3B7Nj3Hzc"
   },
   "source": [
    "---\n",
    "\n",
    "### numpy\n",
    "\n",
    " - 数値計算を効率的に行なうための必須ライブラリ"
   ]
  },
  {
   "cell_type": "markdown",
   "metadata": {
    "id": "vd_RTDKA4u2y"
   },
   "source": [
    " - 下に示すnumpy用の配列（ndarrayと呼ばれる）はベクトル、行列などの多次元配列を示すことができ、数値計算では必要不可欠"
   ]
  },
  {
   "cell_type": "code",
   "execution_count": 15,
   "metadata": {
    "id": "U4XTI_G-3mMX"
   },
   "outputs": [],
   "source": [
    "import numpy as np\n",
    "a = np.array([1, 2, 3])"
   ]
  },
  {
   "cell_type": "markdown",
   "metadata": {
    "id": "XGHUWeZM5UL7"
   },
   "source": [
    " - ndarrayの操作"
   ]
  },
  {
   "cell_type": "code",
   "execution_count": 16,
   "metadata": {
    "id": "HQnM0bBG5Uva"
   },
   "outputs": [],
   "source": [
    "a = np.array([1, 2, 2, 4])\n",
    "b = np.array([5, 6, 7, 8])\n",
    "c = a[:3] # 0-2番目の要素を取り出す(スライス)\n",
    "          # スライスには様々な使い方がある\n",
    "          # a[1:3], a[::2], a[-1], a[::-1]なども確認してみよう\n",
    "d = np.append(a, b)     # 2つの配列の結合\n",
    "e = a.reshape(2, 2)     # 配列の形状を任意に変換\n",
    "f = e.flatten()         # 多次元配列を1次元配列に変換\n",
    "g = d.shape             # ndarrayの形状をタプルで取得 "
   ]
  },
  {
   "cell_type": "markdown",
   "metadata": {
    "id": "AtEshw_q50Aa"
   },
   "source": [
    " - ndarrayの演算"
   ]
  },
  {
   "cell_type": "code",
   "execution_count": 17,
   "metadata": {
    "id": "Nq-Y6iQT50gr"
   },
   "outputs": [],
   "source": [
    "m = 2.0*a              # 全ての要素に係数をかける.  \n",
    "n = a*b                # 要素ごとの積\n",
    "o = a**3               # 各要素のべき乗  \n",
    "p = np.dot(a,b)        # ベクトルの内積\n",
    "q = a + 1j*b           # 要素ごとの和. 複素数のndarrayに対して, \n",
    "  # np.conj(q)=a-1j*b, np.real(q)=a, np.imag(q)=bなどとなる\n",
    "r = a[:,None] + b[None,:]\n",
    "  # s_ij = a_i + b_jを要素とする2次元配列を所得する\n",
    "s = 2 + a \n",
    "  # スカラー量との加減算は2 => 2*np.ones(a.shape)と解釈される"
   ]
  },
  {
   "cell_type": "markdown",
   "metadata": {
    "id": "RzElAJ5y6DVE"
   },
   "source": [
    "---\n",
    "\n",
    "### matplotlib\n",
    "\n",
    " - Python用の可視化ツール\n",
    " - 詳細は[公式](https://matplotlib.org/)を参照"
   ]
  },
  {
   "cell_type": "code",
   "execution_count": 18,
   "metadata": {
    "colab": {
     "base_uri": "https://localhost:8080/",
     "height": 430
    },
    "executionInfo": {
     "elapsed": 1357,
     "status": "ok",
     "timestamp": 1682317163656,
     "user": {
      "displayName": "ryota nishiguchi",
      "userId": "17176417616353695325"
     },
     "user_tz": -540
    },
    "id": "vIuLDykx6q77",
    "outputId": "51c46d40-7900-4630-f535-484c899d5475"
   },
   "outputs": [
    {
     "data": {
      "image/png": "[encoded data removed]",
      "text/plain": [
       "<Figure size 432x288 with 1 Axes>"
      ]
     },
     "metadata": {
      "needs_background": "light"
     },
     "output_type": "display_data"
    }
   ],
   "source": [
    "import matplotlib.pyplot as plt\n",
    "import numpy as np\n",
    "x = np.linspace(0, 2*np.pi, 10)\n",
    "y = np.sin(x)             # プロットしたい1次元配列を準備\n",
    "plt.plot(x, y, color=\"red\", linestyle=\"dashed\", label=\"sin\")\n",
    "  # x, y座標のデータの他、色やスタイル、凡例の指定ができる\n",
    "plt.scatter(x, y, s=30, c=\"blue\")\n",
    "  # 散布図プロットにはscatterを用いる\n",
    "plt.legend()              # 凡例の表示\n",
    "plt.show()                # 描画"
   ]
  },
  {
   "cell_type": "code",
   "execution_count": 19,
   "metadata": {
    "colab": {
     "base_uri": "https://localhost:8080/",
     "height": 433
    },
    "executionInfo": {
     "elapsed": 1051,
     "status": "ok",
     "timestamp": 1682317172902,
     "user": {
      "displayName": "ryota nishiguchi",
      "userId": "17176417616353695325"
     },
     "user_tz": -540
    },
    "id": "5rCp_iME6tIk",
    "outputId": "3a40af02-3576-446f-b829-63a2b9fc983e"
   },
   "outputs": [
    {
     "data": {
      "image/png": "[encoded data removed]",
      "text/plain": [
       "<Figure size 432x288 with 2 Axes>"
      ]
     },
     "metadata": {
      "needs_background": "light"
     },
     "output_type": "display_data"
    }
   ],
   "source": [
    "a = np.linspace(0, 4*np.pi, 100)\n",
    "x, y = np.meshgrid(a, a)       # 2次元メッシュの生成\n",
    "z = np.sin(x) + 0.2*np.cos(y)  # プロットしたい配列の準備\n",
    "plt.imshow(z)\n",
    "plt.colorbar()                 # カラーバーを表示\n",
    "plt.show()"
   ]
  }
 ],
 "metadata": {
  "colab": {
   "authorship_tag": "ABX9TyPSiCwpTqnN4JsGt1/gMYUo",
   "provenance": [],
   "toc_visible": true
  },
  "kernelspec": {
   "display_name": "Python 3",
   "language": "python",
   "name": "python3"
  },
  "language_info": {
   "codemirror_mode": {
    "name": "ipython",
    "version": 3
   },
   "file_extension": ".py",
   "mimetype": "text/x-python",
   "name": "python",
   "nbconvert_exporter": "python",
   "pygments_lexer": "ipython3",
   "version": "3.7.10"
  },
  "toc": {
   "base_numbering": 1,
   "nav_menu": {},
   "number_sections": true,
   "sideBar": true,
   "skip_h1_title": false,
   "title_cell": "Table of Contents",
   "title_sidebar": "Contents",
   "toc_cell": true,
   "toc_position": {
    "height": "calc(100% - 180px)",
    "left": "10px",
    "top": "150px",
    "width": "214.333px"
   },
   "toc_section_display": true,
   "toc_window_display": true
  }
 },
 "nbformat": 4,
 "nbformat_minor": 1
}
